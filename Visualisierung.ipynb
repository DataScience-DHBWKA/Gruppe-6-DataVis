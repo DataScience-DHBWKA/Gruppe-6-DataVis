{
 "cells": [
  {
   "cell_type": "code",
   "execution_count": 68,
   "metadata": {},
   "outputs": [],
   "source": [
    "import pandas as pd\n",
    "import numpy as np\n",
    "import plotly.express as px\n",
    "import plotly.graph_objects as go"
   ]
  },
  {
   "cell_type": "code",
   "execution_count": 69,
   "metadata": {},
   "outputs": [
    {
     "data": {
      "text/html": [
       "<div>\n",
       "<style scoped>\n",
       "    .dataframe tbody tr th:only-of-type {\n",
       "        vertical-align: middle;\n",
       "    }\n",
       "\n",
       "    .dataframe tbody tr th {\n",
       "        vertical-align: top;\n",
       "    }\n",
       "\n",
       "    .dataframe thead th {\n",
       "        text-align: right;\n",
       "    }\n",
       "</style>\n",
       "<table border=\"1\" class=\"dataframe\">\n",
       "  <thead>\n",
       "    <tr style=\"text-align: right;\">\n",
       "      <th></th>\n",
       "      <th>Pokemon Id</th>\n",
       "      <th>Pokedex Number</th>\n",
       "      <th>Pokemon Name</th>\n",
       "      <th>Classification</th>\n",
       "      <th>Alternate Form Name</th>\n",
       "      <th>Original Pokemon ID</th>\n",
       "      <th>Legendary Type</th>\n",
       "      <th>Pokemon Height</th>\n",
       "      <th>Pokemon Weight</th>\n",
       "      <th>Primary Type</th>\n",
       "      <th>...</th>\n",
       "      <th>Speed EV</th>\n",
       "      <th>EV Yield Total</th>\n",
       "      <th>Catch Rate</th>\n",
       "      <th>Experience Growth</th>\n",
       "      <th>Experience Growth Total</th>\n",
       "      <th>Primary Egg Group</th>\n",
       "      <th>Secondary Egg Group</th>\n",
       "      <th>Egg Cycle Count</th>\n",
       "      <th>Pre-Evolution Pokemon Id</th>\n",
       "      <th>Evolution Details</th>\n",
       "    </tr>\n",
       "  </thead>\n",
       "  <tbody>\n",
       "    <tr>\n",
       "      <th>0</th>\n",
       "      <td>1</td>\n",
       "      <td>1</td>\n",
       "      <td>\"Bulbasaur\"</td>\n",
       "      <td>\"Seed Pokémon\"</td>\n",
       "      <td>NaN</td>\n",
       "      <td>NaN</td>\n",
       "      <td>NaN</td>\n",
       "      <td>0.7</td>\n",
       "      <td>6.9</td>\n",
       "      <td>\"Grass\"</td>\n",
       "      <td>...</td>\n",
       "      <td>0</td>\n",
       "      <td>1</td>\n",
       "      <td>45</td>\n",
       "      <td>\"Medium Slow\"</td>\n",
       "      <td>1059860</td>\n",
       "      <td>\"Monster\"</td>\n",
       "      <td>\"Grass\"</td>\n",
       "      <td>20</td>\n",
       "      <td>NaN</td>\n",
       "      <td>NaN</td>\n",
       "    </tr>\n",
       "    <tr>\n",
       "      <th>1</th>\n",
       "      <td>2</td>\n",
       "      <td>2</td>\n",
       "      <td>\"Ivysaur\"</td>\n",
       "      <td>\"Seed Pokémon\"</td>\n",
       "      <td>NaN</td>\n",
       "      <td>NaN</td>\n",
       "      <td>NaN</td>\n",
       "      <td>1.0</td>\n",
       "      <td>13.0</td>\n",
       "      <td>\"Grass\"</td>\n",
       "      <td>...</td>\n",
       "      <td>0</td>\n",
       "      <td>2</td>\n",
       "      <td>45</td>\n",
       "      <td>\"Medium Slow\"</td>\n",
       "      <td>1059860</td>\n",
       "      <td>\"Monster\"</td>\n",
       "      <td>\"Grass\"</td>\n",
       "      <td>20</td>\n",
       "      <td>1.0</td>\n",
       "      <td>\"Level 16\"</td>\n",
       "    </tr>\n",
       "    <tr>\n",
       "      <th>2</th>\n",
       "      <td>3</td>\n",
       "      <td>3</td>\n",
       "      <td>\"Venusaur\"</td>\n",
       "      <td>\"Seed Pokémon\"</td>\n",
       "      <td>NaN</td>\n",
       "      <td>NaN</td>\n",
       "      <td>NaN</td>\n",
       "      <td>2.0</td>\n",
       "      <td>100.0</td>\n",
       "      <td>\"Grass\"</td>\n",
       "      <td>...</td>\n",
       "      <td>0</td>\n",
       "      <td>3</td>\n",
       "      <td>45</td>\n",
       "      <td>\"Medium Slow\"</td>\n",
       "      <td>1059860</td>\n",
       "      <td>\"Monster\"</td>\n",
       "      <td>\"Grass\"</td>\n",
       "      <td>20</td>\n",
       "      <td>2.0</td>\n",
       "      <td>\"Level 32\"</td>\n",
       "    </tr>\n",
       "    <tr>\n",
       "      <th>3</th>\n",
       "      <td>4</td>\n",
       "      <td>3</td>\n",
       "      <td>\"Venusaur\"</td>\n",
       "      <td>\"Seed Pokémon\"</td>\n",
       "      <td>\"Mega\"</td>\n",
       "      <td>3.0</td>\n",
       "      <td>NaN</td>\n",
       "      <td>2.4</td>\n",
       "      <td>155.5</td>\n",
       "      <td>\"Grass\"</td>\n",
       "      <td>...</td>\n",
       "      <td>0</td>\n",
       "      <td>3</td>\n",
       "      <td>45</td>\n",
       "      <td>\"Medium Slow\"</td>\n",
       "      <td>1059860</td>\n",
       "      <td>\"Monster\"</td>\n",
       "      <td>\"Grass\"</td>\n",
       "      <td>20</td>\n",
       "      <td>NaN</td>\n",
       "      <td>NaN</td>\n",
       "    </tr>\n",
       "    <tr>\n",
       "      <th>4</th>\n",
       "      <td>1526</td>\n",
       "      <td>3</td>\n",
       "      <td>\"Venusaur\"</td>\n",
       "      <td>\"Seed Pokémon\"</td>\n",
       "      <td>\"Gigantamax\"</td>\n",
       "      <td>3.0</td>\n",
       "      <td>NaN</td>\n",
       "      <td>24.0</td>\n",
       "      <td>0.0</td>\n",
       "      <td>\"Grass\"</td>\n",
       "      <td>...</td>\n",
       "      <td>0</td>\n",
       "      <td>3</td>\n",
       "      <td>45</td>\n",
       "      <td>\"Medium Slow\"</td>\n",
       "      <td>1059860</td>\n",
       "      <td>\"Monster\"</td>\n",
       "      <td>\"Grass\"</td>\n",
       "      <td>20</td>\n",
       "      <td>NaN</td>\n",
       "      <td>NaN</td>\n",
       "    </tr>\n",
       "  </tbody>\n",
       "</table>\n",
       "<p>5 rows × 45 columns</p>\n",
       "</div>"
      ],
      "text/plain": [
       "   Pokemon Id  Pokedex Number Pokemon Name  Classification  \\\n",
       "0           1               1  \"Bulbasaur\"  \"Seed Pokémon\"   \n",
       "1           2               2    \"Ivysaur\"  \"Seed Pokémon\"   \n",
       "2           3               3   \"Venusaur\"  \"Seed Pokémon\"   \n",
       "3           4               3   \"Venusaur\"  \"Seed Pokémon\"   \n",
       "4        1526               3   \"Venusaur\"  \"Seed Pokémon\"   \n",
       "\n",
       "  Alternate Form Name  Original Pokemon ID Legendary Type  Pokemon Height  \\\n",
       "0                 NaN                  NaN            NaN             0.7   \n",
       "1                 NaN                  NaN            NaN             1.0   \n",
       "2                 NaN                  NaN            NaN             2.0   \n",
       "3              \"Mega\"                  3.0            NaN             2.4   \n",
       "4        \"Gigantamax\"                  3.0            NaN            24.0   \n",
       "\n",
       "   Pokemon Weight Primary Type  ... Speed EV EV Yield Total Catch Rate  \\\n",
       "0             6.9      \"Grass\"  ...        0              1         45   \n",
       "1            13.0      \"Grass\"  ...        0              2         45   \n",
       "2           100.0      \"Grass\"  ...        0              3         45   \n",
       "3           155.5      \"Grass\"  ...        0              3         45   \n",
       "4             0.0      \"Grass\"  ...        0              3         45   \n",
       "\n",
       "  Experience Growth Experience Growth Total Primary Egg Group  \\\n",
       "0     \"Medium Slow\"                 1059860         \"Monster\"   \n",
       "1     \"Medium Slow\"                 1059860         \"Monster\"   \n",
       "2     \"Medium Slow\"                 1059860         \"Monster\"   \n",
       "3     \"Medium Slow\"                 1059860         \"Monster\"   \n",
       "4     \"Medium Slow\"                 1059860         \"Monster\"   \n",
       "\n",
       "  Secondary Egg Group Egg Cycle Count Pre-Evolution Pokemon Id  \\\n",
       "0             \"Grass\"              20                      NaN   \n",
       "1             \"Grass\"              20                      1.0   \n",
       "2             \"Grass\"              20                      2.0   \n",
       "3             \"Grass\"              20                      NaN   \n",
       "4             \"Grass\"              20                      NaN   \n",
       "\n",
       "   Evolution Details  \n",
       "0                NaN  \n",
       "1         \"Level 16\"  \n",
       "2         \"Level 32\"  \n",
       "3                NaN  \n",
       "4                NaN  \n",
       "\n",
       "[5 rows x 45 columns]"
      ]
     },
     "execution_count": 69,
     "metadata": {},
     "output_type": "execute_result"
    }
   ],
   "source": [
    "df = pd.read_csv('./Datensatz/PokemonDatabase.csv')\n",
    "df.head()\n"
   ]
  },
  {
   "cell_type": "code",
   "execution_count": 70,
   "metadata": {},
   "outputs": [
    {
     "data": {
      "application/vnd.plotly.v1+json": {
       "config": {
        "plotlyServerURL": "https://plot.ly"
       },
       "data": [
        {
         "domain": {
          "x": [
           0,
           1
          ],
          "y": [
           0,
           1
          ]
         },
         "hovertemplate": "Primary Type=%{label}<extra></extra>",
         "labels": [
          "\"Grass\"",
          "\"Grass\"",
          "\"Grass\"",
          "\"Grass\"",
          "\"Grass\"",
          "\"Fire\"",
          "\"Fire\"",
          "\"Fire\"",
          "\"Fire\"",
          "\"Fire\"",
          "\"Fire\"",
          "\"Water\"",
          "\"Water\"",
          "\"Water\"",
          "\"Water\"",
          "\"Water\"",
          "\"Bug\"",
          "\"Bug\"",
          "\"Bug\"",
          "\"Bug\"",
          "\"Bug\"",
          "\"Bug\"",
          "\"Bug\"",
          "\"Bug\"",
          "\"Normal\"",
          "\"Normal\"",
          "\"Normal\"",
          "\"Normal\"",
          "\"Normal\"",
          "\"Dark\"",
          "\"Normal\"",
          "\"Dark\"",
          "\"Normal\"",
          "\"Normal\"",
          "\"Poison\"",
          "\"Poison\"",
          "\"Electric\"",
          "\"Electric\"",
          "\"Electric\"",
          "\"Electric\"",
          "\"Electric\"",
          "\"Electric\"",
          "\"Electric\"",
          "\"Electric\"",
          "\"Ground\"",
          "\"Ice\"",
          "\"Ground\"",
          "\"Ice\"",
          "\"Poison\"",
          "\"Poison\"",
          "\"Poison\"",
          "\"Poison\"",
          "\"Poison\"",
          "\"Poison\"",
          "\"Fairy\"",
          "\"Fairy\"",
          "\"Fire\"",
          "\"Ice\"",
          "\"Fire\"",
          "\"Ice\"",
          "\"Normal\"",
          "\"Normal\"",
          "\"Poison\"",
          "\"Poison\"",
          "\"Grass\"",
          "\"Grass\"",
          "\"Grass\"",
          "\"Bug\"",
          "\"Bug\"",
          "\"Bug\"",
          "\"Bug\"",
          "\"Ground\"",
          "\"Ground\"",
          "\"Ground\"",
          "\"Ground\"",
          "\"Normal\"",
          "\"Dark\"",
          "\"Steel\"",
          "\"Normal\"",
          "\"Normal\"",
          "\"Dark\"",
          "\"Water\"",
          "\"Water\"",
          "\"Fighting\"",
          "\"Fighting\"",
          "\"Fire\"",
          "\"Fire\"",
          "\"Fire\"",
          "\"Fire\"",
          "\"Water\"",
          "\"Water\"",
          "\"Water\"",
          "\"Psychic\"",
          "\"Psychic\"",
          "\"Psychic\"",
          "\"Psychic\"",
          "\"Psychic\"",
          "\"Fighting\"",
          "\"Fighting\"",
          "\"Fighting\"",
          "\"Fighting\"",
          "\"Fighting\"",
          "\"Grass\"",
          "\"Grass\"",
          "\"Grass\"",
          "\"Water\"",
          "\"Water\"",
          "\"Rock\"",
          "\"Rock\"",
          "\"Rock\"",
          "\"Rock\"",
          "\"Rock\"",
          "\"Rock\"",
          "\"Rock\"",
          "\"Psychic\"",
          "\"Fire\"",
          "\"Fire\"",
          "\"Psychic\"",
          "\"Psychic\"",
          "\"Water\"",
          "\"Water\"",
          "\"Poison\"",
          "\"Water\"",
          "\"Electric\"",
          "\"Electric\"",
          "\"Normal\"",
          "\"Fighting\"",
          "\"Normal\"",
          "\"Normal\"",
          "\"Water\"",
          "\"Water\"",
          "\"Poison\"",
          "\"Poison\"",
          "\"Poison\"",
          "\"Poison\"",
          "\"Water\"",
          "\"Water\"",
          "\"Ghost\"",
          "\"Ghost\"",
          "\"Ghost\"",
          "\"Ghost\"",
          "\"Ghost\"",
          "\"Ghost\"",
          "\"Rock\"",
          "\"Psychic\"",
          "\"Psychic\"",
          "\"Water\"",
          "\"Water\"",
          "\"Water\"",
          "\"Electric\"",
          "\"Electric\"",
          "\"Electric\"",
          "\"Electric\"",
          "\"Grass\"",
          "\"Grass\"",
          "\"Grass\"",
          "\"Grass\"",
          "\"Grass\"",
          "\"Grass\"",
          "\"Ground\"",
          "\"Ground\"",
          "\"Ground\"",
          "\"Ground\"",
          "\"Ghost\"",
          "\"Ghost\"",
          "\"Fighting\"",
          "\"Fighting\"",
          "\"Normal\"",
          "\"Poison\"",
          "\"Poison\"",
          "\"Poison\"",
          "\"Ground\"",
          "\"Ground\"",
          "\"Normal\"",
          "\"Grass\"",
          "\"Normal\"",
          "\"Normal\"",
          "\"Water\"",
          "\"Water\"",
          "\"Water\"",
          "\"Water\"",
          "\"Water\"",
          "\"Water\"",
          "\"Psychic\"",
          "\"Ice\"",
          "\"Bug\"",
          "\"Ice\"",
          "\"Electric\"",
          "\"Fire\"",
          "\"Bug\"",
          "\"Bug\"",
          "\"Normal\"",
          "\"Fighting\"",
          "\"Fighting\"",
          "\"Fighting\"",
          "\"Water\"",
          "\"Water\"",
          "\"Water\"",
          "\"Water\"",
          "\"Water\"",
          "\"Normal\"",
          "\"Normal\"",
          "\"Normal\"",
          "\"Normal\"",
          "\"Water\"",
          "\"Electric\"",
          "\"Fire\"",
          "\"Normal\"",
          "\"Rock\"",
          "\"Rock\"",
          "\"Rock\"",
          "\"Rock\"",
          "\"Rock\"",
          "\"Rock\"",
          "\"Normal\"",
          "\"Normal\"",
          "\"Ice\"",
          "\"Psychic\"",
          "\"Electric\"",
          "\"Fighting\"",
          "\"Fire\"",
          "\"Dark\"",
          "\"Dragon\"",
          "\"Dragon\"",
          "\"Dragon\"",
          "\"Psychic\"",
          "\"Psychic\"",
          "\"Psychic\"",
          "\"Psychic\"",
          "\"Grass\"",
          "\"Grass\"",
          "\"Grass\"",
          "\"Fire\"",
          "\"Fire\"",
          "\"Fire\"",
          "\"Fire\"",
          "\"Fire\"",
          "\"Water\"",
          "\"Water\"",
          "\"Water\"",
          "\"Normal\"",
          "\"Normal\"",
          "\"Normal\"",
          "\"Normal\"",
          "\"Bug\"",
          "\"Bug\"",
          "\"Bug\"",
          "\"Bug\"",
          "\"Poison\"",
          "\"Water\"",
          "\"Water\"",
          "\"Electric\"",
          "\"Fairy\"",
          "\"Normal\"",
          "\"Fairy\"",
          "\"Fairy\"",
          "\"Psychic\"",
          "\"Psychic\"",
          "\"Electric\"",
          "\"Electric\"",
          "\"Electric\"",
          "\"Electric\"",
          "\"Grass\"",
          "\"Water\"",
          "\"Water\"",
          "\"Rock\"",
          "\"Water\"",
          "\"Grass\"",
          "\"Grass\"",
          "\"Grass\"",
          "\"Normal\"",
          "\"Grass\"",
          "\"Grass\"",
          "\"Bug\"",
          "\"Water\"",
          "\"Poison\"",
          "\"Water\"",
          "\"Psychic\"",
          "\"Dark\"",
          "\"Dark\"",
          "\"Water\"",
          "\"Poison\"",
          "\"Ghost\"",
          "\"Psychic\"",
          "\"Psychic\"",
          "\"Psychic\"",
          "\"Psychic\"",
          "\"Psychic\"",
          "\"Psychic\"",
          "\"Psychic\"",
          "\"Psychic\"",
          "\"Psychic\"",
          "\"Psychic\"",
          "\"Psychic\"",
          "\"Psychic\"",
          "\"Psychic\"",
          "\"Psychic\"",
          "\"Psychic\"",
          "\"Psychic\"",
          "\"Psychic\"",
          "\"Psychic\"",
          "\"Psychic\"",
          "\"Psychic\"",
          "\"Psychic\"",
          "\"Psychic\"",
          "\"Psychic\"",
          "\"Psychic\"",
          "\"Psychic\"",
          "\"Psychic\"",
          "\"Psychic\"",
          "\"Psychic\"",
          "\"Psychic\"",
          "\"Normal\"",
          "\"Bug\"",
          "\"Bug\"",
          "\"Normal\"",
          "\"Ground\"",
          "\"Steel\"",
          "\"Steel\"",
          "\"Fairy\"",
          "\"Fairy\"",
          "\"Water\"",
          "\"Dark\"",
          "\"Bug\"",
          "\"Bug\"",
          "\"Bug\"",
          "\"Bug\"",
          "\"Bug\"",
          "\"Dark\"",
          "\"Fighting\"",
          "\"Normal\"",
          "\"Normal\"",
          "\"Fire\"",
          "\"Fire\"",
          "\"Ice\"",
          "\"Ice\"",
          "\"Water\"",
          "\"Ghost\"",
          "\"Water\"",
          "\"Water\"",
          "\"Ice\"",
          "\"Water\"",
          "\"Steel\"",
          "\"Dark\"",
          "\"Dark\"",
          "\"Dark\"",
          "\"Water\"",
          "\"Ground\"",
          "\"Ground\"",
          "\"Normal\"",
          "\"Normal\"",
          "\"Normal\"",
          "\"Fighting\"",
          "\"Fighting\"",
          "\"Ice\"",
          "\"Electric\"",
          "\"Fire\"",
          "\"Normal\"",
          "\"Normal\"",
          "\"Electric\"",
          "\"Fire\"",
          "\"Water\"",
          "\"Rock\"",
          "\"Rock\"",
          "\"Rock\"",
          "\"Rock\"",
          "\"Psychic\"",
          "\"Fire\"",
          "\"Psychic\"",
          "\"Grass\"",
          "\"Grass\"",
          "\"Grass\"",
          "\"Grass\"",
          "\"Fire\"",
          "\"Fire\"",
          "\"Fire\"",
          "\"Fire\"",
          "\"Water\"",
          "\"Water\"",
          "\"Water\"",
          "\"Water\"",
          "\"Dark\"",
          "\"Dark\"",
          "\"Normal\"",
          "\"Dark\"",
          "\"Normal\"",
          "\"Dark\"",
          "\"Bug\"",
          "\"Bug\"",
          "\"Bug\"",
          "\"Bug\"",
          "\"Bug\"",
          "\"Water\"",
          "\"Water\"",
          "\"Water\"",
          "\"Grass\"",
          "\"Grass\"",
          "\"Grass\"",
          "\"Normal\"",
          "\"Normal\"",
          "\"Water\"",
          "\"Water\"",
          "\"Psychic\"",
          "\"Psychic\"",
          "\"Psychic\"",
          "\"Psychic\"",
          "\"Bug\"",
          "\"Bug\"",
          "\"Grass\"",
          "\"Grass\"",
          "\"Normal\"",
          "\"Normal\"",
          "\"Normal\"",
          "\"Bug\"",
          "\"Bug\"",
          "\"Bug\"",
          "\"Normal\"",
          "\"Normal\"",
          "\"Normal\"",
          "\"Fighting\"",
          "\"Fighting\"",
          "\"Normal\"",
          "\"Rock\"",
          "\"Normal\"",
          "\"Normal\"",
          "\"Dark\"",
          "\"Dark\"",
          "\"Steel\"",
          "\"Steel\"",
          "\"Steel\"",
          "\"Steel\"",
          "\"Steel\"",
          "\"Steel\"",
          "\"Fighting\"",
          "\"Fighting\"",
          "\"Fighting\"",
          "\"Electric\"",
          "\"Electric\"",
          "\"Electric\"",
          "\"Electric\"",
          "\"Electric\"",
          "\"Bug\"",
          "\"Bug\"",
          "\"Grass\"",
          "\"Poison\"",
          "\"Poison\"",
          "\"Water\"",
          "\"Water\"",
          "\"Water\"",
          "\"Water\"",
          "\"Water\"",
          "\"Fire\"",
          "\"Fire\"",
          "\"Fire\"",
          "\"Fire\"",
          "\"Psychic\"",
          "\"Psychic\"",
          "\"Normal\"",
          "\"Ground\"",
          "\"Ground\"",
          "\"Ground\"",
          "\"Grass\"",
          "\"Grass\"",
          "\"Normal\"",
          "\"Dragon\"",
          "\"Dragon\"",
          "\"Normal\"",
          "\"Poison\"",
          "\"Rock\"",
          "\"Rock\"",
          "\"Water\"",
          "\"Water\"",
          "\"Water\"",
          "\"Water\"",
          "\"Ground\"",
          "\"Ground\"",
          "\"Rock\"",
          "\"Rock\"",
          "\"Rock\"",
          "\"Rock\"",
          "\"Water\"",
          "\"Water\"",
          "\"Water\"",
          "\"Normal\"",
          "\"Fire\"",
          "\"Water\"",
          "\"Ice\"",
          "\"Normal\"",
          "\"Ghost\"",
          "\"Ghost\"",
          "\"Ghost\"",
          "\"Ghost\"",
          "\"Ghost\"",
          "\"Grass\"",
          "\"Psychic\"",
          "\"Dark\"",
          "\"Dark\"",
          "\"Psychic\"",
          "\"Ice\"",
          "\"Ice\"",
          "\"Ice\"",
          "\"Ice\"",
          "\"Ice\"",
          "\"Ice\"",
          "\"Water\"",
          "\"Water\"",
          "\"Water\"",
          "\"Water\"",
          "\"Water\"",
          "\"Dragon\"",
          "\"Dragon\"",
          "\"Dragon\"",
          "\"Dragon\"",
          "\"Steel\"",
          "\"Steel\"",
          "\"Steel\"",
          "\"Steel\"",
          "\"Rock\"",
          "\"Ice\"",
          "\"Steel\"",
          "\"Dragon\"",
          "\"Dragon\"",
          "\"Dragon\"",
          "\"Dragon\"",
          "\"Water\"",
          "\"Water\"",
          "\"Ground\"",
          "\"Ground\"",
          "\"Dragon\"",
          "\"Dragon\"",
          "\"Steel\"",
          "\"Psychic\"",
          "\"Psychic\"",
          "\"Psychic\"",
          "\"Psychic\"",
          "\"Grass\"",
          "\"Grass\"",
          "\"Grass\"",
          "\"Fire\"",
          "\"Fire\"",
          "\"Fire\"",
          "\"Water\"",
          "\"Water\"",
          "\"Water\"",
          "\"Normal\"",
          "\"Normal\"",
          "\"Normal\"",
          "\"Normal\"",
          "\"Normal\"",
          "\"Bug\"",
          "\"Bug\"",
          "\"Electric\"",
          "\"Electric\"",
          "\"Electric\"",
          "\"Grass\"",
          "\"Grass\"",
          "\"Rock\"",
          "\"Rock\"",
          "\"Rock\"",
          "\"Rock\"",
          "\"Bug\"",
          "\"Bug\"",
          "\"Bug\"",
          "\"Bug\"",
          "\"Bug\"",
          "\"Bug\"",
          "\"Bug\"",
          "\"Bug\"",
          "\"Bug\"",
          "\"Bug\"",
          "\"Bug\"",
          "\"Electric\"",
          "\"Water\"",
          "\"Water\"",
          "\"Grass\"",
          "\"Grass\"",
          "\"Water\"",
          "\"Water\"",
          "\"Water\"",
          "\"Water\"",
          "\"Normal\"",
          "\"Ghost\"",
          "\"Ghost\"",
          "\"Normal\"",
          "\"Normal\"",
          "\"Normal\"",
          "\"Ghost\"",
          "\"Dark\"",
          "\"Normal\"",
          "\"Normal\"",
          "\"Psychic\"",
          "\"Poison\"",
          "\"Poison\"",
          "\"Steel\"",
          "\"Steel\"",
          "\"Rock\"",
          "\"Psychic\"",
          "\"Normal\"",
          "\"Normal\"",
          "\"Ghost\"",
          "\"Dragon\"",
          "\"Dragon\"",
          "\"Dragon\"",
          "\"Dragon\"",
          "\"Normal\"",
          "\"Fighting\"",
          "\"Fighting\"",
          "\"Fighting\"",
          "\"Ground\"",
          "\"Ground\"",
          "\"Poison\"",
          "\"Poison\"",
          "\"Poison\"",
          "\"Poison\"",
          "\"Grass\"",
          "\"Water\"",
          "\"Water\"",
          "\"Water\"",
          "\"Grass\"",
          "\"Grass\"",
          "\"Grass\"",
          "\"Dark\"",
          "\"Electric\"",
          "\"Electric\"",
          "\"Normal\"",
          "\"Ground\"",
          "\"Grass\"",
          "\"Electric\"",
          "\"Fire\"",
          "\"Fairy\"",
          "\"Bug\"",
          "\"Grass\"",
          "\"Grass\"",
          "\"Ice\"",
          "\"Ice\"",
          "\"Ground\"",
          "\"Ice\"",
          "\"Normal\"",
          "\"Psychic\"",
          "\"Psychic\"",
          "\"Rock\"",
          "\"Rock\"",
          "\"Ghost\"",
          "\"Ice\"",
          "\"Electric\"",
          "\"Electric\"",
          "\"Electric\"",
          "\"Electric\"",
          "\"Electric\"",
          "\"Electric\"",
          "\"Psychic\"",
          "\"Psychic\"",
          "\"Psychic\"",
          "\"Steel\"",
          "\"Steel\"",
          "\"Water\"",
          "\"Water\"",
          "\"Fire\"",
          "\"Normal\"",
          "\"Ghost\"",
          "\"Ghost\"",
          "\"Psychic\"",
          "\"Water\"",
          "\"Water\"",
          "\"Dark\"",
          "\"Grass\"",
          "\"Grass\"",
          "\"Normal\"",
          "\"Psychic\"",
          "\"Grass\"",
          "\"Grass\"",
          "\"Grass\"",
          "\"Fire\"",
          "\"Fire\"",
          "\"Fire\"",
          "\"Water\"",
          "\"Water\"",
          "\"Water\"",
          "\"Water\"",
          "\"Water\"",
          "\"Normal\"",
          "\"Normal\"",
          "\"Normal\"",
          "\"Normal\"",
          "\"Normal\"",
          "\"Dark\"",
          "\"Dark\"",
          "\"Grass\"",
          "\"Grass\"",
          "\"Fire\"",
          "\"Fire\"",
          "\"Water\"",
          "\"Water\"",
          "\"Psychic\"",
          "\"Psychic\"",
          "\"Normal\"",
          "\"Normal\"",
          "\"Normal\"",
          "\"Electric\"",
          "\"Electric\"",
          "\"Rock\"",
          "\"Rock\"",
          "\"Rock\"",
          "\"Psychic\"",
          "\"Psychic\"",
          "\"Ground\"",
          "\"Ground\"",
          "\"Normal\"",
          "\"Normal\"",
          "\"Fighting\"",
          "\"Fighting\"",
          "\"Fighting\"",
          "\"Water\"",
          "\"Water\"",
          "\"Water\"",
          "\"Fighting\"",
          "\"Fighting\"",
          "\"Bug\"",
          "\"Bug\"",
          "\"Bug\"",
          "\"Bug\"",
          "\"Bug\"",
          "\"Bug\"",
          "\"Grass\"",
          "\"Grass\"",
          "\"Grass\"",
          "\"Grass\"",
          "\"Grass\"",
          "\"Grass\"",
          "\"Water\"",
          "\"Water\"",
          "\"Water\"",
          "\"Ground\"",
          "\"Ground\"",
          "\"Ground\"",
          "\"Fire\"",
          "\"Ice\"",
          "\"Fire\"",
          "\"Fire\"",
          "\"Ice\"",
          "\"Ice\"",
          "\"Grass\"",
          "\"Bug\"",
          "\"Bug\"",
          "\"Dark\"",
          "\"Dark\"",
          "\"Psychic\"",
          "\"Ghost\"",
          "\"Ground\"",
          "\"Ghost\"",
          "\"Water\"",
          "\"Water\"",
          "\"Rock\"",
          "\"Rock\"",
          "\"Poison\"",
          "\"Poison\"",
          "\"Poison\"",
          "\"Dark\"",
          "\"Normal\"",
          "\"Dark\"",
          "\"Normal\"",
          "\"Normal\"",
          "\"Normal\"",
          "\"Psychic\"",
          "\"Psychic\"",
          "\"Psychic\"",
          "\"Psychic\"",
          "\"Psychic\"",
          "\"Psychic\"",
          "\"Water\"",
          "\"Water\"",
          "\"Ice\"",
          "\"Ice\"",
          "\"Ice\"",
          "\"Normal\"",
          "\"Normal\"",
          "\"Normal\"",
          "\"Normal\"",
          "\"Normal\"",
          "\"Normal\"",
          "\"Normal\"",
          "\"Normal\"",
          "\"Electric\"",
          "\"Bug\"",
          "\"Bug\"",
          "\"Grass\"",
          "\"Grass\"",
          "\"Water\"",
          "\"Water\"",
          "\"Water\"",
          "\"Bug\"",
          "\"Bug\"",
          "\"Grass\"",
          "\"Grass\"",
          "\"Steel\"",
          "\"Steel\"",
          "\"Steel\"",
          "\"Electric\"",
          "\"Electric\"",
          "\"Electric\"",
          "\"Psychic\"",
          "\"Psychic\"",
          "\"Ghost\"",
          "\"Ghost\"",
          "\"Ghost\"",
          "\"Dragon\"",
          "\"Dragon\"",
          "\"Dragon\"",
          "\"Ice\"",
          "\"Ice\"",
          "\"Ice\"",
          "\"Bug\"",
          "\"Bug\"",
          "\"Ground\"",
          "\"Ground\"",
          "\"Fighting\"",
          "\"Fighting\"",
          "\"Dragon\"",
          "\"Ground\"",
          "\"Ground\"",
          "\"Dark\"",
          "\"Dark\"",
          "\"Normal\"",
          "\"Normal\"",
          "\"Normal\"",
          "\"Psychic\"",
          "\"Psychic\"",
          "\"Dark\"",
          "\"Dark\"",
          "\"Fire\"",
          "\"Bug\"",
          "\"Dark\"",
          "\"Dark\"",
          "\"Dark\"",
          "\"Bug\"",
          "\"Bug\"",
          "\"Steel\"",
          "\"Rock\"",
          "\"Grass\"",
          "\"Flying\"",
          "\"Flying\"",
          "\"Electric\"",
          "\"Electric\"",
          "\"Dragon\"",
          "\"Dragon\"",
          "\"Ground\"",
          "\"Ground\"",
          "\"Dragon\"",
          "\"Dragon\"",
          "\"Dragon\"",
          "\"Water\"",
          "\"Water\"",
          "\"Normal\"",
          "\"Normal\"",
          "\"Bug\"",
          "\"Grass\"",
          "\"Grass\"",
          "\"Grass\"",
          "\"Fire\"",
          "\"Fire\"",
          "\"Fire\"",
          "\"Water\"",
          "\"Water\"",
          "\"Water\"",
          "\"Water\"",
          "\"Normal\"",
          "\"Normal\"",
          "\"Normal\"",
          "\"Fire\"",
          "\"Fire\"",
          "\"Bug\"",
          "\"Bug\"",
          "\"Bug\"",
          "\"Bug\"",
          "\"Bug\"",
          "\"Bug\"",
          "\"Bug\"",
          "\"Bug\"",
          "\"Bug\"",
          "\"Bug\"",
          "\"Bug\"",
          "\"Bug\"",
          "\"Bug\"",
          "\"Bug\"",
          "\"Bug\"",
          "\"Bug\"",
          "\"Bug\"",
          "\"Bug\"",
          "\"Bug\"",
          "\"Bug\"",
          "\"Bug\"",
          "\"Bug\"",
          "\"Fire\"",
          "\"Fire\"",
          "\"Fairy\"",
          "\"Fairy\"",
          "\"Fairy\"",
          "\"Fairy\"",
          "\"Fairy\"",
          "\"Fairy\"",
          "\"Fairy\"",
          "\"Fairy\"",
          "\"Fairy\"",
          "\"Fairy\"",
          "\"Fairy\"",
          "\"Fairy\"",
          "\"Fairy\"",
          "\"Fairy\"",
          "\"Fairy\"",
          "\"Grass\"",
          "\"Grass\"",
          "\"Fighting\"",
          "\"Fighting\"",
          "\"Normal\"",
          "\"Normal\"",
          "\"Normal\"",
          "\"Normal\"",
          "\"Normal\"",
          "\"Normal\"",
          "\"Normal\"",
          "\"Normal\"",
          "\"Normal\"",
          "\"Normal\"",
          "\"Psychic\"",
          "\"Psychic\"",
          "\"Psychic\"",
          "\"Steel\"",
          "\"Steel\"",
          "\"Steel\"",
          "\"Steel\"",
          "\"Fairy\"",
          "\"Fairy\"",
          "\"Fairy\"",
          "\"Fairy\"",
          "\"Dark\"",
          "\"Dark\"",
          "\"Rock\"",
          "\"Rock\"",
          "\"Poison\"",
          "\"Poison\"",
          "\"Water\"",
          "\"Water\"",
          "\"Electric\"",
          "\"Electric\"",
          "\"Rock\"",
          "\"Rock\"",
          "\"Rock\"",
          "\"Rock\"",
          "\"Fairy\"",
          "\"Fairy\"",
          "\"Fighting\"",
          "\"Electric\"",
          "\"Rock\"",
          "\"Dragon\"",
          "\"Dragon\"",
          "\"Steel\"",
          "\"Steel\"",
          "\"Dragon\"",
          "\"Steel\"",
          "\"Steel\"",
          "\"Ghost\"",
          "\"Ghost\"",
          "\"Ghost\"",
          "\"Ghost\"",
          "\"Ghost\"",
          "\"Ghost\"",
          "\"Ghost\"",
          "\"Ghost\"",
          "\"Ghost\"",
          "\"Ghost\"",
          "\"Ice\"",
          "\"Ice\"",
          "\"Ice\"",
          "\"Ice\"",
          "\"Flying\"",
          "\"Flying\"",
          "\"Fairy\"",
          "\"Dark\"",
          "\"Dragon\"",
          "\"Dragon\"",
          "\"Dragon\"",
          "\"Rock\"",
          "\"Rock\"",
          "\"Psychic\"",
          "\"Psychic\"",
          "\"Fire\"",
          "\"Grass\"",
          "\"Grass\"",
          "\"Grass\"",
          "\"Grass\"",
          "\"Grass\"",
          "\"Fire\"",
          "\"Fire\"",
          "\"Fire\"",
          "\"Water\"",
          "\"Water\"",
          "\"Water\"",
          "\"Normal\"",
          "\"Normal\"",
          "\"Normal\"",
          "\"Normal\"",
          "\"Normal\"",
          "\"Bug\"",
          "\"Bug\"",
          "\"Bug\"",
          "\"Bug\"",
          "\"Fighting\"",
          "\"Fighting\"",
          "\"Fighting\"",
          "\"Fire\"",
          "\"Electric\"",
          "\"Psychic\"",
          "\"Ghost\"",
          "\"Bug\"",
          "\"Bug\"",
          "\"Rock\"",
          "\"Rock\"",
          "\"Rock\"",
          "\"Rock\"",
          "\"Water\"",
          "\"Water\"",
          "\"Poison\"",
          "\"Poison\"",
          "\"Ground\"",
          "\"Ground\"",
          "\"Water\"",
          "\"Water\"",
          "\"Grass\"",
          "\"Grass\"",
          "\"Grass\"",
          "\"Grass\"",
          "\"Poison\"",
          "\"Poison\"",
          "\"Normal\"",
          "\"Normal\"",
          "\"Grass\"",
          "\"Grass\"",
          "\"Grass\"",
          "\"Fairy\"",
          "\"Normal\"",
          "\"Fighting\"",
          "\"Bug\"",
          "\"Bug\"",
          "\"Ghost\"",
          "\"Ghost\"",
          "\"Water\"",
          "\"Normal\"",
          "\"Normal\"",
          "\"Rock\"",
          "\"Rock\"",
          "\"Rock\"",
          "\"Rock\"",
          "\"Rock\"",
          "\"Rock\"",
          "\"Rock\"",
          "\"Rock\"",
          "\"Normal\"",
          "\"Fire\"",
          "\"Electric\"",
          "\"Ghost\"",
          "\"Water\"",
          "\"Normal\"",
          "\"Ghost\"",
          "\"Dragon\"",
          "\"Dragon\"",
          "\"Dragon\"",
          "\"Electric\"",
          "\"Psychic\"",
          "\"Grass\"",
          "\"Water\"",
          "\"Psychic\"",
          "\"Psychic\"",
          "\"Psychic\"",
          "\"Psychic\"",
          "\"Psychic\"",
          "\"Psychic\"",
          "\"Psychic\"",
          "\"Psychic\"",
          "\"Rock\"",
          "\"Bug\"",
          "\"Bug\"",
          "\"Electric\"",
          "\"Steel\"",
          "\"Grass\"",
          "\"Dark\"",
          "\"Psychic\"",
          "\"Psychic\"",
          "\"Psychic\"",
          "\"Psychic\"",
          "\"Steel\"",
          "\"Steel\"",
          "\"Fighting\"",
          "\"Poison\"",
          "\"Poison\"",
          "\"Rock\"",
          "\"Fire\"",
          "\"Electric\"",
          "\"Steel\"",
          "\"Steel\"",
          "\"Steel\"",
          "\"Grass\"",
          "\"Grass\"",
          "\"Grass\"",
          "\"Grass\"",
          "\"Fire\"",
          "\"Fire\"",
          "\"Fire\"",
          "\"Fire\"",
          "\"Water\"",
          "\"Water\"",
          "\"Water\"",
          "\"Water\"",
          "\"Normal\"",
          "\"Normal\"",
          "\"Flying\"",
          "\"Flying\"",
          "\"Flying\"",
          "\"Flying\"",
          "\"Bug\"",
          "\"Bug\"",
          "\"Bug\"",
          "\"Bug\"",
          "\"Dark\"",
          "\"Dark\"",
          "\"Grass\"",
          "\"Grass\"",
          "\"Normal\"",
          "\"Normal\"",
          "\"Water\"",
          "\"Water\"",
          "\"Water\"",
          "\"Electric\"",
          "\"Electric\"",
          "\"Rock\"",
          "\"Rock\"",
          "\"Rock\"",
          "\"Rock\"",
          "\"Grass\"",
          "\"Grass\"",
          "\"Grass\"",
          "\"Grass\"",
          "\"Grass\"",
          "\"Ground\"",
          "\"Ground\"",
          "\"Ground\"",
          "\"Flying\"",
          "\"Water\"",
          "\"Water\"",
          "\"Electric\"",
          "\"Electric\"",
          "\"Electric\"",
          "\"Electric\"",
          "\"Electric\"",
          "\"Fire\"",
          "\"Fire\"",
          "\"Fire\"",
          "\"Fighting\"",
          "\"Fighting\"",
          "\"Ghost\"",
          "\"Ghost\"",
          "\"Ghost\"",
          "\"Ghost\"",
          "\"Psychic\"",
          "\"Psychic\"",
          "\"Psychic\"",
          "\"Psychic\"",
          "\"Dark\"",
          "\"Dark\"",
          "\"Dark\"",
          "\"Dark\"",
          "\"Dark\"",
          "\"Steel\"",
          "\"Ghost\"",
          "\"Fighting\"",
          "\"Ice\"",
          "\"Ground\"",
          "\"Fairy\"",
          "\"Fairy\"",
          "\"Fairy\"",
          "\"Fairy\"",
          "\"Fairy\"",
          "\"Fairy\"",
          "\"Fairy\"",
          "\"Fairy\"",
          "\"Fairy\"",
          "\"Fairy\"",
          "\"Fairy\"",
          "\"Fighting\"",
          "\"Electric\"",
          "\"Ice\"",
          "\"Ice\"",
          "\"Rock\"",
          "\"Ice\"",
          "\"Ice\"",
          "\"Psychic\"",
          "\"Psychic\"",
          "\"Electric\"",
          "\"Steel\"",
          "\"Steel\"",
          "\"Steel\"",
          "\"Electric\"",
          "\"Electric\"",
          "\"Water\"",
          "\"Water\"",
          "\"Steel\"",
          "\"Steel\"",
          "\"Dragon\"",
          "\"Dragon\"",
          "\"Dragon\"",
          "\"Fairy\"",
          "\"Fairy\"",
          "\"Fighting\"",
          "\"Fighting\"",
          "\"Poison\"",
          "\"Poison\"",
          "\"Fighting\"",
          "\"Fighting\"",
          "\"Fighting\"",
          "\"Fighting\"",
          "\"Fighting\"",
          "\"Fighting\"",
          "\"Fighting\"",
          "\"Dark\"",
          "\"Dark\"",
          "\"Electric\"",
          "\"Dragon\"",
          "\"Ice\"",
          "\"Ghost\"",
          "\"Psychic\"",
          "\"Psychic\"",
          "\"Psychic\"",
          "\"Normal\"",
          "\"Normal\"",
          "\"Bug\"",
          "\"Ground\"",
          "\"Ground\"",
          "\"Ground\"",
          "\"Water\"",
          "\"Water\"",
          "\"Fighting\"",
          "\"Dark\"",
          "\"Dark\"",
          "\"Fairy\"",
          "\"Fairy\"",
          "\"Grass\"",
          "\"Grass\"",
          "\"Grass\"",
          "\"Fire\"",
          "\"Fire\"",
          "\"Fire\"",
          "\"Water\"",
          "\"Water\"",
          "\"Water\"",
          "\"Normal\"",
          "\"Normal\"",
          "\"Normal\"",
          "\"Bug\"",
          "\"Bug\"",
          "\"Bug\"",
          "\"Bug\"",
          "\"Electric\"",
          "\"Electric\"",
          "\"Electric\"",
          "\"Normal\"",
          "\"Normal\"",
          "\"Normal\"",
          "\"Fairy\"",
          "\"Fairy\"",
          "\"Grass\"",
          "\"Grass\"",
          "\"Grass\"",
          "\"Normal\"",
          "\"Normal\"",
          "\"Normal\"",
          "\"Normal\"",
          "\"Rock\"",
          "\"Rock\"",
          "\"Rock\"",
          "\"Fire\"",
          "\"Fire\"",
          "\"Fire\"",
          "\"Electric\"",
          "\"Electric\"",
          "\"Electric\"",
          "\"Electric\"",
          "\"Dark\"",
          "\"Dark\"",
          "\"Poison\"",
          "\"Poison\"",
          "\"Grass\"",
          "\"Grass\"",
          "\"Ground\"",
          "\"Ground\"",
          "\"Rock\"",
          "\"Grass\"",
          "\"Grass\"",
          "\"Bug\"",
          "\"Bug\"",
          "\"Psychic\"",
          "\"Psychic\"",
          "\"Fairy\"",
          "\"Fairy\"",
          "\"Fairy\"",
          "\"Water\"",
          "\"Water\"",
          "\"Flying\"",
          "\"Water\"",
          "\"Water\"",
          "\"Water\"",
          "\"Steel\"",
          "\"Steel\"",
          "\"Dragon\"",
          "\"Steel\"",
          "\"Rock\"",
          "\"Rock\"",
          "\"Ghost\"",
          "\"Ghost\"",
          "\"Flying\"",
          "\"Ice\"",
          "\"Ice\"",
          "\"Water\"",
          "\"Water\"",
          "\"Dragon\"",
          "\"Dragon\"",
          "\"Dragon\"",
          "\"Fighting\"",
          "\"Poison\"",
          "\"Normal\"",
          "\"Normal\"",
          "\"Normal\"",
          "\"Dark\"",
          "\"Ground\"",
          "\"Fairy\"",
          "\"Grass\"",
          "\"Ghost\"",
          "\"Bug\"",
          "\"Electric\"",
          "\"Ground\"",
          "\"Ice\"",
          "\"Fighting\"",
          "\"Dark\"",
          "\"Fire\"",
          "\"Rock\"",
          "\"Dragon\"",
          "\"Dragon\"",
          "\"Dragon\"",
          "\"Ghost\"",
          "\"Ghost\"",
          "\"Steel\"",
          "\"Steel\"",
          "\"Dark\"",
          "\"Dark\"",
          "\"Dark\"",
          "\"Dark\"",
          "\"Dragon\"",
          "\"Fairy\"",
          "\"Fighting\"",
          "\"Electric\"",
          "\"Water\"",
          "\"Grass\"",
          "\"Grass\"",
          "\"Grass\"",
          "\"Grass\"",
          "\"Grass\"",
          "\"Grass\"",
          "\"Poison\"",
          "\"Poison\"",
          "\"Poison\"",
          "\"Grass\"",
          "\"Grass\"",
          "\"Grass\"",
          "\"Grass\"",
          "\"Steel\"",
          "\"Grass\"",
          "\"Fire\"",
          "\"Electric\"",
          "\"Rock\"",
          "\"Steel\"",
          "\"Normal\"",
          "\"Normal\"",
          "\"Normal\"",
          "\"Poison\""
         ],
         "legendgroup": "",
         "name": "",
         "showlegend": true,
         "textinfo": "percent+label",
         "textposition": "inside",
         "type": "pie"
        }
       ],
       "layout": {
        "legend": {
         "orientation": "v",
         "tracegroupgap": 0,
         "x": 1,
         "xanchor": "right",
         "y": 0.5,
         "yanchor": "middle"
        },
        "template": {
         "data": {
          "bar": [
           {
            "error_x": {
             "color": "#2a3f5f"
            },
            "error_y": {
             "color": "#2a3f5f"
            },
            "marker": {
             "line": {
              "color": "#E5ECF6",
              "width": 0.5
             },
             "pattern": {
              "fillmode": "overlay",
              "size": 10,
              "solidity": 0.2
             }
            },
            "type": "bar"
           }
          ],
          "barpolar": [
           {
            "marker": {
             "line": {
              "color": "#E5ECF6",
              "width": 0.5
             },
             "pattern": {
              "fillmode": "overlay",
              "size": 10,
              "solidity": 0.2
             }
            },
            "type": "barpolar"
           }
          ],
          "carpet": [
           {
            "aaxis": {
             "endlinecolor": "#2a3f5f",
             "gridcolor": "white",
             "linecolor": "white",
             "minorgridcolor": "white",
             "startlinecolor": "#2a3f5f"
            },
            "baxis": {
             "endlinecolor": "#2a3f5f",
             "gridcolor": "white",
             "linecolor": "white",
             "minorgridcolor": "white",
             "startlinecolor": "#2a3f5f"
            },
            "type": "carpet"
           }
          ],
          "choropleth": [
           {
            "colorbar": {
             "outlinewidth": 0,
             "ticks": ""
            },
            "type": "choropleth"
           }
          ],
          "contour": [
           {
            "colorbar": {
             "outlinewidth": 0,
             "ticks": ""
            },
            "colorscale": [
             [
              0,
              "#0d0887"
             ],
             [
              0.1111111111111111,
              "#46039f"
             ],
             [
              0.2222222222222222,
              "#7201a8"
             ],
             [
              0.3333333333333333,
              "#9c179e"
             ],
             [
              0.4444444444444444,
              "#bd3786"
             ],
             [
              0.5555555555555556,
              "#d8576b"
             ],
             [
              0.6666666666666666,
              "#ed7953"
             ],
             [
              0.7777777777777778,
              "#fb9f3a"
             ],
             [
              0.8888888888888888,
              "#fdca26"
             ],
             [
              1,
              "#f0f921"
             ]
            ],
            "type": "contour"
           }
          ],
          "contourcarpet": [
           {
            "colorbar": {
             "outlinewidth": 0,
             "ticks": ""
            },
            "type": "contourcarpet"
           }
          ],
          "heatmap": [
           {
            "colorbar": {
             "outlinewidth": 0,
             "ticks": ""
            },
            "colorscale": [
             [
              0,
              "#0d0887"
             ],
             [
              0.1111111111111111,
              "#46039f"
             ],
             [
              0.2222222222222222,
              "#7201a8"
             ],
             [
              0.3333333333333333,
              "#9c179e"
             ],
             [
              0.4444444444444444,
              "#bd3786"
             ],
             [
              0.5555555555555556,
              "#d8576b"
             ],
             [
              0.6666666666666666,
              "#ed7953"
             ],
             [
              0.7777777777777778,
              "#fb9f3a"
             ],
             [
              0.8888888888888888,
              "#fdca26"
             ],
             [
              1,
              "#f0f921"
             ]
            ],
            "type": "heatmap"
           }
          ],
          "heatmapgl": [
           {
            "colorbar": {
             "outlinewidth": 0,
             "ticks": ""
            },
            "colorscale": [
             [
              0,
              "#0d0887"
             ],
             [
              0.1111111111111111,
              "#46039f"
             ],
             [
              0.2222222222222222,
              "#7201a8"
             ],
             [
              0.3333333333333333,
              "#9c179e"
             ],
             [
              0.4444444444444444,
              "#bd3786"
             ],
             [
              0.5555555555555556,
              "#d8576b"
             ],
             [
              0.6666666666666666,
              "#ed7953"
             ],
             [
              0.7777777777777778,
              "#fb9f3a"
             ],
             [
              0.8888888888888888,
              "#fdca26"
             ],
             [
              1,
              "#f0f921"
             ]
            ],
            "type": "heatmapgl"
           }
          ],
          "histogram": [
           {
            "marker": {
             "pattern": {
              "fillmode": "overlay",
              "size": 10,
              "solidity": 0.2
             }
            },
            "type": "histogram"
           }
          ],
          "histogram2d": [
           {
            "colorbar": {
             "outlinewidth": 0,
             "ticks": ""
            },
            "colorscale": [
             [
              0,
              "#0d0887"
             ],
             [
              0.1111111111111111,
              "#46039f"
             ],
             [
              0.2222222222222222,
              "#7201a8"
             ],
             [
              0.3333333333333333,
              "#9c179e"
             ],
             [
              0.4444444444444444,
              "#bd3786"
             ],
             [
              0.5555555555555556,
              "#d8576b"
             ],
             [
              0.6666666666666666,
              "#ed7953"
             ],
             [
              0.7777777777777778,
              "#fb9f3a"
             ],
             [
              0.8888888888888888,
              "#fdca26"
             ],
             [
              1,
              "#f0f921"
             ]
            ],
            "type": "histogram2d"
           }
          ],
          "histogram2dcontour": [
           {
            "colorbar": {
             "outlinewidth": 0,
             "ticks": ""
            },
            "colorscale": [
             [
              0,
              "#0d0887"
             ],
             [
              0.1111111111111111,
              "#46039f"
             ],
             [
              0.2222222222222222,
              "#7201a8"
             ],
             [
              0.3333333333333333,
              "#9c179e"
             ],
             [
              0.4444444444444444,
              "#bd3786"
             ],
             [
              0.5555555555555556,
              "#d8576b"
             ],
             [
              0.6666666666666666,
              "#ed7953"
             ],
             [
              0.7777777777777778,
              "#fb9f3a"
             ],
             [
              0.8888888888888888,
              "#fdca26"
             ],
             [
              1,
              "#f0f921"
             ]
            ],
            "type": "histogram2dcontour"
           }
          ],
          "mesh3d": [
           {
            "colorbar": {
             "outlinewidth": 0,
             "ticks": ""
            },
            "type": "mesh3d"
           }
          ],
          "parcoords": [
           {
            "line": {
             "colorbar": {
              "outlinewidth": 0,
              "ticks": ""
             }
            },
            "type": "parcoords"
           }
          ],
          "pie": [
           {
            "automargin": true,
            "type": "pie"
           }
          ],
          "scatter": [
           {
            "fillpattern": {
             "fillmode": "overlay",
             "size": 10,
             "solidity": 0.2
            },
            "type": "scatter"
           }
          ],
          "scatter3d": [
           {
            "line": {
             "colorbar": {
              "outlinewidth": 0,
              "ticks": ""
             }
            },
            "marker": {
             "colorbar": {
              "outlinewidth": 0,
              "ticks": ""
             }
            },
            "type": "scatter3d"
           }
          ],
          "scattercarpet": [
           {
            "marker": {
             "colorbar": {
              "outlinewidth": 0,
              "ticks": ""
             }
            },
            "type": "scattercarpet"
           }
          ],
          "scattergeo": [
           {
            "marker": {
             "colorbar": {
              "outlinewidth": 0,
              "ticks": ""
             }
            },
            "type": "scattergeo"
           }
          ],
          "scattergl": [
           {
            "marker": {
             "colorbar": {
              "outlinewidth": 0,
              "ticks": ""
             }
            },
            "type": "scattergl"
           }
          ],
          "scattermapbox": [
           {
            "marker": {
             "colorbar": {
              "outlinewidth": 0,
              "ticks": ""
             }
            },
            "type": "scattermapbox"
           }
          ],
          "scatterpolar": [
           {
            "marker": {
             "colorbar": {
              "outlinewidth": 0,
              "ticks": ""
             }
            },
            "type": "scatterpolar"
           }
          ],
          "scatterpolargl": [
           {
            "marker": {
             "colorbar": {
              "outlinewidth": 0,
              "ticks": ""
             }
            },
            "type": "scatterpolargl"
           }
          ],
          "scatterternary": [
           {
            "marker": {
             "colorbar": {
              "outlinewidth": 0,
              "ticks": ""
             }
            },
            "type": "scatterternary"
           }
          ],
          "surface": [
           {
            "colorbar": {
             "outlinewidth": 0,
             "ticks": ""
            },
            "colorscale": [
             [
              0,
              "#0d0887"
             ],
             [
              0.1111111111111111,
              "#46039f"
             ],
             [
              0.2222222222222222,
              "#7201a8"
             ],
             [
              0.3333333333333333,
              "#9c179e"
             ],
             [
              0.4444444444444444,
              "#bd3786"
             ],
             [
              0.5555555555555556,
              "#d8576b"
             ],
             [
              0.6666666666666666,
              "#ed7953"
             ],
             [
              0.7777777777777778,
              "#fb9f3a"
             ],
             [
              0.8888888888888888,
              "#fdca26"
             ],
             [
              1,
              "#f0f921"
             ]
            ],
            "type": "surface"
           }
          ],
          "table": [
           {
            "cells": {
             "fill": {
              "color": "#EBF0F8"
             },
             "line": {
              "color": "white"
             }
            },
            "header": {
             "fill": {
              "color": "#C8D4E3"
             },
             "line": {
              "color": "white"
             }
            },
            "type": "table"
           }
          ]
         },
         "layout": {
          "annotationdefaults": {
           "arrowcolor": "#2a3f5f",
           "arrowhead": 0,
           "arrowwidth": 1
          },
          "autotypenumbers": "strict",
          "coloraxis": {
           "colorbar": {
            "outlinewidth": 0,
            "ticks": ""
           }
          },
          "colorscale": {
           "diverging": [
            [
             0,
             "#8e0152"
            ],
            [
             0.1,
             "#c51b7d"
            ],
            [
             0.2,
             "#de77ae"
            ],
            [
             0.3,
             "#f1b6da"
            ],
            [
             0.4,
             "#fde0ef"
            ],
            [
             0.5,
             "#f7f7f7"
            ],
            [
             0.6,
             "#e6f5d0"
            ],
            [
             0.7,
             "#b8e186"
            ],
            [
             0.8,
             "#7fbc41"
            ],
            [
             0.9,
             "#4d9221"
            ],
            [
             1,
             "#276419"
            ]
           ],
           "sequential": [
            [
             0,
             "#0d0887"
            ],
            [
             0.1111111111111111,
             "#46039f"
            ],
            [
             0.2222222222222222,
             "#7201a8"
            ],
            [
             0.3333333333333333,
             "#9c179e"
            ],
            [
             0.4444444444444444,
             "#bd3786"
            ],
            [
             0.5555555555555556,
             "#d8576b"
            ],
            [
             0.6666666666666666,
             "#ed7953"
            ],
            [
             0.7777777777777778,
             "#fb9f3a"
            ],
            [
             0.8888888888888888,
             "#fdca26"
            ],
            [
             1,
             "#f0f921"
            ]
           ],
           "sequentialminus": [
            [
             0,
             "#0d0887"
            ],
            [
             0.1111111111111111,
             "#46039f"
            ],
            [
             0.2222222222222222,
             "#7201a8"
            ],
            [
             0.3333333333333333,
             "#9c179e"
            ],
            [
             0.4444444444444444,
             "#bd3786"
            ],
            [
             0.5555555555555556,
             "#d8576b"
            ],
            [
             0.6666666666666666,
             "#ed7953"
            ],
            [
             0.7777777777777778,
             "#fb9f3a"
            ],
            [
             0.8888888888888888,
             "#fdca26"
            ],
            [
             1,
             "#f0f921"
            ]
           ]
          },
          "colorway": [
           "#636efa",
           "#EF553B",
           "#00cc96",
           "#ab63fa",
           "#FFA15A",
           "#19d3f3",
           "#FF6692",
           "#B6E880",
           "#FF97FF",
           "#FECB52"
          ],
          "font": {
           "color": "#2a3f5f"
          },
          "geo": {
           "bgcolor": "white",
           "lakecolor": "white",
           "landcolor": "#E5ECF6",
           "showlakes": true,
           "showland": true,
           "subunitcolor": "white"
          },
          "hoverlabel": {
           "align": "left"
          },
          "hovermode": "closest",
          "mapbox": {
           "style": "light"
          },
          "paper_bgcolor": "white",
          "plot_bgcolor": "#E5ECF6",
          "polar": {
           "angularaxis": {
            "gridcolor": "white",
            "linecolor": "white",
            "ticks": ""
           },
           "bgcolor": "#E5ECF6",
           "radialaxis": {
            "gridcolor": "white",
            "linecolor": "white",
            "ticks": ""
           }
          },
          "scene": {
           "xaxis": {
            "backgroundcolor": "#E5ECF6",
            "gridcolor": "white",
            "gridwidth": 2,
            "linecolor": "white",
            "showbackground": true,
            "ticks": "",
            "zerolinecolor": "white"
           },
           "yaxis": {
            "backgroundcolor": "#E5ECF6",
            "gridcolor": "white",
            "gridwidth": 2,
            "linecolor": "white",
            "showbackground": true,
            "ticks": "",
            "zerolinecolor": "white"
           },
           "zaxis": {
            "backgroundcolor": "#E5ECF6",
            "gridcolor": "white",
            "gridwidth": 2,
            "linecolor": "white",
            "showbackground": true,
            "ticks": "",
            "zerolinecolor": "white"
           }
          },
          "shapedefaults": {
           "line": {
            "color": "#2a3f5f"
           }
          },
          "ternary": {
           "aaxis": {
            "gridcolor": "white",
            "linecolor": "white",
            "ticks": ""
           },
           "baxis": {
            "gridcolor": "white",
            "linecolor": "white",
            "ticks": ""
           },
           "bgcolor": "#E5ECF6",
           "caxis": {
            "gridcolor": "white",
            "linecolor": "white",
            "ticks": ""
           }
          },
          "title": {
           "x": 0.05
          },
          "xaxis": {
           "automargin": true,
           "gridcolor": "white",
           "linecolor": "white",
           "ticks": "",
           "title": {
            "standoff": 15
           },
           "zerolinecolor": "white",
           "zerolinewidth": 2
          },
          "yaxis": {
           "automargin": true,
           "gridcolor": "white",
           "linecolor": "white",
           "ticks": "",
           "title": {
            "standoff": 15
           },
           "zerolinecolor": "white",
           "zerolinewidth": 2
          }
         }
        },
        "title": {
         "text": "Primary Type Distribution"
        }
       }
      }
     },
     "metadata": {},
     "output_type": "display_data"
    }
   ],
   "source": [
    "fig = px.pie(df, names='Primary Type', title='Primary Type Distribution')\n",
    "fig.update_traces(textposition='inside', textinfo='percent+label')\n",
    "fig.update_layout(legend=dict(orientation=\"v\", yanchor=\"middle\", y=0.5, xanchor=\"right\", x=1))\n",
    "fig.show()"
   ]
  },
  {
   "cell_type": "code",
   "execution_count": 71,
   "metadata": {},
   "outputs": [
    {
     "data": {
      "application/vnd.plotly.v1+json": {
       "config": {
        "plotlyServerURL": "https://plot.ly"
       },
       "data": [
        {
         "alignmentgroup": "True",
         "hovertemplate": "variable=count<br>Primary Type=%{x}<br>value=%{y}<extra></extra>",
         "legendgroup": "count",
         "marker": {
          "color": "#636efa",
          "pattern": {
           "shape": ""
          }
         },
         "name": "count",
         "offsetgroup": "count",
         "orientation": "v",
         "showlegend": true,
         "textposition": "auto",
         "type": "bar",
         "x": [
          "\"Water\"",
          "\"Normal\"",
          "\"Grass\"",
          "\"Psychic\"",
          "\"Bug\"",
          "\"Electric\"",
          "\"Fire\"",
          "\"Rock\"",
          "\"Dark\"",
          "\"Fighting\"",
          "\"Fairy\"",
          "\"Ghost\"",
          "\"Ground\"",
          "\"Steel\"",
          "\"Poison\"",
          "\"Dragon\"",
          "\"Ice\"",
          "\"Flying\""
         ],
         "xaxis": "x",
         "y": [
          159,
          153,
          125,
          116,
          115,
          80,
          79,
          76,
          59,
          57,
          53,
          53,
          51,
          51,
          50,
          49,
          45,
          11
         ],
         "yaxis": "y"
        }
       ],
       "layout": {
        "barmode": "relative",
        "legend": {
         "title": {
          "text": "variable"
         },
         "tracegroupgap": 0
        },
        "template": {
         "data": {
          "bar": [
           {
            "error_x": {
             "color": "#2a3f5f"
            },
            "error_y": {
             "color": "#2a3f5f"
            },
            "marker": {
             "line": {
              "color": "#E5ECF6",
              "width": 0.5
             },
             "pattern": {
              "fillmode": "overlay",
              "size": 10,
              "solidity": 0.2
             }
            },
            "type": "bar"
           }
          ],
          "barpolar": [
           {
            "marker": {
             "line": {
              "color": "#E5ECF6",
              "width": 0.5
             },
             "pattern": {
              "fillmode": "overlay",
              "size": 10,
              "solidity": 0.2
             }
            },
            "type": "barpolar"
           }
          ],
          "carpet": [
           {
            "aaxis": {
             "endlinecolor": "#2a3f5f",
             "gridcolor": "white",
             "linecolor": "white",
             "minorgridcolor": "white",
             "startlinecolor": "#2a3f5f"
            },
            "baxis": {
             "endlinecolor": "#2a3f5f",
             "gridcolor": "white",
             "linecolor": "white",
             "minorgridcolor": "white",
             "startlinecolor": "#2a3f5f"
            },
            "type": "carpet"
           }
          ],
          "choropleth": [
           {
            "colorbar": {
             "outlinewidth": 0,
             "ticks": ""
            },
            "type": "choropleth"
           }
          ],
          "contour": [
           {
            "colorbar": {
             "outlinewidth": 0,
             "ticks": ""
            },
            "colorscale": [
             [
              0,
              "#0d0887"
             ],
             [
              0.1111111111111111,
              "#46039f"
             ],
             [
              0.2222222222222222,
              "#7201a8"
             ],
             [
              0.3333333333333333,
              "#9c179e"
             ],
             [
              0.4444444444444444,
              "#bd3786"
             ],
             [
              0.5555555555555556,
              "#d8576b"
             ],
             [
              0.6666666666666666,
              "#ed7953"
             ],
             [
              0.7777777777777778,
              "#fb9f3a"
             ],
             [
              0.8888888888888888,
              "#fdca26"
             ],
             [
              1,
              "#f0f921"
             ]
            ],
            "type": "contour"
           }
          ],
          "contourcarpet": [
           {
            "colorbar": {
             "outlinewidth": 0,
             "ticks": ""
            },
            "type": "contourcarpet"
           }
          ],
          "heatmap": [
           {
            "colorbar": {
             "outlinewidth": 0,
             "ticks": ""
            },
            "colorscale": [
             [
              0,
              "#0d0887"
             ],
             [
              0.1111111111111111,
              "#46039f"
             ],
             [
              0.2222222222222222,
              "#7201a8"
             ],
             [
              0.3333333333333333,
              "#9c179e"
             ],
             [
              0.4444444444444444,
              "#bd3786"
             ],
             [
              0.5555555555555556,
              "#d8576b"
             ],
             [
              0.6666666666666666,
              "#ed7953"
             ],
             [
              0.7777777777777778,
              "#fb9f3a"
             ],
             [
              0.8888888888888888,
              "#fdca26"
             ],
             [
              1,
              "#f0f921"
             ]
            ],
            "type": "heatmap"
           }
          ],
          "heatmapgl": [
           {
            "colorbar": {
             "outlinewidth": 0,
             "ticks": ""
            },
            "colorscale": [
             [
              0,
              "#0d0887"
             ],
             [
              0.1111111111111111,
              "#46039f"
             ],
             [
              0.2222222222222222,
              "#7201a8"
             ],
             [
              0.3333333333333333,
              "#9c179e"
             ],
             [
              0.4444444444444444,
              "#bd3786"
             ],
             [
              0.5555555555555556,
              "#d8576b"
             ],
             [
              0.6666666666666666,
              "#ed7953"
             ],
             [
              0.7777777777777778,
              "#fb9f3a"
             ],
             [
              0.8888888888888888,
              "#fdca26"
             ],
             [
              1,
              "#f0f921"
             ]
            ],
            "type": "heatmapgl"
           }
          ],
          "histogram": [
           {
            "marker": {
             "pattern": {
              "fillmode": "overlay",
              "size": 10,
              "solidity": 0.2
             }
            },
            "type": "histogram"
           }
          ],
          "histogram2d": [
           {
            "colorbar": {
             "outlinewidth": 0,
             "ticks": ""
            },
            "colorscale": [
             [
              0,
              "#0d0887"
             ],
             [
              0.1111111111111111,
              "#46039f"
             ],
             [
              0.2222222222222222,
              "#7201a8"
             ],
             [
              0.3333333333333333,
              "#9c179e"
             ],
             [
              0.4444444444444444,
              "#bd3786"
             ],
             [
              0.5555555555555556,
              "#d8576b"
             ],
             [
              0.6666666666666666,
              "#ed7953"
             ],
             [
              0.7777777777777778,
              "#fb9f3a"
             ],
             [
              0.8888888888888888,
              "#fdca26"
             ],
             [
              1,
              "#f0f921"
             ]
            ],
            "type": "histogram2d"
           }
          ],
          "histogram2dcontour": [
           {
            "colorbar": {
             "outlinewidth": 0,
             "ticks": ""
            },
            "colorscale": [
             [
              0,
              "#0d0887"
             ],
             [
              0.1111111111111111,
              "#46039f"
             ],
             [
              0.2222222222222222,
              "#7201a8"
             ],
             [
              0.3333333333333333,
              "#9c179e"
             ],
             [
              0.4444444444444444,
              "#bd3786"
             ],
             [
              0.5555555555555556,
              "#d8576b"
             ],
             [
              0.6666666666666666,
              "#ed7953"
             ],
             [
              0.7777777777777778,
              "#fb9f3a"
             ],
             [
              0.8888888888888888,
              "#fdca26"
             ],
             [
              1,
              "#f0f921"
             ]
            ],
            "type": "histogram2dcontour"
           }
          ],
          "mesh3d": [
           {
            "colorbar": {
             "outlinewidth": 0,
             "ticks": ""
            },
            "type": "mesh3d"
           }
          ],
          "parcoords": [
           {
            "line": {
             "colorbar": {
              "outlinewidth": 0,
              "ticks": ""
             }
            },
            "type": "parcoords"
           }
          ],
          "pie": [
           {
            "automargin": true,
            "type": "pie"
           }
          ],
          "scatter": [
           {
            "fillpattern": {
             "fillmode": "overlay",
             "size": 10,
             "solidity": 0.2
            },
            "type": "scatter"
           }
          ],
          "scatter3d": [
           {
            "line": {
             "colorbar": {
              "outlinewidth": 0,
              "ticks": ""
             }
            },
            "marker": {
             "colorbar": {
              "outlinewidth": 0,
              "ticks": ""
             }
            },
            "type": "scatter3d"
           }
          ],
          "scattercarpet": [
           {
            "marker": {
             "colorbar": {
              "outlinewidth": 0,
              "ticks": ""
             }
            },
            "type": "scattercarpet"
           }
          ],
          "scattergeo": [
           {
            "marker": {
             "colorbar": {
              "outlinewidth": 0,
              "ticks": ""
             }
            },
            "type": "scattergeo"
           }
          ],
          "scattergl": [
           {
            "marker": {
             "colorbar": {
              "outlinewidth": 0,
              "ticks": ""
             }
            },
            "type": "scattergl"
           }
          ],
          "scattermapbox": [
           {
            "marker": {
             "colorbar": {
              "outlinewidth": 0,
              "ticks": ""
             }
            },
            "type": "scattermapbox"
           }
          ],
          "scatterpolar": [
           {
            "marker": {
             "colorbar": {
              "outlinewidth": 0,
              "ticks": ""
             }
            },
            "type": "scatterpolar"
           }
          ],
          "scatterpolargl": [
           {
            "marker": {
             "colorbar": {
              "outlinewidth": 0,
              "ticks": ""
             }
            },
            "type": "scatterpolargl"
           }
          ],
          "scatterternary": [
           {
            "marker": {
             "colorbar": {
              "outlinewidth": 0,
              "ticks": ""
             }
            },
            "type": "scatterternary"
           }
          ],
          "surface": [
           {
            "colorbar": {
             "outlinewidth": 0,
             "ticks": ""
            },
            "colorscale": [
             [
              0,
              "#0d0887"
             ],
             [
              0.1111111111111111,
              "#46039f"
             ],
             [
              0.2222222222222222,
              "#7201a8"
             ],
             [
              0.3333333333333333,
              "#9c179e"
             ],
             [
              0.4444444444444444,
              "#bd3786"
             ],
             [
              0.5555555555555556,
              "#d8576b"
             ],
             [
              0.6666666666666666,
              "#ed7953"
             ],
             [
              0.7777777777777778,
              "#fb9f3a"
             ],
             [
              0.8888888888888888,
              "#fdca26"
             ],
             [
              1,
              "#f0f921"
             ]
            ],
            "type": "surface"
           }
          ],
          "table": [
           {
            "cells": {
             "fill": {
              "color": "#EBF0F8"
             },
             "line": {
              "color": "white"
             }
            },
            "header": {
             "fill": {
              "color": "#C8D4E3"
             },
             "line": {
              "color": "white"
             }
            },
            "type": "table"
           }
          ]
         },
         "layout": {
          "annotationdefaults": {
           "arrowcolor": "#2a3f5f",
           "arrowhead": 0,
           "arrowwidth": 1
          },
          "autotypenumbers": "strict",
          "coloraxis": {
           "colorbar": {
            "outlinewidth": 0,
            "ticks": ""
           }
          },
          "colorscale": {
           "diverging": [
            [
             0,
             "#8e0152"
            ],
            [
             0.1,
             "#c51b7d"
            ],
            [
             0.2,
             "#de77ae"
            ],
            [
             0.3,
             "#f1b6da"
            ],
            [
             0.4,
             "#fde0ef"
            ],
            [
             0.5,
             "#f7f7f7"
            ],
            [
             0.6,
             "#e6f5d0"
            ],
            [
             0.7,
             "#b8e186"
            ],
            [
             0.8,
             "#7fbc41"
            ],
            [
             0.9,
             "#4d9221"
            ],
            [
             1,
             "#276419"
            ]
           ],
           "sequential": [
            [
             0,
             "#0d0887"
            ],
            [
             0.1111111111111111,
             "#46039f"
            ],
            [
             0.2222222222222222,
             "#7201a8"
            ],
            [
             0.3333333333333333,
             "#9c179e"
            ],
            [
             0.4444444444444444,
             "#bd3786"
            ],
            [
             0.5555555555555556,
             "#d8576b"
            ],
            [
             0.6666666666666666,
             "#ed7953"
            ],
            [
             0.7777777777777778,
             "#fb9f3a"
            ],
            [
             0.8888888888888888,
             "#fdca26"
            ],
            [
             1,
             "#f0f921"
            ]
           ],
           "sequentialminus": [
            [
             0,
             "#0d0887"
            ],
            [
             0.1111111111111111,
             "#46039f"
            ],
            [
             0.2222222222222222,
             "#7201a8"
            ],
            [
             0.3333333333333333,
             "#9c179e"
            ],
            [
             0.4444444444444444,
             "#bd3786"
            ],
            [
             0.5555555555555556,
             "#d8576b"
            ],
            [
             0.6666666666666666,
             "#ed7953"
            ],
            [
             0.7777777777777778,
             "#fb9f3a"
            ],
            [
             0.8888888888888888,
             "#fdca26"
            ],
            [
             1,
             "#f0f921"
            ]
           ]
          },
          "colorway": [
           "#636efa",
           "#EF553B",
           "#00cc96",
           "#ab63fa",
           "#FFA15A",
           "#19d3f3",
           "#FF6692",
           "#B6E880",
           "#FF97FF",
           "#FECB52"
          ],
          "font": {
           "color": "#2a3f5f"
          },
          "geo": {
           "bgcolor": "white",
           "lakecolor": "white",
           "landcolor": "#E5ECF6",
           "showlakes": true,
           "showland": true,
           "subunitcolor": "white"
          },
          "hoverlabel": {
           "align": "left"
          },
          "hovermode": "closest",
          "mapbox": {
           "style": "light"
          },
          "paper_bgcolor": "white",
          "plot_bgcolor": "#E5ECF6",
          "polar": {
           "angularaxis": {
            "gridcolor": "white",
            "linecolor": "white",
            "ticks": ""
           },
           "bgcolor": "#E5ECF6",
           "radialaxis": {
            "gridcolor": "white",
            "linecolor": "white",
            "ticks": ""
           }
          },
          "scene": {
           "xaxis": {
            "backgroundcolor": "#E5ECF6",
            "gridcolor": "white",
            "gridwidth": 2,
            "linecolor": "white",
            "showbackground": true,
            "ticks": "",
            "zerolinecolor": "white"
           },
           "yaxis": {
            "backgroundcolor": "#E5ECF6",
            "gridcolor": "white",
            "gridwidth": 2,
            "linecolor": "white",
            "showbackground": true,
            "ticks": "",
            "zerolinecolor": "white"
           },
           "zaxis": {
            "backgroundcolor": "#E5ECF6",
            "gridcolor": "white",
            "gridwidth": 2,
            "linecolor": "white",
            "showbackground": true,
            "ticks": "",
            "zerolinecolor": "white"
           }
          },
          "shapedefaults": {
           "line": {
            "color": "#2a3f5f"
           }
          },
          "ternary": {
           "aaxis": {
            "gridcolor": "white",
            "linecolor": "white",
            "ticks": ""
           },
           "baxis": {
            "gridcolor": "white",
            "linecolor": "white",
            "ticks": ""
           },
           "bgcolor": "#E5ECF6",
           "caxis": {
            "gridcolor": "white",
            "linecolor": "white",
            "ticks": ""
           }
          },
          "title": {
           "x": 0.05
          },
          "xaxis": {
           "automargin": true,
           "gridcolor": "white",
           "linecolor": "white",
           "ticks": "",
           "title": {
            "standoff": 15
           },
           "zerolinecolor": "white",
           "zerolinewidth": 2
          },
          "yaxis": {
           "automargin": true,
           "gridcolor": "white",
           "linecolor": "white",
           "ticks": "",
           "title": {
            "standoff": 15
           },
           "zerolinecolor": "white",
           "zerolinewidth": 2
          }
         }
        },
        "title": {
         "text": "Primary Type Distribution"
        },
        "xaxis": {
         "anchor": "y",
         "domain": [
          0,
          1
         ],
         "title": {
          "text": "Primary Type"
         }
        },
        "yaxis": {
         "anchor": "x",
         "domain": [
          0,
          1
         ],
         "title": {
          "text": "value"
         }
        }
       }
      }
     },
     "metadata": {},
     "output_type": "display_data"
    }
   ],
   "source": [
    "fig = px.bar(df['Primary Type'].value_counts(), title='Primary Type Distribution')\n",
    "fig.show()\n"
   ]
  },
  {
   "cell_type": "code",
   "execution_count": 72,
   "metadata": {},
   "outputs": [
    {
     "data": {
      "application/vnd.plotly.v1+json": {
       "config": {
        "plotlyServerURL": "https://plot.ly"
       },
       "data": [
        {
         "domain": {
          "x": [
           0,
           1
          ],
          "y": [
           0,
           1
          ]
         },
         "hovertemplate": "Secondary Type=%{label}<extra></extra>",
         "labels": [
          "\"Poison\"",
          "\"Poison\"",
          "\"Poison\"",
          "\"Poison\"",
          "\"Poison\"",
          null,
          null,
          "\"Flying\"",
          "\"Dragon\"",
          "\"Flying\"",
          "\"Flying\"",
          null,
          null,
          null,
          null,
          null,
          null,
          null,
          "\"Flying\"",
          "\"Flying\"",
          "\"Poison\"",
          "\"Poison\"",
          "\"Poison\"",
          "\"Poison\"",
          "\"Flying\"",
          "\"Flying\"",
          "\"Flying\"",
          "\"Flying\"",
          null,
          "\"Normal\"",
          null,
          "\"Normal\"",
          "\"Flying\"",
          "\"Flying\"",
          null,
          null,
          null,
          null,
          null,
          null,
          null,
          null,
          "\"Psychic\"",
          "\"Psychic\"",
          null,
          "\"Steel\"",
          null,
          "\"Steel\"",
          null,
          null,
          "\"Ground\"",
          null,
          null,
          "\"Ground\"",
          null,
          null,
          null,
          null,
          null,
          "\"Fairy\"",
          "\"Fairy\"",
          "\"Fairy\"",
          "\"Flying\"",
          "\"Flying\"",
          "\"Poison\"",
          "\"Poison\"",
          "\"Poison\"",
          "\"Grass\"",
          "\"Grass\"",
          "\"Poison\"",
          "\"Poison\"",
          null,
          "\"Steel\"",
          "\"Steel\"",
          null,
          null,
          null,
          null,
          null,
          null,
          null,
          null,
          null,
          null,
          null,
          null,
          "\"Rock\"",
          null,
          "\"Rock\"",
          null,
          null,
          "\"Fighting\"",
          null,
          null,
          null,
          null,
          null,
          null,
          null,
          null,
          null,
          null,
          "\"Poison\"",
          "\"Poison\"",
          "\"Poison\"",
          "\"Poison\"",
          "\"Poison\"",
          "\"Ground\"",
          "\"Electric\"",
          "\"Electric\"",
          "\"Ground\"",
          "\"Ground\"",
          "\"Ground\"",
          "\"Electric\"",
          null,
          null,
          null,
          "\"Fairy\"",
          null,
          "\"Psychic\"",
          "\"Psychic\"",
          "\"Psychic\"",
          "\"Psychic\"",
          "\"Steel\"",
          "\"Steel\"",
          "\"Flying\"",
          null,
          "\"Flying\"",
          "\"Flying\"",
          null,
          "\"Ice\"",
          null,
          "\"Dark\"",
          "\"Dark\"",
          null,
          null,
          "\"Ice\"",
          "\"Poison\"",
          "\"Poison\"",
          "\"Poison\"",
          "\"Poison\"",
          "\"Poison\"",
          "\"Poison\"",
          "\"Ground\"",
          null,
          null,
          null,
          null,
          null,
          null,
          "\"Grass\"",
          null,
          "\"Grass\"",
          "\"Psychic\"",
          "\"Psychic\"",
          "\"Psychic\"",
          "\"Psychic\"",
          "\"Dragon\"",
          "\"Dragon\"",
          null,
          null,
          null,
          null,
          "\"Fire\"",
          "\"Fire\"",
          null,
          null,
          null,
          null,
          null,
          "\"Fairy\"",
          "\"Rock\"",
          "\"Rock\"",
          null,
          null,
          null,
          null,
          null,
          null,
          null,
          null,
          null,
          "\"Psychic\"",
          "\"Fairy\"",
          "\"Psychic\"",
          "\"Flying\"",
          "\"Psychic\"",
          null,
          null,
          null,
          "\"Flying\"",
          null,
          null,
          "\"Fire\"",
          "\"Water\"",
          null,
          "\"Flying\"",
          "\"Dark\"",
          "\"Ice\"",
          "\"Ice\"",
          null,
          null,
          null,
          null,
          null,
          null,
          null,
          null,
          "\"Water\"",
          "\"Water\"",
          "\"Water\"",
          "\"Water\"",
          "\"Flying\"",
          "\"Flying\"",
          null,
          null,
          "\"Flying\"",
          "\"Flying\"",
          "\"Flying\"",
          "\"Flying\"",
          "\"Flying\"",
          "\"Flying\"",
          null,
          null,
          "\"Flying\"",
          null,
          null,
          null,
          null,
          null,
          null,
          null,
          null,
          null,
          null,
          "\"Ghost\"",
          "\"Ghost\"",
          null,
          null,
          null,
          null,
          null,
          "\"Flying\"",
          "\"Flying\"",
          "\"Flying\"",
          "\"Flying\"",
          "\"Poison\"",
          "\"Poison\"",
          "\"Flying\"",
          "\"Electric\"",
          "\"Electric\"",
          null,
          null,
          "\"Fairy\"",
          null,
          "\"Flying\"",
          "\"Flying\"",
          "\"Flying\"",
          null,
          null,
          null,
          "\"Dragon\"",
          null,
          "\"Fairy\"",
          "\"Fairy\"",
          null,
          null,
          "\"Flying\"",
          "\"Flying\"",
          "\"Flying\"",
          null,
          null,
          null,
          "\"Flying\"",
          "\"Ground\"",
          "\"Ground\"",
          "\"Ground\"",
          null,
          null,
          "\"Flying\"",
          "\"Psychic\"",
          "\"Psychic\"",
          null,
          null,
          null,
          null,
          null,
          null,
          null,
          null,
          null,
          null,
          null,
          null,
          null,
          null,
          null,
          null,
          null,
          null,
          null,
          null,
          null,
          null,
          null,
          null,
          null,
          null,
          null,
          null,
          null,
          null,
          "\"Psychic\"",
          null,
          "\"Steel\"",
          null,
          "\"Flying\"",
          "\"Ground\"",
          "\"Ground\"",
          null,
          null,
          "\"Poison\"",
          "\"Poison\"",
          "\"Steel\"",
          "\"Steel\"",
          "\"Rock\"",
          "\"Fighting\"",
          "\"Fighting\"",
          "\"Ice\"",
          "\"Poison\"",
          null,
          null,
          null,
          "\"Rock\"",
          "\"Ground\"",
          "\"Ground\"",
          "\"Rock\"",
          null,
          null,
          null,
          "\"Flying\"",
          "\"Flying\"",
          "\"Flying\"",
          "\"Fire\"",
          "\"Fire\"",
          "\"Fire\"",
          "\"Dragon\"",
          null,
          null,
          null,
          null,
          null,
          null,
          null,
          "\"Psychic\"",
          null,
          null,
          null,
          null,
          null,
          null,
          null,
          "\"Ground\"",
          "\"Ground\"",
          "\"Dark\"",
          "\"Dark\"",
          "\"Flying\"",
          "\"Flying\"",
          "\"Grass\"",
          null,
          null,
          null,
          "\"Dragon\"",
          null,
          "\"Fighting\"",
          "\"Fighting\"",
          "\"Fighting\"",
          null,
          "\"Ground\"",
          "\"Ground\"",
          "\"Ground\"",
          null,
          null,
          null,
          "\"Normal\"",
          null,
          "\"Normal\"",
          null,
          null,
          "\"Flying\"",
          null,
          "\"Poison\"",
          "\"Grass\"",
          "\"Grass\"",
          "\"Grass\"",
          null,
          "\"Dark\"",
          "\"Dark\"",
          "\"Flying\"",
          "\"Flying\"",
          "\"Flying\"",
          "\"Flying\"",
          "\"Fairy\"",
          "\"Fairy\"",
          "\"Fairy\"",
          "\"Fairy\"",
          "\"Water\"",
          "\"Flying\"",
          null,
          "\"Fighting\"",
          null,
          null,
          null,
          "\"Ground\"",
          "\"Flying\"",
          "\"Ghost\"",
          null,
          null,
          null,
          null,
          null,
          "\"Fairy\"",
          null,
          null,
          null,
          "\"Ghost\"",
          "\"Ghost\"",
          "\"Fairy\"",
          "\"Fairy\"",
          "\"Rock\"",
          "\"Rock\"",
          "\"Rock\"",
          null,
          "\"Psychic\"",
          "\"Psychic\"",
          "\"Psychic\"",
          null,
          null,
          null,
          null,
          null,
          null,
          null,
          "\"Poison\"",
          null,
          null,
          "\"Dark\"",
          "\"Dark\"",
          "\"Dark\"",
          null,
          null,
          "\"Ground\"",
          "\"Ground\"",
          "\"Ground\"",
          null,
          null,
          null,
          null,
          null,
          "\"Dragon\"",
          "\"Dragon\"",
          null,
          "\"Dark\"",
          "\"Flying\"",
          "\"Flying\"",
          "\"Fairy\"",
          null,
          null,
          "\"Psychic\"",
          "\"Psychic\"",
          "\"Ground\"",
          "\"Ground\"",
          null,
          "\"Dark\"",
          "\"Psychic\"",
          "\"Psychic\"",
          "\"Grass\"",
          "\"Grass\"",
          "\"Bug\"",
          "\"Bug\"",
          null,
          null,
          null,
          null,
          null,
          null,
          null,
          null,
          null,
          null,
          null,
          null,
          null,
          "\"Flying\"",
          null,
          null,
          null,
          null,
          null,
          null,
          null,
          "\"Water\"",
          "\"Water\"",
          "\"Water\"",
          null,
          null,
          null,
          "\"Rock\"",
          null,
          null,
          null,
          "\"Flying\"",
          "\"Flying\"",
          "\"Psychic\"",
          "\"Psychic\"",
          "\"Psychic\"",
          "\"Psychic\"",
          null,
          null,
          null,
          "\"Psychic\"",
          "\"Psychic\"",
          "\"Psychic\"",
          "\"Psychic\"",
          null,
          null,
          null,
          "\"Fire\"",
          "\"Flying\"",
          "\"Flying\"",
          "\"Psychic\"",
          null,
          null,
          null,
          null,
          null,
          null,
          "\"Ground\"",
          null,
          "\"Fighting\"",
          "\"Fighting\"",
          null,
          null,
          "\"Steel\"",
          "\"Flying\"",
          "\"Flying\"",
          "\"Flying\"",
          null,
          "\"Water\"",
          null,
          null,
          null,
          null,
          null,
          "\"Poison\"",
          "\"Poison\"",
          null,
          null,
          "\"Steel\"",
          "\"Steel\"",
          null,
          null,
          null,
          "\"Grass\"",
          "\"Ground\"",
          "\"Steel\"",
          "\"Flying\"",
          "\"Flying\"",
          "\"Flying\"",
          "\"Flying\"",
          "\"Flying\"",
          null,
          null,
          null,
          null,
          null,
          null,
          null,
          "\"Ground\"",
          "\"Ground\"",
          null,
          "\"Flying\"",
          "\"Flying\"",
          null,
          null,
          "\"Fighting\"",
          null,
          "\"Flying\"",
          null,
          null,
          null,
          "\"Dark\"",
          "\"Dark\"",
          "\"Psychic\"",
          "\"Psychic\"",
          null,
          "\"Fairy\"",
          null,
          "\"Flying\"",
          "\"Dark\"",
          "\"Ground\"",
          "\"Ground\"",
          "\"Ground\"",
          "\"Ground\"",
          null,
          null,
          "\"Steel\"",
          "\"Steel\"",
          null,
          null,
          "\"Bug\"",
          "\"Dark\"",
          "\"Fighting\"",
          "\"Fighting\"",
          null,
          null,
          null,
          "\"Flying\"",
          "\"Ice\"",
          "\"Ice\"",
          "\"Ice\"",
          "\"Ice\"",
          "\"Steel\"",
          "\"Steel\"",
          null,
          "\"Rock\"",
          null,
          null,
          null,
          "\"Flying\"",
          "\"Flying\"",
          null,
          null,
          null,
          null,
          "\"Flying\"",
          "\"Ground\"",
          null,
          "\"Fighting\"",
          "\"Fighting\"",
          "\"Steel\"",
          "\"Steel\"",
          null,
          "\"Ghost\"",
          "\"Ghost\"",
          "\"Grass\"",
          "\"Fire\"",
          "\"Water\"",
          "\"Ice\"",
          "\"Flying\"",
          null,
          null,
          null,
          "\"Dragon\"",
          "\"Dragon\"",
          "\"Dragon\"",
          "\"Dragon\"",
          "\"Steel\"",
          null,
          "\"Dragon\"",
          "\"Dragon\"",
          null,
          null,
          null,
          null,
          null,
          "\"Flying\"",
          null,
          "\"Fire\"",
          null,
          null,
          null,
          null,
          "\"Fighting\"",
          "\"Fighting\"",
          null,
          null,
          null,
          "\"Dark\"",
          "\"Dark\"",
          null,
          null,
          null,
          null,
          null,
          null,
          null,
          null,
          null,
          null,
          null,
          null,
          null,
          null,
          null,
          "\"Flying\"",
          "\"Flying\"",
          "\"Flying\"",
          null,
          null,
          null,
          null,
          null,
          "\"Flying\"",
          "\"Flying\"",
          null,
          "\"Steel\"",
          null,
          "\"Fairy\"",
          null,
          null,
          null,
          null,
          "\"Ground\"",
          "\"Ground\"",
          null,
          null,
          "\"Grass\"",
          "\"Grass\"",
          "\"Grass\"",
          "\"Poison\"",
          "\"Poison\"",
          "\"Poison\"",
          "\"Fairy\"",
          "\"Fairy\"",
          null,
          null,
          "\"Fighting\"",
          "\"Fighting\"",
          null,
          null,
          null,
          "\"Dark\"",
          "\"Dark\"",
          "\"Dark\"",
          null,
          null,
          null,
          "\"Psychic\"",
          null,
          "\"Fire\"",
          null,
          "\"Rock\"",
          "\"Rock\"",
          "\"Fighting\"",
          "\"Fighting\"",
          "\"Flying\"",
          null,
          "\"Ghost\"",
          null,
          "\"Rock\"",
          "\"Rock\"",
          "\"Flying\"",
          "\"Flying\"",
          null,
          null,
          null,
          null,
          "\"Ghost\"",
          null,
          "\"Ghost\"",
          null,
          null,
          null,
          null,
          null,
          null,
          null,
          null,
          "\"Flying\"",
          "\"Flying\"",
          null,
          null,
          null,
          "\"Grass\"",
          "\"Grass\"",
          "\"Grass\"",
          "\"Grass\"",
          "\"Grass\"",
          "\"Grass\"",
          "\"Grass\"",
          "\"Grass\"",
          "\"Flying\"",
          null,
          "\"Steel\"",
          "\"Poison\"",
          "\"Poison\"",
          "\"Ghost\"",
          "\"Ghost\"",
          null,
          "\"Electric\"",
          "\"Electric\"",
          "\"Steel\"",
          "\"Steel\"",
          null,
          null,
          null,
          null,
          null,
          null,
          null,
          null,
          "\"Fire\"",
          "\"Fire\"",
          "\"Fire\"",
          null,
          null,
          null,
          null,
          null,
          null,
          null,
          null,
          "\"Electric\"",
          "\"Steel\"",
          null,
          null,
          null,
          "\"Ghost\"",
          "\"Ghost\"",
          "\"Steel\"",
          "\"Steel\"",
          null,
          "\"Flying\"",
          "\"Flying\"",
          "\"Flying\"",
          "\"Flying\"",
          "\"Flying\"",
          "\"Flying\"",
          null,
          "\"Steel\"",
          "\"Dragon\"",
          "\"Dragon\"",
          "\"Dragon\"",
          "\"Fire\"",
          "\"Fire\"",
          "\"Fighting\"",
          "\"Fighting\"",
          "\"Fighting\"",
          null,
          null,
          "\"Flying\"",
          "\"Flying\"",
          "\"Fire\"",
          "\"Electric\"",
          "\"Flying\"",
          "\"Flying\"",
          "\"Ice\"",
          "\"Ice\"",
          "\"Ice\"",
          "\"Fighting\"",
          "\"Fighting\"",
          "\"Psychic\"",
          "\"Fighting\"",
          "\"Steel\"",
          null,
          null,
          "\"Fighting\"",
          null,
          null,
          "\"Psychic\"",
          null,
          null,
          "\"Dark\"",
          "\"Dark\"",
          null,
          "\"Ground\"",
          "\"Flying\"",
          "\"Flying\"",
          "\"Flying\"",
          null,
          null,
          "\"Flying\"",
          "\"Flying\"",
          "\"Flying\"",
          "\"Flying\"",
          "\"Flying\"",
          "\"Flying\"",
          "\"Flying\"",
          "\"Flying\"",
          "\"Flying\"",
          "\"Flying\"",
          "\"Flying\"",
          "\"Flying\"",
          "\"Flying\"",
          "\"Flying\"",
          "\"Flying\"",
          "\"Flying\"",
          "\"Flying\"",
          "\"Flying\"",
          "\"Flying\"",
          "\"Flying\"",
          "\"Normal\"",
          "\"Normal\"",
          null,
          null,
          null,
          null,
          null,
          null,
          null,
          null,
          null,
          null,
          null,
          null,
          null,
          null,
          null,
          null,
          null,
          null,
          "\"Dark\"",
          null,
          null,
          null,
          null,
          null,
          null,
          null,
          null,
          null,
          null,
          null,
          null,
          null,
          "\"Ghost\"",
          "\"Ghost\"",
          "\"Ghost\"",
          "\"Ghost\"",
          null,
          null,
          null,
          null,
          "\"Psychic\"",
          "\"Psychic\"",
          "\"Water\"",
          "\"Water\"",
          "\"Water\"",
          "\"Dragon\"",
          null,
          null,
          "\"Normal\"",
          "\"Normal\"",
          "\"Dragon\"",
          "\"Dragon\"",
          "\"Ice\"",
          "\"Ice\"",
          null,
          null,
          "\"Flying\"",
          "\"Fairy\"",
          "\"Fairy\"",
          null,
          null,
          "\"Dragon\"",
          "\"Dragon\"",
          null,
          "\"Dragon\"",
          "\"Fairy\"",
          "\"Grass\"",
          "\"Grass\"",
          "\"Grass\"",
          "\"Grass\"",
          "\"Grass\"",
          "\"Grass\"",
          "\"Grass\"",
          "\"Grass\"",
          "\"Grass\"",
          "\"Grass\"",
          null,
          "\"Rock\"",
          "\"Rock\"",
          null,
          "\"Dragon\"",
          "\"Dragon\"",
          null,
          "\"Flying\"",
          "\"Ground\"",
          "\"Ground\"",
          "\"Ground\"",
          "\"Fairy\"",
          "\"Fairy\"",
          "\"Ghost\"",
          "\"Dark\"",
          "\"Water\"",
          "\"Flying\"",
          "\"Flying\"",
          "\"Ghost\"",
          "\"Fighting\"",
          "\"Fighting\"",
          null,
          null,
          "\"Dark\"",
          null,
          null,
          "\"Fairy\"",
          "\"Flying\"",
          "\"Flying\"",
          "\"Flying\"",
          null,
          null,
          null,
          "\"Electric\"",
          "\"Electric\"",
          "\"Electric\"",
          null,
          "\"Ice\"",
          "\"Ice\"",
          "\"Flying\"",
          "\"Flying\"",
          "\"Flying\"",
          "\"Flying\"",
          "\"Fairy\"",
          "\"Fairy\"",
          null,
          null,
          null,
          null,
          null,
          null,
          "\"Water\"",
          "\"Water\"",
          null,
          null,
          "\"Bug\"",
          "\"Bug\"",
          null,
          null,
          "\"Fairy\"",
          "\"Fairy\"",
          "\"Fire\"",
          "\"Fire\"",
          "\"Fighting\"",
          "\"Fighting\"",
          null,
          null,
          null,
          null,
          "\"Psychic\"",
          null,
          "\"Water\"",
          "\"Water\"",
          "\"Ground\"",
          "\"Ground\"",
          null,
          null,
          null,
          "\"Flying\"",
          "\"Flying\"",
          "\"Flying\"",
          "\"Flying\"",
          "\"Flying\"",
          "\"Flying\"",
          "\"Flying\"",
          "\"Flying\"",
          null,
          "\"Dragon\"",
          "\"Steel\"",
          "\"Fairy\"",
          "\"Psychic\"",
          "\"Dragon\"",
          "\"Grass\"",
          null,
          "\"Fighting\"",
          "\"Fighting\"",
          "\"Fairy\"",
          "\"Fairy\"",
          "\"Fairy\"",
          "\"Fairy\"",
          null,
          null,
          "\"Steel\"",
          "\"Steel\"",
          "\"Steel\"",
          "\"Ghost\"",
          "\"Ghost\"",
          "\"Ghost\"",
          "\"Poison\"",
          "\"Fighting\"",
          "\"Fighting\"",
          null,
          "\"Flying\"",
          "\"Steel\"",
          "\"Dragon\"",
          "\"Steel\"",
          "\"Ghost\"",
          "\"Dragon\"",
          null,
          "\"Fairy\"",
          "\"Fairy\"",
          "\"Ghost\"",
          null,
          "\"Dragon\"",
          "\"Steel\"",
          "\"Ghost\"",
          null,
          null,
          null,
          null,
          null,
          null,
          null,
          null,
          null,
          null,
          null,
          null,
          null,
          null,
          null,
          null,
          null,
          null,
          null,
          null,
          "\"Steel\"",
          "\"Steel\"",
          null,
          "\"Psychic\"",
          "\"Psychic\"",
          "\"Psychic\"",
          null,
          null,
          null,
          null,
          null,
          null,
          null,
          "\"Rock\"",
          "\"Rock\"",
          null,
          null,
          null,
          "\"Fire\"",
          "\"Fire\"",
          "\"Fire\"",
          "\"Dragon\"",
          "\"Dragon\"",
          "\"Dragon\"",
          "\"Dragon\"",
          "\"Dragon\"",
          null,
          null,
          null,
          "\"Water\"",
          null,
          null,
          "\"Poison\"",
          "\"Poison\"",
          "\"Poison\"",
          "\"Poison\"",
          "\"Poison\"",
          "\"Bug\"",
          "\"Bug\"",
          "\"Bug\"",
          null,
          null,
          null,
          null,
          null,
          null,
          null,
          null,
          "\"Fairy\"",
          "\"Fairy\"",
          "\"Fairy\"",
          "\"Fairy\"",
          "\"Fairy\"",
          "\"Fairy\"",
          "\"Normal\"",
          null,
          null,
          null,
          "\"Psychic\"",
          "\"Ghost\"",
          null,
          null,
          null,
          null,
          null,
          null,
          null,
          null,
          null,
          null,
          null,
          null,
          null,
          "\"Bug\"",
          "\"Bug\"",
          null,
          null,
          null,
          "\"Normal\"",
          "\"Normal\"",
          "\"Dark\"",
          null,
          null,
          null,
          "\"Dragon\"",
          "\"Ice\"",
          "\"Dragon\"",
          "\"Ice\"",
          "\"Dragon\"",
          "\"Dragon\"",
          "\"Ghost\"",
          "\"Ghost\"",
          "\"Ghost\"",
          null,
          "\"Steel\"",
          null,
          "\"Steel\"",
          "\"Dragon\"",
          "\"Dragon\"",
          null,
          "\"Dark\"",
          "\"Dark\"",
          "\"Water\"",
          "\"Water\"",
          "\"Dark\"",
          "\"Water\"",
          "\"Grass\"",
          "\"Grass\"",
          null,
          null,
          null,
          null,
          "\"Grass\"",
          "\"Ice\"",
          "\"Ghost\"",
          "\"Psychic\"",
          "\"Psychic\"",
          "\"Rock\"",
          "\"Normal\"",
          "\"Normal\"",
          "\"Normal\"",
          "\"Ghost\"",
          "\"Ghost\"",
          "\"Poison\"",
          "\"Poison\"",
          "\"Poison\"",
          "\"Flying\"",
          "\"Flying\"",
          null,
          null,
          "\"Dark\"",
          null,
          null,
          "\"Ghost\"",
          null,
          null,
          "\"Fighting\"",
          null,
          null,
          null,
          null,
          null,
          null,
          "\"Dark\"",
          null,
          "\"Fighting\"",
          "\"Fighting\"",
          null,
          null,
          null,
          null,
          null,
          "\"Normal\"",
          "\"Normal\"",
          "\"Normal\"",
          "\"Flying\"",
          "\"Flying\"",
          "\"Flying\"",
          "\"Flying\"",
          null,
          null,
          null,
          null,
          "\"Psychic\"",
          "\"Ghost\"",
          null,
          null,
          "\"Flying\"",
          "\"Flying\"",
          null,
          null,
          "\"Normal\"",
          "\"Normal\"",
          "\"Ghost\"",
          "\"Ghost\"",
          "\"Grass\"",
          "\"Grass\"",
          null,
          null,
          "\"Fire\"",
          null,
          "\"Psychic\"",
          null,
          null,
          "\"Steel\"",
          "\"Steel\"",
          "\"Steel\"",
          null,
          null,
          "\"Dark\"",
          null,
          null,
          null,
          "\"Poison\"",
          "\"Poison\"",
          "\"Normal\"",
          null,
          "\"Poison\"",
          "\"Poison\"",
          null,
          null,
          "\"Fighting\"",
          null,
          null,
          "\"Psychic\"",
          null,
          "\"Water\"",
          "\"Water\"",
          "\"Water\"",
          "\"Ghost\"",
          "\"Ground\"",
          "\"Psychic\"",
          null,
          null,
          "\"Steel\"",
          "\"Fighting\"",
          "\"Psychic\"",
          "\"Dark\"",
          "\"Fairy\"",
          "\"Fighting\"",
          "\"Ground\"",
          "\"Steel\"",
          "\"Water\"",
          "\"Electric\"",
          "\"Flying\"",
          "\"Poison\"",
          "\"Electric\"",
          "\"Ice\"",
          "\"Ice\"",
          "\"Ice\"",
          null,
          null,
          "\"Ghost\"",
          "\"Ghost\"",
          "\"Grass\"",
          "\"Ice\"",
          "\"Ground\"",
          "\"Fire\"",
          "\"Dark\"",
          "\"Fighting\"",
          "\"Dragon\"",
          "\"Dragon\"",
          "\"Dragon\"",
          "\"Psychic\"",
          "\"Dragon\"",
          "\"Ghost\"",
          "\"Ghost\"",
          "\"Ghost\"",
          "\"Ghost\"",
          "\"Fighting\"",
          "\"Psychic\"",
          "\"Fairy\"",
          null,
          "\"Water\"",
          "\"Fire\"",
          "\"Rock\"",
          "\"Dragon\"",
          "\"Dragon\"",
          "\"Dragon\"",
          "\"Dragon\"",
          "\"Psychic\"",
          "\"Psychic\"",
          null,
          null,
          null,
          "\"Ghost\""
         ],
         "legendgroup": "",
         "name": "",
         "showlegend": true,
         "textinfo": "percent+label",
         "textposition": "inside",
         "type": "pie"
        }
       ],
       "layout": {
        "legend": {
         "orientation": "v",
         "tracegroupgap": 0,
         "x": 1,
         "xanchor": "right",
         "y": 0.5,
         "yanchor": "middle"
        },
        "template": {
         "data": {
          "bar": [
           {
            "error_x": {
             "color": "#2a3f5f"
            },
            "error_y": {
             "color": "#2a3f5f"
            },
            "marker": {
             "line": {
              "color": "#E5ECF6",
              "width": 0.5
             },
             "pattern": {
              "fillmode": "overlay",
              "size": 10,
              "solidity": 0.2
             }
            },
            "type": "bar"
           }
          ],
          "barpolar": [
           {
            "marker": {
             "line": {
              "color": "#E5ECF6",
              "width": 0.5
             },
             "pattern": {
              "fillmode": "overlay",
              "size": 10,
              "solidity": 0.2
             }
            },
            "type": "barpolar"
           }
          ],
          "carpet": [
           {
            "aaxis": {
             "endlinecolor": "#2a3f5f",
             "gridcolor": "white",
             "linecolor": "white",
             "minorgridcolor": "white",
             "startlinecolor": "#2a3f5f"
            },
            "baxis": {
             "endlinecolor": "#2a3f5f",
             "gridcolor": "white",
             "linecolor": "white",
             "minorgridcolor": "white",
             "startlinecolor": "#2a3f5f"
            },
            "type": "carpet"
           }
          ],
          "choropleth": [
           {
            "colorbar": {
             "outlinewidth": 0,
             "ticks": ""
            },
            "type": "choropleth"
           }
          ],
          "contour": [
           {
            "colorbar": {
             "outlinewidth": 0,
             "ticks": ""
            },
            "colorscale": [
             [
              0,
              "#0d0887"
             ],
             [
              0.1111111111111111,
              "#46039f"
             ],
             [
              0.2222222222222222,
              "#7201a8"
             ],
             [
              0.3333333333333333,
              "#9c179e"
             ],
             [
              0.4444444444444444,
              "#bd3786"
             ],
             [
              0.5555555555555556,
              "#d8576b"
             ],
             [
              0.6666666666666666,
              "#ed7953"
             ],
             [
              0.7777777777777778,
              "#fb9f3a"
             ],
             [
              0.8888888888888888,
              "#fdca26"
             ],
             [
              1,
              "#f0f921"
             ]
            ],
            "type": "contour"
           }
          ],
          "contourcarpet": [
           {
            "colorbar": {
             "outlinewidth": 0,
             "ticks": ""
            },
            "type": "contourcarpet"
           }
          ],
          "heatmap": [
           {
            "colorbar": {
             "outlinewidth": 0,
             "ticks": ""
            },
            "colorscale": [
             [
              0,
              "#0d0887"
             ],
             [
              0.1111111111111111,
              "#46039f"
             ],
             [
              0.2222222222222222,
              "#7201a8"
             ],
             [
              0.3333333333333333,
              "#9c179e"
             ],
             [
              0.4444444444444444,
              "#bd3786"
             ],
             [
              0.5555555555555556,
              "#d8576b"
             ],
             [
              0.6666666666666666,
              "#ed7953"
             ],
             [
              0.7777777777777778,
              "#fb9f3a"
             ],
             [
              0.8888888888888888,
              "#fdca26"
             ],
             [
              1,
              "#f0f921"
             ]
            ],
            "type": "heatmap"
           }
          ],
          "heatmapgl": [
           {
            "colorbar": {
             "outlinewidth": 0,
             "ticks": ""
            },
            "colorscale": [
             [
              0,
              "#0d0887"
             ],
             [
              0.1111111111111111,
              "#46039f"
             ],
             [
              0.2222222222222222,
              "#7201a8"
             ],
             [
              0.3333333333333333,
              "#9c179e"
             ],
             [
              0.4444444444444444,
              "#bd3786"
             ],
             [
              0.5555555555555556,
              "#d8576b"
             ],
             [
              0.6666666666666666,
              "#ed7953"
             ],
             [
              0.7777777777777778,
              "#fb9f3a"
             ],
             [
              0.8888888888888888,
              "#fdca26"
             ],
             [
              1,
              "#f0f921"
             ]
            ],
            "type": "heatmapgl"
           }
          ],
          "histogram": [
           {
            "marker": {
             "pattern": {
              "fillmode": "overlay",
              "size": 10,
              "solidity": 0.2
             }
            },
            "type": "histogram"
           }
          ],
          "histogram2d": [
           {
            "colorbar": {
             "outlinewidth": 0,
             "ticks": ""
            },
            "colorscale": [
             [
              0,
              "#0d0887"
             ],
             [
              0.1111111111111111,
              "#46039f"
             ],
             [
              0.2222222222222222,
              "#7201a8"
             ],
             [
              0.3333333333333333,
              "#9c179e"
             ],
             [
              0.4444444444444444,
              "#bd3786"
             ],
             [
              0.5555555555555556,
              "#d8576b"
             ],
             [
              0.6666666666666666,
              "#ed7953"
             ],
             [
              0.7777777777777778,
              "#fb9f3a"
             ],
             [
              0.8888888888888888,
              "#fdca26"
             ],
             [
              1,
              "#f0f921"
             ]
            ],
            "type": "histogram2d"
           }
          ],
          "histogram2dcontour": [
           {
            "colorbar": {
             "outlinewidth": 0,
             "ticks": ""
            },
            "colorscale": [
             [
              0,
              "#0d0887"
             ],
             [
              0.1111111111111111,
              "#46039f"
             ],
             [
              0.2222222222222222,
              "#7201a8"
             ],
             [
              0.3333333333333333,
              "#9c179e"
             ],
             [
              0.4444444444444444,
              "#bd3786"
             ],
             [
              0.5555555555555556,
              "#d8576b"
             ],
             [
              0.6666666666666666,
              "#ed7953"
             ],
             [
              0.7777777777777778,
              "#fb9f3a"
             ],
             [
              0.8888888888888888,
              "#fdca26"
             ],
             [
              1,
              "#f0f921"
             ]
            ],
            "type": "histogram2dcontour"
           }
          ],
          "mesh3d": [
           {
            "colorbar": {
             "outlinewidth": 0,
             "ticks": ""
            },
            "type": "mesh3d"
           }
          ],
          "parcoords": [
           {
            "line": {
             "colorbar": {
              "outlinewidth": 0,
              "ticks": ""
             }
            },
            "type": "parcoords"
           }
          ],
          "pie": [
           {
            "automargin": true,
            "type": "pie"
           }
          ],
          "scatter": [
           {
            "fillpattern": {
             "fillmode": "overlay",
             "size": 10,
             "solidity": 0.2
            },
            "type": "scatter"
           }
          ],
          "scatter3d": [
           {
            "line": {
             "colorbar": {
              "outlinewidth": 0,
              "ticks": ""
             }
            },
            "marker": {
             "colorbar": {
              "outlinewidth": 0,
              "ticks": ""
             }
            },
            "type": "scatter3d"
           }
          ],
          "scattercarpet": [
           {
            "marker": {
             "colorbar": {
              "outlinewidth": 0,
              "ticks": ""
             }
            },
            "type": "scattercarpet"
           }
          ],
          "scattergeo": [
           {
            "marker": {
             "colorbar": {
              "outlinewidth": 0,
              "ticks": ""
             }
            },
            "type": "scattergeo"
           }
          ],
          "scattergl": [
           {
            "marker": {
             "colorbar": {
              "outlinewidth": 0,
              "ticks": ""
             }
            },
            "type": "scattergl"
           }
          ],
          "scattermapbox": [
           {
            "marker": {
             "colorbar": {
              "outlinewidth": 0,
              "ticks": ""
             }
            },
            "type": "scattermapbox"
           }
          ],
          "scatterpolar": [
           {
            "marker": {
             "colorbar": {
              "outlinewidth": 0,
              "ticks": ""
             }
            },
            "type": "scatterpolar"
           }
          ],
          "scatterpolargl": [
           {
            "marker": {
             "colorbar": {
              "outlinewidth": 0,
              "ticks": ""
             }
            },
            "type": "scatterpolargl"
           }
          ],
          "scatterternary": [
           {
            "marker": {
             "colorbar": {
              "outlinewidth": 0,
              "ticks": ""
             }
            },
            "type": "scatterternary"
           }
          ],
          "surface": [
           {
            "colorbar": {
             "outlinewidth": 0,
             "ticks": ""
            },
            "colorscale": [
             [
              0,
              "#0d0887"
             ],
             [
              0.1111111111111111,
              "#46039f"
             ],
             [
              0.2222222222222222,
              "#7201a8"
             ],
             [
              0.3333333333333333,
              "#9c179e"
             ],
             [
              0.4444444444444444,
              "#bd3786"
             ],
             [
              0.5555555555555556,
              "#d8576b"
             ],
             [
              0.6666666666666666,
              "#ed7953"
             ],
             [
              0.7777777777777778,
              "#fb9f3a"
             ],
             [
              0.8888888888888888,
              "#fdca26"
             ],
             [
              1,
              "#f0f921"
             ]
            ],
            "type": "surface"
           }
          ],
          "table": [
           {
            "cells": {
             "fill": {
              "color": "#EBF0F8"
             },
             "line": {
              "color": "white"
             }
            },
            "header": {
             "fill": {
              "color": "#C8D4E3"
             },
             "line": {
              "color": "white"
             }
            },
            "type": "table"
           }
          ]
         },
         "layout": {
          "annotationdefaults": {
           "arrowcolor": "#2a3f5f",
           "arrowhead": 0,
           "arrowwidth": 1
          },
          "autotypenumbers": "strict",
          "coloraxis": {
           "colorbar": {
            "outlinewidth": 0,
            "ticks": ""
           }
          },
          "colorscale": {
           "diverging": [
            [
             0,
             "#8e0152"
            ],
            [
             0.1,
             "#c51b7d"
            ],
            [
             0.2,
             "#de77ae"
            ],
            [
             0.3,
             "#f1b6da"
            ],
            [
             0.4,
             "#fde0ef"
            ],
            [
             0.5,
             "#f7f7f7"
            ],
            [
             0.6,
             "#e6f5d0"
            ],
            [
             0.7,
             "#b8e186"
            ],
            [
             0.8,
             "#7fbc41"
            ],
            [
             0.9,
             "#4d9221"
            ],
            [
             1,
             "#276419"
            ]
           ],
           "sequential": [
            [
             0,
             "#0d0887"
            ],
            [
             0.1111111111111111,
             "#46039f"
            ],
            [
             0.2222222222222222,
             "#7201a8"
            ],
            [
             0.3333333333333333,
             "#9c179e"
            ],
            [
             0.4444444444444444,
             "#bd3786"
            ],
            [
             0.5555555555555556,
             "#d8576b"
            ],
            [
             0.6666666666666666,
             "#ed7953"
            ],
            [
             0.7777777777777778,
             "#fb9f3a"
            ],
            [
             0.8888888888888888,
             "#fdca26"
            ],
            [
             1,
             "#f0f921"
            ]
           ],
           "sequentialminus": [
            [
             0,
             "#0d0887"
            ],
            [
             0.1111111111111111,
             "#46039f"
            ],
            [
             0.2222222222222222,
             "#7201a8"
            ],
            [
             0.3333333333333333,
             "#9c179e"
            ],
            [
             0.4444444444444444,
             "#bd3786"
            ],
            [
             0.5555555555555556,
             "#d8576b"
            ],
            [
             0.6666666666666666,
             "#ed7953"
            ],
            [
             0.7777777777777778,
             "#fb9f3a"
            ],
            [
             0.8888888888888888,
             "#fdca26"
            ],
            [
             1,
             "#f0f921"
            ]
           ]
          },
          "colorway": [
           "#636efa",
           "#EF553B",
           "#00cc96",
           "#ab63fa",
           "#FFA15A",
           "#19d3f3",
           "#FF6692",
           "#B6E880",
           "#FF97FF",
           "#FECB52"
          ],
          "font": {
           "color": "#2a3f5f"
          },
          "geo": {
           "bgcolor": "white",
           "lakecolor": "white",
           "landcolor": "#E5ECF6",
           "showlakes": true,
           "showland": true,
           "subunitcolor": "white"
          },
          "hoverlabel": {
           "align": "left"
          },
          "hovermode": "closest",
          "mapbox": {
           "style": "light"
          },
          "paper_bgcolor": "white",
          "plot_bgcolor": "#E5ECF6",
          "polar": {
           "angularaxis": {
            "gridcolor": "white",
            "linecolor": "white",
            "ticks": ""
           },
           "bgcolor": "#E5ECF6",
           "radialaxis": {
            "gridcolor": "white",
            "linecolor": "white",
            "ticks": ""
           }
          },
          "scene": {
           "xaxis": {
            "backgroundcolor": "#E5ECF6",
            "gridcolor": "white",
            "gridwidth": 2,
            "linecolor": "white",
            "showbackground": true,
            "ticks": "",
            "zerolinecolor": "white"
           },
           "yaxis": {
            "backgroundcolor": "#E5ECF6",
            "gridcolor": "white",
            "gridwidth": 2,
            "linecolor": "white",
            "showbackground": true,
            "ticks": "",
            "zerolinecolor": "white"
           },
           "zaxis": {
            "backgroundcolor": "#E5ECF6",
            "gridcolor": "white",
            "gridwidth": 2,
            "linecolor": "white",
            "showbackground": true,
            "ticks": "",
            "zerolinecolor": "white"
           }
          },
          "shapedefaults": {
           "line": {
            "color": "#2a3f5f"
           }
          },
          "ternary": {
           "aaxis": {
            "gridcolor": "white",
            "linecolor": "white",
            "ticks": ""
           },
           "baxis": {
            "gridcolor": "white",
            "linecolor": "white",
            "ticks": ""
           },
           "bgcolor": "#E5ECF6",
           "caxis": {
            "gridcolor": "white",
            "linecolor": "white",
            "ticks": ""
           }
          },
          "title": {
           "x": 0.05
          },
          "xaxis": {
           "automargin": true,
           "gridcolor": "white",
           "linecolor": "white",
           "ticks": "",
           "title": {
            "standoff": 15
           },
           "zerolinecolor": "white",
           "zerolinewidth": 2
          },
          "yaxis": {
           "automargin": true,
           "gridcolor": "white",
           "linecolor": "white",
           "ticks": "",
           "title": {
            "standoff": 15
           },
           "zerolinecolor": "white",
           "zerolinewidth": 2
          }
         }
        },
        "title": {
         "text": "Secondary Type Distribution"
        }
       }
      }
     },
     "metadata": {},
     "output_type": "display_data"
    }
   ],
   "source": [
    "fig = px.pie(df, names='Secondary Type', title='Secondary Type Distribution')\n",
    "fig.update_traces(textposition='inside', textinfo='percent+label')\n",
    "fig.update_layout(legend=dict(orientation=\"v\", yanchor=\"middle\", y=0.5, xanchor=\"right\", x=1))\n",
    "fig.show()"
   ]
  },
  {
   "cell_type": "code",
   "execution_count": 73,
   "metadata": {},
   "outputs": [
    {
     "data": {
      "application/vnd.plotly.v1+json": {
       "config": {
        "plotlyServerURL": "https://plot.ly"
       },
       "data": [
        {
         "alignmentgroup": "True",
         "hovertemplate": "variable=count<br>Secondary Type=%{x}<br>value=%{y}<extra></extra>",
         "legendgroup": "count",
         "marker": {
          "color": "#636efa",
          "pattern": {
           "shape": ""
          }
         },
         "name": "count",
         "offsetgroup": "count",
         "orientation": "v",
         "showlegend": true,
         "textposition": "auto",
         "type": "bar",
         "x": [
          "\"Flying\"",
          "\"Psychic\"",
          "\"Poison\"",
          "\"Dragon\"",
          "\"Fairy\"",
          "\"Ghost\"",
          "\"Steel\"",
          "\"Ground\"",
          "\"Fighting\"",
          "\"Grass\"",
          "\"Dark\"",
          "\"Water\"",
          "\"Fire\"",
          "\"Ice\"",
          "\"Rock\"",
          "\"Normal\"",
          "\"Electric\"",
          "\"Bug\""
         ],
         "xaxis": "x",
         "y": [
          152,
          57,
          53,
          49,
          46,
          45,
          45,
          45,
          43,
          40,
          35,
          28,
          24,
          24,
          22,
          20,
          14,
          10
         ],
         "yaxis": "y"
        }
       ],
       "layout": {
        "barmode": "relative",
        "legend": {
         "title": {
          "text": "variable"
         },
         "tracegroupgap": 0
        },
        "template": {
         "data": {
          "bar": [
           {
            "error_x": {
             "color": "#2a3f5f"
            },
            "error_y": {
             "color": "#2a3f5f"
            },
            "marker": {
             "line": {
              "color": "#E5ECF6",
              "width": 0.5
             },
             "pattern": {
              "fillmode": "overlay",
              "size": 10,
              "solidity": 0.2
             }
            },
            "type": "bar"
           }
          ],
          "barpolar": [
           {
            "marker": {
             "line": {
              "color": "#E5ECF6",
              "width": 0.5
             },
             "pattern": {
              "fillmode": "overlay",
              "size": 10,
              "solidity": 0.2
             }
            },
            "type": "barpolar"
           }
          ],
          "carpet": [
           {
            "aaxis": {
             "endlinecolor": "#2a3f5f",
             "gridcolor": "white",
             "linecolor": "white",
             "minorgridcolor": "white",
             "startlinecolor": "#2a3f5f"
            },
            "baxis": {
             "endlinecolor": "#2a3f5f",
             "gridcolor": "white",
             "linecolor": "white",
             "minorgridcolor": "white",
             "startlinecolor": "#2a3f5f"
            },
            "type": "carpet"
           }
          ],
          "choropleth": [
           {
            "colorbar": {
             "outlinewidth": 0,
             "ticks": ""
            },
            "type": "choropleth"
           }
          ],
          "contour": [
           {
            "colorbar": {
             "outlinewidth": 0,
             "ticks": ""
            },
            "colorscale": [
             [
              0,
              "#0d0887"
             ],
             [
              0.1111111111111111,
              "#46039f"
             ],
             [
              0.2222222222222222,
              "#7201a8"
             ],
             [
              0.3333333333333333,
              "#9c179e"
             ],
             [
              0.4444444444444444,
              "#bd3786"
             ],
             [
              0.5555555555555556,
              "#d8576b"
             ],
             [
              0.6666666666666666,
              "#ed7953"
             ],
             [
              0.7777777777777778,
              "#fb9f3a"
             ],
             [
              0.8888888888888888,
              "#fdca26"
             ],
             [
              1,
              "#f0f921"
             ]
            ],
            "type": "contour"
           }
          ],
          "contourcarpet": [
           {
            "colorbar": {
             "outlinewidth": 0,
             "ticks": ""
            },
            "type": "contourcarpet"
           }
          ],
          "heatmap": [
           {
            "colorbar": {
             "outlinewidth": 0,
             "ticks": ""
            },
            "colorscale": [
             [
              0,
              "#0d0887"
             ],
             [
              0.1111111111111111,
              "#46039f"
             ],
             [
              0.2222222222222222,
              "#7201a8"
             ],
             [
              0.3333333333333333,
              "#9c179e"
             ],
             [
              0.4444444444444444,
              "#bd3786"
             ],
             [
              0.5555555555555556,
              "#d8576b"
             ],
             [
              0.6666666666666666,
              "#ed7953"
             ],
             [
              0.7777777777777778,
              "#fb9f3a"
             ],
             [
              0.8888888888888888,
              "#fdca26"
             ],
             [
              1,
              "#f0f921"
             ]
            ],
            "type": "heatmap"
           }
          ],
          "heatmapgl": [
           {
            "colorbar": {
             "outlinewidth": 0,
             "ticks": ""
            },
            "colorscale": [
             [
              0,
              "#0d0887"
             ],
             [
              0.1111111111111111,
              "#46039f"
             ],
             [
              0.2222222222222222,
              "#7201a8"
             ],
             [
              0.3333333333333333,
              "#9c179e"
             ],
             [
              0.4444444444444444,
              "#bd3786"
             ],
             [
              0.5555555555555556,
              "#d8576b"
             ],
             [
              0.6666666666666666,
              "#ed7953"
             ],
             [
              0.7777777777777778,
              "#fb9f3a"
             ],
             [
              0.8888888888888888,
              "#fdca26"
             ],
             [
              1,
              "#f0f921"
             ]
            ],
            "type": "heatmapgl"
           }
          ],
          "histogram": [
           {
            "marker": {
             "pattern": {
              "fillmode": "overlay",
              "size": 10,
              "solidity": 0.2
             }
            },
            "type": "histogram"
           }
          ],
          "histogram2d": [
           {
            "colorbar": {
             "outlinewidth": 0,
             "ticks": ""
            },
            "colorscale": [
             [
              0,
              "#0d0887"
             ],
             [
              0.1111111111111111,
              "#46039f"
             ],
             [
              0.2222222222222222,
              "#7201a8"
             ],
             [
              0.3333333333333333,
              "#9c179e"
             ],
             [
              0.4444444444444444,
              "#bd3786"
             ],
             [
              0.5555555555555556,
              "#d8576b"
             ],
             [
              0.6666666666666666,
              "#ed7953"
             ],
             [
              0.7777777777777778,
              "#fb9f3a"
             ],
             [
              0.8888888888888888,
              "#fdca26"
             ],
             [
              1,
              "#f0f921"
             ]
            ],
            "type": "histogram2d"
           }
          ],
          "histogram2dcontour": [
           {
            "colorbar": {
             "outlinewidth": 0,
             "ticks": ""
            },
            "colorscale": [
             [
              0,
              "#0d0887"
             ],
             [
              0.1111111111111111,
              "#46039f"
             ],
             [
              0.2222222222222222,
              "#7201a8"
             ],
             [
              0.3333333333333333,
              "#9c179e"
             ],
             [
              0.4444444444444444,
              "#bd3786"
             ],
             [
              0.5555555555555556,
              "#d8576b"
             ],
             [
              0.6666666666666666,
              "#ed7953"
             ],
             [
              0.7777777777777778,
              "#fb9f3a"
             ],
             [
              0.8888888888888888,
              "#fdca26"
             ],
             [
              1,
              "#f0f921"
             ]
            ],
            "type": "histogram2dcontour"
           }
          ],
          "mesh3d": [
           {
            "colorbar": {
             "outlinewidth": 0,
             "ticks": ""
            },
            "type": "mesh3d"
           }
          ],
          "parcoords": [
           {
            "line": {
             "colorbar": {
              "outlinewidth": 0,
              "ticks": ""
             }
            },
            "type": "parcoords"
           }
          ],
          "pie": [
           {
            "automargin": true,
            "type": "pie"
           }
          ],
          "scatter": [
           {
            "fillpattern": {
             "fillmode": "overlay",
             "size": 10,
             "solidity": 0.2
            },
            "type": "scatter"
           }
          ],
          "scatter3d": [
           {
            "line": {
             "colorbar": {
              "outlinewidth": 0,
              "ticks": ""
             }
            },
            "marker": {
             "colorbar": {
              "outlinewidth": 0,
              "ticks": ""
             }
            },
            "type": "scatter3d"
           }
          ],
          "scattercarpet": [
           {
            "marker": {
             "colorbar": {
              "outlinewidth": 0,
              "ticks": ""
             }
            },
            "type": "scattercarpet"
           }
          ],
          "scattergeo": [
           {
            "marker": {
             "colorbar": {
              "outlinewidth": 0,
              "ticks": ""
             }
            },
            "type": "scattergeo"
           }
          ],
          "scattergl": [
           {
            "marker": {
             "colorbar": {
              "outlinewidth": 0,
              "ticks": ""
             }
            },
            "type": "scattergl"
           }
          ],
          "scattermapbox": [
           {
            "marker": {
             "colorbar": {
              "outlinewidth": 0,
              "ticks": ""
             }
            },
            "type": "scattermapbox"
           }
          ],
          "scatterpolar": [
           {
            "marker": {
             "colorbar": {
              "outlinewidth": 0,
              "ticks": ""
             }
            },
            "type": "scatterpolar"
           }
          ],
          "scatterpolargl": [
           {
            "marker": {
             "colorbar": {
              "outlinewidth": 0,
              "ticks": ""
             }
            },
            "type": "scatterpolargl"
           }
          ],
          "scatterternary": [
           {
            "marker": {
             "colorbar": {
              "outlinewidth": 0,
              "ticks": ""
             }
            },
            "type": "scatterternary"
           }
          ],
          "surface": [
           {
            "colorbar": {
             "outlinewidth": 0,
             "ticks": ""
            },
            "colorscale": [
             [
              0,
              "#0d0887"
             ],
             [
              0.1111111111111111,
              "#46039f"
             ],
             [
              0.2222222222222222,
              "#7201a8"
             ],
             [
              0.3333333333333333,
              "#9c179e"
             ],
             [
              0.4444444444444444,
              "#bd3786"
             ],
             [
              0.5555555555555556,
              "#d8576b"
             ],
             [
              0.6666666666666666,
              "#ed7953"
             ],
             [
              0.7777777777777778,
              "#fb9f3a"
             ],
             [
              0.8888888888888888,
              "#fdca26"
             ],
             [
              1,
              "#f0f921"
             ]
            ],
            "type": "surface"
           }
          ],
          "table": [
           {
            "cells": {
             "fill": {
              "color": "#EBF0F8"
             },
             "line": {
              "color": "white"
             }
            },
            "header": {
             "fill": {
              "color": "#C8D4E3"
             },
             "line": {
              "color": "white"
             }
            },
            "type": "table"
           }
          ]
         },
         "layout": {
          "annotationdefaults": {
           "arrowcolor": "#2a3f5f",
           "arrowhead": 0,
           "arrowwidth": 1
          },
          "autotypenumbers": "strict",
          "coloraxis": {
           "colorbar": {
            "outlinewidth": 0,
            "ticks": ""
           }
          },
          "colorscale": {
           "diverging": [
            [
             0,
             "#8e0152"
            ],
            [
             0.1,
             "#c51b7d"
            ],
            [
             0.2,
             "#de77ae"
            ],
            [
             0.3,
             "#f1b6da"
            ],
            [
             0.4,
             "#fde0ef"
            ],
            [
             0.5,
             "#f7f7f7"
            ],
            [
             0.6,
             "#e6f5d0"
            ],
            [
             0.7,
             "#b8e186"
            ],
            [
             0.8,
             "#7fbc41"
            ],
            [
             0.9,
             "#4d9221"
            ],
            [
             1,
             "#276419"
            ]
           ],
           "sequential": [
            [
             0,
             "#0d0887"
            ],
            [
             0.1111111111111111,
             "#46039f"
            ],
            [
             0.2222222222222222,
             "#7201a8"
            ],
            [
             0.3333333333333333,
             "#9c179e"
            ],
            [
             0.4444444444444444,
             "#bd3786"
            ],
            [
             0.5555555555555556,
             "#d8576b"
            ],
            [
             0.6666666666666666,
             "#ed7953"
            ],
            [
             0.7777777777777778,
             "#fb9f3a"
            ],
            [
             0.8888888888888888,
             "#fdca26"
            ],
            [
             1,
             "#f0f921"
            ]
           ],
           "sequentialminus": [
            [
             0,
             "#0d0887"
            ],
            [
             0.1111111111111111,
             "#46039f"
            ],
            [
             0.2222222222222222,
             "#7201a8"
            ],
            [
             0.3333333333333333,
             "#9c179e"
            ],
            [
             0.4444444444444444,
             "#bd3786"
            ],
            [
             0.5555555555555556,
             "#d8576b"
            ],
            [
             0.6666666666666666,
             "#ed7953"
            ],
            [
             0.7777777777777778,
             "#fb9f3a"
            ],
            [
             0.8888888888888888,
             "#fdca26"
            ],
            [
             1,
             "#f0f921"
            ]
           ]
          },
          "colorway": [
           "#636efa",
           "#EF553B",
           "#00cc96",
           "#ab63fa",
           "#FFA15A",
           "#19d3f3",
           "#FF6692",
           "#B6E880",
           "#FF97FF",
           "#FECB52"
          ],
          "font": {
           "color": "#2a3f5f"
          },
          "geo": {
           "bgcolor": "white",
           "lakecolor": "white",
           "landcolor": "#E5ECF6",
           "showlakes": true,
           "showland": true,
           "subunitcolor": "white"
          },
          "hoverlabel": {
           "align": "left"
          },
          "hovermode": "closest",
          "mapbox": {
           "style": "light"
          },
          "paper_bgcolor": "white",
          "plot_bgcolor": "#E5ECF6",
          "polar": {
           "angularaxis": {
            "gridcolor": "white",
            "linecolor": "white",
            "ticks": ""
           },
           "bgcolor": "#E5ECF6",
           "radialaxis": {
            "gridcolor": "white",
            "linecolor": "white",
            "ticks": ""
           }
          },
          "scene": {
           "xaxis": {
            "backgroundcolor": "#E5ECF6",
            "gridcolor": "white",
            "gridwidth": 2,
            "linecolor": "white",
            "showbackground": true,
            "ticks": "",
            "zerolinecolor": "white"
           },
           "yaxis": {
            "backgroundcolor": "#E5ECF6",
            "gridcolor": "white",
            "gridwidth": 2,
            "linecolor": "white",
            "showbackground": true,
            "ticks": "",
            "zerolinecolor": "white"
           },
           "zaxis": {
            "backgroundcolor": "#E5ECF6",
            "gridcolor": "white",
            "gridwidth": 2,
            "linecolor": "white",
            "showbackground": true,
            "ticks": "",
            "zerolinecolor": "white"
           }
          },
          "shapedefaults": {
           "line": {
            "color": "#2a3f5f"
           }
          },
          "ternary": {
           "aaxis": {
            "gridcolor": "white",
            "linecolor": "white",
            "ticks": ""
           },
           "baxis": {
            "gridcolor": "white",
            "linecolor": "white",
            "ticks": ""
           },
           "bgcolor": "#E5ECF6",
           "caxis": {
            "gridcolor": "white",
            "linecolor": "white",
            "ticks": ""
           }
          },
          "title": {
           "x": 0.05
          },
          "xaxis": {
           "automargin": true,
           "gridcolor": "white",
           "linecolor": "white",
           "ticks": "",
           "title": {
            "standoff": 15
           },
           "zerolinecolor": "white",
           "zerolinewidth": 2
          },
          "yaxis": {
           "automargin": true,
           "gridcolor": "white",
           "linecolor": "white",
           "ticks": "",
           "title": {
            "standoff": 15
           },
           "zerolinecolor": "white",
           "zerolinewidth": 2
          }
         }
        },
        "title": {
         "text": "Secondary Type Distribution"
        },
        "xaxis": {
         "anchor": "y",
         "domain": [
          0,
          1
         ],
         "title": {
          "text": "Secondary Type"
         }
        },
        "yaxis": {
         "anchor": "x",
         "domain": [
          0,
          1
         ],
         "title": {
          "text": "value"
         }
        }
       }
      }
     },
     "metadata": {},
     "output_type": "display_data"
    }
   ],
   "source": [
    "fig = px.bar(df['Secondary Type'].value_counts(), title='Secondary Type Distribution')\n",
    "fig.show()"
   ]
  },
  {
   "cell_type": "code",
   "execution_count": 74,
   "metadata": {},
   "outputs": [],
   "source": [
    "average_height_type = df.groupby('Primary Type')['Pokemon Height'].mean()\n",
    "average_weight_type = df.groupby('Primary Type')['Pokemon Weight'].mean()"
   ]
  },
  {
   "cell_type": "code",
   "execution_count": 75,
   "metadata": {},
   "outputs": [
    {
     "data": {
      "application/vnd.plotly.v1+json": {
       "config": {
        "plotlyServerURL": "https://plot.ly"
       },
       "data": [
        {
         "name": "Average Height in m",
         "text": [
          1.2,
          1.78,
          2.04,
          1.87,
          1.28,
          2.76,
          2.84,
          2.37,
          1.51,
          1.9,
          1.82,
          1.27,
          1.61,
          3.96,
          1.44,
          1.8,
          3.65,
          2.37
         ],
         "textposition": "auto",
         "type": "bar",
         "x": [
          "\"Bug\"",
          "\"Dark\"",
          "\"Dragon\"",
          "\"Electric\"",
          "\"Fairy\"",
          "\"Fighting\"",
          "\"Fire\"",
          "\"Flying\"",
          "\"Ghost\"",
          "\"Grass\"",
          "\"Ground\"",
          "\"Ice\"",
          "\"Normal\"",
          "\"Poison\"",
          "\"Psychic\"",
          "\"Rock\"",
          "\"Steel\"",
          "\"Water\""
         ],
         "y": [
          1.2008695652173913,
          1.7830508474576272,
          2.038775510204082,
          1.87375,
          1.2792452830188679,
          2.76140350877193,
          2.8443037974683545,
          2.3727272727272726,
          1.5075471698113208,
          1.8992,
          1.8196078431372549,
          1.2733333333333332,
          1.6098039215686275,
          3.9559999999999995,
          1.4413793103448276,
          1.8,
          3.6509803921568627,
          2.3729559748427675
         ]
        },
        {
         "name": "Average Weight in m",
         "text": [
          29.53,
          69.55,
          121.13,
          45.91,
          24.66,
          86.37,
          71.74,
          37.25,
          53.8,
          39.73,
          138.82,
          123.9,
          42.34,
          56.66,
          54.93,
          111.32,
          205.15,
          62.39
         ],
         "textposition": "auto",
         "type": "bar",
         "x": [
          "\"Bug\"",
          "\"Dark\"",
          "\"Dragon\"",
          "\"Electric\"",
          "\"Fairy\"",
          "\"Fighting\"",
          "\"Fire\"",
          "\"Flying\"",
          "\"Ghost\"",
          "\"Grass\"",
          "\"Ground\"",
          "\"Ice\"",
          "\"Normal\"",
          "\"Poison\"",
          "\"Psychic\"",
          "\"Rock\"",
          "\"Steel\"",
          "\"Water\""
         ],
         "y": [
          29.532173913043476,
          69.55084745762711,
          121.13265306122449,
          45.9125,
          24.658490566037734,
          86.36842105263158,
          71.73924050632911,
          37.24545454545454,
          53.801886792452834,
          39.7344,
          138.81764705882352,
          123.9,
          42.33660130718954,
          56.66400000000001,
          54.929310344827584,
          111.3157894736842,
          205.15098039215687,
          62.38553459119496
         ]
        },
        {
         "name": "Average Weight per m",
         "text": [
          24.59,
          39.01,
          59.41,
          24.5,
          19.28,
          31.28,
          25.22,
          15.7,
          35.69,
          20.92,
          76.29,
          97.3,
          26.3,
          14.32,
          38.11,
          61.84,
          56.19,
          26.29
         ],
         "textposition": "auto",
         "type": "bar",
         "x": [
          "\"Bug\"",
          "\"Dark\"",
          "\"Dragon\"",
          "\"Electric\"",
          "\"Fairy\"",
          "\"Fighting\"",
          "\"Fire\"",
          "\"Flying\"",
          "\"Ghost\"",
          "\"Grass\"",
          "\"Ground\"",
          "\"Ice\"",
          "\"Normal\"",
          "\"Poison\"",
          "\"Psychic\"",
          "\"Rock\"",
          "\"Steel\"",
          "\"Water\""
         ],
         "y": [
          24.592324402606806,
          39.006653992395435,
          59.41441441441441,
          24.503002001334224,
          19.275811209439528,
          31.27700127064803,
          25.22207387627948,
          15.697318007662835,
          35.68836045056321,
          20.921651221566975,
          76.28987068965517,
          97.30366492146598,
          26.299228583028825,
          14.323559150657234,
          38.108851674641144,
          61.84210526315789,
          56.1906552094522,
          26.29021998409753
         ]
        }
       ],
       "layout": {
        "template": {
         "data": {
          "bar": [
           {
            "error_x": {
             "color": "#2a3f5f"
            },
            "error_y": {
             "color": "#2a3f5f"
            },
            "marker": {
             "line": {
              "color": "#E5ECF6",
              "width": 0.5
             },
             "pattern": {
              "fillmode": "overlay",
              "size": 10,
              "solidity": 0.2
             }
            },
            "type": "bar"
           }
          ],
          "barpolar": [
           {
            "marker": {
             "line": {
              "color": "#E5ECF6",
              "width": 0.5
             },
             "pattern": {
              "fillmode": "overlay",
              "size": 10,
              "solidity": 0.2
             }
            },
            "type": "barpolar"
           }
          ],
          "carpet": [
           {
            "aaxis": {
             "endlinecolor": "#2a3f5f",
             "gridcolor": "white",
             "linecolor": "white",
             "minorgridcolor": "white",
             "startlinecolor": "#2a3f5f"
            },
            "baxis": {
             "endlinecolor": "#2a3f5f",
             "gridcolor": "white",
             "linecolor": "white",
             "minorgridcolor": "white",
             "startlinecolor": "#2a3f5f"
            },
            "type": "carpet"
           }
          ],
          "choropleth": [
           {
            "colorbar": {
             "outlinewidth": 0,
             "ticks": ""
            },
            "type": "choropleth"
           }
          ],
          "contour": [
           {
            "colorbar": {
             "outlinewidth": 0,
             "ticks": ""
            },
            "colorscale": [
             [
              0,
              "#0d0887"
             ],
             [
              0.1111111111111111,
              "#46039f"
             ],
             [
              0.2222222222222222,
              "#7201a8"
             ],
             [
              0.3333333333333333,
              "#9c179e"
             ],
             [
              0.4444444444444444,
              "#bd3786"
             ],
             [
              0.5555555555555556,
              "#d8576b"
             ],
             [
              0.6666666666666666,
              "#ed7953"
             ],
             [
              0.7777777777777778,
              "#fb9f3a"
             ],
             [
              0.8888888888888888,
              "#fdca26"
             ],
             [
              1,
              "#f0f921"
             ]
            ],
            "type": "contour"
           }
          ],
          "contourcarpet": [
           {
            "colorbar": {
             "outlinewidth": 0,
             "ticks": ""
            },
            "type": "contourcarpet"
           }
          ],
          "heatmap": [
           {
            "colorbar": {
             "outlinewidth": 0,
             "ticks": ""
            },
            "colorscale": [
             [
              0,
              "#0d0887"
             ],
             [
              0.1111111111111111,
              "#46039f"
             ],
             [
              0.2222222222222222,
              "#7201a8"
             ],
             [
              0.3333333333333333,
              "#9c179e"
             ],
             [
              0.4444444444444444,
              "#bd3786"
             ],
             [
              0.5555555555555556,
              "#d8576b"
             ],
             [
              0.6666666666666666,
              "#ed7953"
             ],
             [
              0.7777777777777778,
              "#fb9f3a"
             ],
             [
              0.8888888888888888,
              "#fdca26"
             ],
             [
              1,
              "#f0f921"
             ]
            ],
            "type": "heatmap"
           }
          ],
          "heatmapgl": [
           {
            "colorbar": {
             "outlinewidth": 0,
             "ticks": ""
            },
            "colorscale": [
             [
              0,
              "#0d0887"
             ],
             [
              0.1111111111111111,
              "#46039f"
             ],
             [
              0.2222222222222222,
              "#7201a8"
             ],
             [
              0.3333333333333333,
              "#9c179e"
             ],
             [
              0.4444444444444444,
              "#bd3786"
             ],
             [
              0.5555555555555556,
              "#d8576b"
             ],
             [
              0.6666666666666666,
              "#ed7953"
             ],
             [
              0.7777777777777778,
              "#fb9f3a"
             ],
             [
              0.8888888888888888,
              "#fdca26"
             ],
             [
              1,
              "#f0f921"
             ]
            ],
            "type": "heatmapgl"
           }
          ],
          "histogram": [
           {
            "marker": {
             "pattern": {
              "fillmode": "overlay",
              "size": 10,
              "solidity": 0.2
             }
            },
            "type": "histogram"
           }
          ],
          "histogram2d": [
           {
            "colorbar": {
             "outlinewidth": 0,
             "ticks": ""
            },
            "colorscale": [
             [
              0,
              "#0d0887"
             ],
             [
              0.1111111111111111,
              "#46039f"
             ],
             [
              0.2222222222222222,
              "#7201a8"
             ],
             [
              0.3333333333333333,
              "#9c179e"
             ],
             [
              0.4444444444444444,
              "#bd3786"
             ],
             [
              0.5555555555555556,
              "#d8576b"
             ],
             [
              0.6666666666666666,
              "#ed7953"
             ],
             [
              0.7777777777777778,
              "#fb9f3a"
             ],
             [
              0.8888888888888888,
              "#fdca26"
             ],
             [
              1,
              "#f0f921"
             ]
            ],
            "type": "histogram2d"
           }
          ],
          "histogram2dcontour": [
           {
            "colorbar": {
             "outlinewidth": 0,
             "ticks": ""
            },
            "colorscale": [
             [
              0,
              "#0d0887"
             ],
             [
              0.1111111111111111,
              "#46039f"
             ],
             [
              0.2222222222222222,
              "#7201a8"
             ],
             [
              0.3333333333333333,
              "#9c179e"
             ],
             [
              0.4444444444444444,
              "#bd3786"
             ],
             [
              0.5555555555555556,
              "#d8576b"
             ],
             [
              0.6666666666666666,
              "#ed7953"
             ],
             [
              0.7777777777777778,
              "#fb9f3a"
             ],
             [
              0.8888888888888888,
              "#fdca26"
             ],
             [
              1,
              "#f0f921"
             ]
            ],
            "type": "histogram2dcontour"
           }
          ],
          "mesh3d": [
           {
            "colorbar": {
             "outlinewidth": 0,
             "ticks": ""
            },
            "type": "mesh3d"
           }
          ],
          "parcoords": [
           {
            "line": {
             "colorbar": {
              "outlinewidth": 0,
              "ticks": ""
             }
            },
            "type": "parcoords"
           }
          ],
          "pie": [
           {
            "automargin": true,
            "type": "pie"
           }
          ],
          "scatter": [
           {
            "fillpattern": {
             "fillmode": "overlay",
             "size": 10,
             "solidity": 0.2
            },
            "type": "scatter"
           }
          ],
          "scatter3d": [
           {
            "line": {
             "colorbar": {
              "outlinewidth": 0,
              "ticks": ""
             }
            },
            "marker": {
             "colorbar": {
              "outlinewidth": 0,
              "ticks": ""
             }
            },
            "type": "scatter3d"
           }
          ],
          "scattercarpet": [
           {
            "marker": {
             "colorbar": {
              "outlinewidth": 0,
              "ticks": ""
             }
            },
            "type": "scattercarpet"
           }
          ],
          "scattergeo": [
           {
            "marker": {
             "colorbar": {
              "outlinewidth": 0,
              "ticks": ""
             }
            },
            "type": "scattergeo"
           }
          ],
          "scattergl": [
           {
            "marker": {
             "colorbar": {
              "outlinewidth": 0,
              "ticks": ""
             }
            },
            "type": "scattergl"
           }
          ],
          "scattermapbox": [
           {
            "marker": {
             "colorbar": {
              "outlinewidth": 0,
              "ticks": ""
             }
            },
            "type": "scattermapbox"
           }
          ],
          "scatterpolar": [
           {
            "marker": {
             "colorbar": {
              "outlinewidth": 0,
              "ticks": ""
             }
            },
            "type": "scatterpolar"
           }
          ],
          "scatterpolargl": [
           {
            "marker": {
             "colorbar": {
              "outlinewidth": 0,
              "ticks": ""
             }
            },
            "type": "scatterpolargl"
           }
          ],
          "scatterternary": [
           {
            "marker": {
             "colorbar": {
              "outlinewidth": 0,
              "ticks": ""
             }
            },
            "type": "scatterternary"
           }
          ],
          "surface": [
           {
            "colorbar": {
             "outlinewidth": 0,
             "ticks": ""
            },
            "colorscale": [
             [
              0,
              "#0d0887"
             ],
             [
              0.1111111111111111,
              "#46039f"
             ],
             [
              0.2222222222222222,
              "#7201a8"
             ],
             [
              0.3333333333333333,
              "#9c179e"
             ],
             [
              0.4444444444444444,
              "#bd3786"
             ],
             [
              0.5555555555555556,
              "#d8576b"
             ],
             [
              0.6666666666666666,
              "#ed7953"
             ],
             [
              0.7777777777777778,
              "#fb9f3a"
             ],
             [
              0.8888888888888888,
              "#fdca26"
             ],
             [
              1,
              "#f0f921"
             ]
            ],
            "type": "surface"
           }
          ],
          "table": [
           {
            "cells": {
             "fill": {
              "color": "#EBF0F8"
             },
             "line": {
              "color": "white"
             }
            },
            "header": {
             "fill": {
              "color": "#C8D4E3"
             },
             "line": {
              "color": "white"
             }
            },
            "type": "table"
           }
          ]
         },
         "layout": {
          "annotationdefaults": {
           "arrowcolor": "#2a3f5f",
           "arrowhead": 0,
           "arrowwidth": 1
          },
          "autotypenumbers": "strict",
          "coloraxis": {
           "colorbar": {
            "outlinewidth": 0,
            "ticks": ""
           }
          },
          "colorscale": {
           "diverging": [
            [
             0,
             "#8e0152"
            ],
            [
             0.1,
             "#c51b7d"
            ],
            [
             0.2,
             "#de77ae"
            ],
            [
             0.3,
             "#f1b6da"
            ],
            [
             0.4,
             "#fde0ef"
            ],
            [
             0.5,
             "#f7f7f7"
            ],
            [
             0.6,
             "#e6f5d0"
            ],
            [
             0.7,
             "#b8e186"
            ],
            [
             0.8,
             "#7fbc41"
            ],
            [
             0.9,
             "#4d9221"
            ],
            [
             1,
             "#276419"
            ]
           ],
           "sequential": [
            [
             0,
             "#0d0887"
            ],
            [
             0.1111111111111111,
             "#46039f"
            ],
            [
             0.2222222222222222,
             "#7201a8"
            ],
            [
             0.3333333333333333,
             "#9c179e"
            ],
            [
             0.4444444444444444,
             "#bd3786"
            ],
            [
             0.5555555555555556,
             "#d8576b"
            ],
            [
             0.6666666666666666,
             "#ed7953"
            ],
            [
             0.7777777777777778,
             "#fb9f3a"
            ],
            [
             0.8888888888888888,
             "#fdca26"
            ],
            [
             1,
             "#f0f921"
            ]
           ],
           "sequentialminus": [
            [
             0,
             "#0d0887"
            ],
            [
             0.1111111111111111,
             "#46039f"
            ],
            [
             0.2222222222222222,
             "#7201a8"
            ],
            [
             0.3333333333333333,
             "#9c179e"
            ],
            [
             0.4444444444444444,
             "#bd3786"
            ],
            [
             0.5555555555555556,
             "#d8576b"
            ],
            [
             0.6666666666666666,
             "#ed7953"
            ],
            [
             0.7777777777777778,
             "#fb9f3a"
            ],
            [
             0.8888888888888888,
             "#fdca26"
            ],
            [
             1,
             "#f0f921"
            ]
           ]
          },
          "colorway": [
           "#636efa",
           "#EF553B",
           "#00cc96",
           "#ab63fa",
           "#FFA15A",
           "#19d3f3",
           "#FF6692",
           "#B6E880",
           "#FF97FF",
           "#FECB52"
          ],
          "font": {
           "color": "#2a3f5f"
          },
          "geo": {
           "bgcolor": "white",
           "lakecolor": "white",
           "landcolor": "#E5ECF6",
           "showlakes": true,
           "showland": true,
           "subunitcolor": "white"
          },
          "hoverlabel": {
           "align": "left"
          },
          "hovermode": "closest",
          "mapbox": {
           "style": "light"
          },
          "paper_bgcolor": "white",
          "plot_bgcolor": "#E5ECF6",
          "polar": {
           "angularaxis": {
            "gridcolor": "white",
            "linecolor": "white",
            "ticks": ""
           },
           "bgcolor": "#E5ECF6",
           "radialaxis": {
            "gridcolor": "white",
            "linecolor": "white",
            "ticks": ""
           }
          },
          "scene": {
           "xaxis": {
            "backgroundcolor": "#E5ECF6",
            "gridcolor": "white",
            "gridwidth": 2,
            "linecolor": "white",
            "showbackground": true,
            "ticks": "",
            "zerolinecolor": "white"
           },
           "yaxis": {
            "backgroundcolor": "#E5ECF6",
            "gridcolor": "white",
            "gridwidth": 2,
            "linecolor": "white",
            "showbackground": true,
            "ticks": "",
            "zerolinecolor": "white"
           },
           "zaxis": {
            "backgroundcolor": "#E5ECF6",
            "gridcolor": "white",
            "gridwidth": 2,
            "linecolor": "white",
            "showbackground": true,
            "ticks": "",
            "zerolinecolor": "white"
           }
          },
          "shapedefaults": {
           "line": {
            "color": "#2a3f5f"
           }
          },
          "ternary": {
           "aaxis": {
            "gridcolor": "white",
            "linecolor": "white",
            "ticks": ""
           },
           "baxis": {
            "gridcolor": "white",
            "linecolor": "white",
            "ticks": ""
           },
           "bgcolor": "#E5ECF6",
           "caxis": {
            "gridcolor": "white",
            "linecolor": "white",
            "ticks": ""
           }
          },
          "title": {
           "x": 0.05
          },
          "xaxis": {
           "automargin": true,
           "gridcolor": "white",
           "linecolor": "white",
           "ticks": "",
           "title": {
            "standoff": 15
           },
           "zerolinecolor": "white",
           "zerolinewidth": 2
          },
          "yaxis": {
           "automargin": true,
           "gridcolor": "white",
           "linecolor": "white",
           "ticks": "",
           "title": {
            "standoff": 15
           },
           "zerolinecolor": "white",
           "zerolinewidth": 2
          }
         }
        },
        "title": {
         "text": "Average Height and Weight by Type"
        },
        "xaxis": {
         "title": {
          "text": "Type"
         }
        },
        "yaxis": {
         "title": {
          "text": "Average"
         }
        }
       }
      }
     },
     "metadata": {},
     "output_type": "display_data"
    }
   ],
   "source": [
    "fig = go.Figure()\n",
    "fig.add_trace(go.Bar(x=average_height_type.index, y=average_height_type.values, name='Average Height in m', text=average_height_type.values.round(2), textposition='auto'))\n",
    "fig.add_trace(go.Bar(x=average_weight_type.index, y=average_weight_type.values, name='Average Weight in m', text=average_weight_type.values.round(2), textposition='auto'))\n",
    "fig.add_trace(go.Bar(x=average_weight_type.index, y=(average_weight_type.values/average_height_type.values), name='Average Weight per m', text=(average_weight_type.values/average_height_type.values).round(2), textposition='auto'))\n",
    "fig.update_layout(title='Average Height and Weight by Type', xaxis_title='Type', yaxis_title='Average')\n",
    "fig.show()\n"
   ]
  },
  {
   "cell_type": "code",
   "execution_count": 76,
   "metadata": {},
   "outputs": [
    {
     "data": {
      "application/vnd.plotly.v1+json": {
       "config": {
        "plotlyServerURL": "https://plot.ly"
       },
       "data": [
        {
         "customdata": [
          [
           "\"Bulbasaur\"",
           1
          ],
          [
           "\"Ivysaur\"",
           2
          ],
          [
           "\"Venusaur\"",
           3
          ],
          [
           "\"Venusaur\"",
           3
          ],
          [
           "\"Venusaur\"",
           3
          ],
          [
           "\"Oddish\"",
           43
          ],
          [
           "\"Gloom\"",
           44
          ],
          [
           "\"Vileplume\"",
           45
          ],
          [
           "\"Bellsprout\"",
           69
          ],
          [
           "\"Weepinbell\"",
           70
          ],
          [
           "\"Victreebel\"",
           71
          ],
          [
           "\"Exeggcute\"",
           102
          ],
          [
           "\"Exeggutor\"",
           103
          ],
          [
           "\"Exeggutor\"",
           103
          ],
          [
           "\"Exeggutor\"",
           103
          ],
          [
           "\"Exeggutor\"",
           103
          ],
          [
           "\"Exeggutor\"",
           103
          ],
          [
           "\"Tangela\"",
           114
          ],
          [
           "\"Chikorita\"",
           152
          ],
          [
           "\"Bayleef\"",
           153
          ],
          [
           "\"Meganium\"",
           154
          ],
          [
           "\"Bellossom\"",
           182
          ],
          [
           "\"Hoppip\"",
           187
          ],
          [
           "\"Skiploom\"",
           188
          ],
          [
           "\"Jumpluff\"",
           189
          ],
          [
           "\"Sunkern\"",
           191
          ],
          [
           "\"Sunflora\"",
           192
          ],
          [
           "\"Treecko\"",
           252
          ],
          [
           "\"Grovyle\"",
           253
          ],
          [
           "\"Sceptile\"",
           254
          ],
          [
           "\"Sceptile\"",
           254
          ],
          [
           "\"Seedot\"",
           273
          ],
          [
           "\"Nuzleaf\"",
           274
          ],
          [
           "\"Shiftry\"",
           275
          ],
          [
           "\"Shroomish\"",
           285
          ],
          [
           "\"Breloom\"",
           286
          ],
          [
           "\"Roselia\"",
           315
          ],
          [
           "\"Cacnea\"",
           331
          ],
          [
           "\"Cacturne\"",
           332
          ],
          [
           "\"Tropius\"",
           357
          ],
          [
           "\"Turtwig\"",
           387
          ],
          [
           "\"Grotle\"",
           388
          ],
          [
           "\"Torterra\"",
           389
          ],
          [
           "\"Budew\"",
           406
          ],
          [
           "\"Roserade\"",
           407
          ],
          [
           "\"Cherubi\"",
           420
          ],
          [
           "\"Cherrim\"",
           421
          ],
          [
           "\"Carnivine\"",
           455
          ],
          [
           "\"Snover\"",
           459
          ],
          [
           "\"Abomasnow\"",
           460
          ],
          [
           "\"Abomasnow\"",
           460
          ],
          [
           "\"Tangrowth\"",
           465
          ],
          [
           "\"Leafeon\"",
           470
          ],
          [
           "\"Leafeon\"",
           470
          ],
          [
           "\"Shaymin\"",
           492
          ],
          [
           "\"Shaymin\"",
           492
          ],
          [
           "\"Snivy\"",
           495
          ],
          [
           "\"Servine\"",
           496
          ],
          [
           "\"Serperior\"",
           497
          ],
          [
           "\"Pansage\"",
           511
          ],
          [
           "\"Simisage\"",
           512
          ],
          [
           "\"Cottonee\"",
           546
          ],
          [
           "\"Whimsicott\"",
           547
          ],
          [
           "\"Petilil\"",
           548
          ],
          [
           "\"Lilligant\"",
           549
          ],
          [
           "\"Lilligant\"",
           549
          ],
          [
           "\"Lilligant\"",
           549
          ],
          [
           "\"Maractus\"",
           556
          ],
          [
           "\"Foongus\"",
           590
          ],
          [
           "\"Amoonguss\"",
           591
          ],
          [
           "\"Ferroseed\"",
           597
          ],
          [
           "\"Ferrothorn\"",
           598
          ],
          [
           "\"Virizion\"",
           640
          ],
          [
           "\"Chespin\"",
           650
          ],
          [
           "\"Quilladin\"",
           651
          ],
          [
           "\"Chesnaught\"",
           652
          ],
          [
           "\"Skiddo\"",
           672
          ],
          [
           "\"Gogoat\"",
           673
          ],
          [
           "\"Rowlet\"",
           722
          ],
          [
           "\"Dartrix\"",
           723
          ],
          [
           "\"Decidueye\"",
           724
          ],
          [
           "\"Decidueye\"",
           724
          ],
          [
           "\"Decidueye\"",
           724
          ],
          [
           "\"Fomantis\"",
           753
          ],
          [
           "\"Lurantis\"",
           754
          ],
          [
           "\"Morelull\"",
           755
          ],
          [
           "\"Shiinotic\"",
           756
          ],
          [
           "\"Bounsweet\"",
           761
          ],
          [
           "\"Steenee\"",
           762
          ],
          [
           "\"Tsareena\"",
           763
          ],
          [
           "\"Tapu Bulu\"",
           787
          ],
          [
           "\"Kartana\"",
           798
          ],
          [
           "\"Grookey\"",
           810
          ],
          [
           "\"Thwackey\"",
           811
          ],
          [
           "\"Rillaboom\"",
           812
          ],
          [
           "\"Rillaboom\"",
           812
          ],
          [
           "\"Gossifleur\"",
           829
          ],
          [
           "\"Eldegoss\"",
           830
          ],
          [
           "\"Applin\"",
           840
          ],
          [
           "\"Flapple\"",
           841
          ],
          [
           "\"Flapple\"",
           841
          ],
          [
           "\"Appletun\"",
           842
          ],
          [
           "\"Appletun\"",
           842
          ],
          [
           "\"Sprigatito\"",
           906
          ],
          [
           "\"Floragato\"",
           907
          ],
          [
           "\"Meowscarada\"",
           908
          ],
          [
           "\"Smoliv\"",
           928
          ],
          [
           "\"Dolliv\"",
           929
          ],
          [
           "\"Arboliva\"",
           930
          ],
          [
           "\"Bramblin\"",
           946
          ],
          [
           "\"Brambleghast\"",
           947
          ],
          [
           "\"Capsakid\"",
           951
          ],
          [
           "\"Scovillain\"",
           952
          ],
          [
           "\"Brute Bonnet\"",
           986
          ],
          [
           "\"Iron Leaves\"",
           1010
          ],
          [
           "\"Dipplin\"",
           1011
          ],
          [
           "\"Poltchageist\"",
           1012
          ],
          [
           "\"Poltchageist\"",
           1012
          ],
          [
           "\"Sinistcha\"",
           1013
          ],
          [
           "\"Sinistcha\"",
           1013
          ],
          [
           "\"Ogerpon\"",
           1017
          ],
          [
           "\"Ogerpon\"",
           1017
          ],
          [
           "\"Ogerpon\"",
           1017
          ],
          [
           "\"Ogerpon\"",
           1017
          ],
          [
           "\"Hydrapple\"",
           1019
          ]
         ],
         "hovertemplate": "Primary Type=\"Grass\"<br>Pokemon Height=%{x}<br>Pokemon Weight=%{y}<br>Pokemon Name=%{customdata[0]}<br>Pokedex Number=%{customdata[1]}<extra></extra>",
         "legendgroup": "\"Grass\"",
         "marker": {
          "color": "#636efa",
          "symbol": "circle"
         },
         "mode": "markers",
         "name": "\"Grass\"",
         "showlegend": true,
         "type": "scattergl",
         "x": [
          0.7,
          1,
          2,
          2.4,
          24,
          0.5,
          0.8,
          1.2,
          0.7,
          1,
          1.7,
          0.4,
          2,
          2,
          2,
          10.9,
          10.9,
          1,
          0.9,
          1.2,
          1.8,
          0.4,
          0.4,
          0.6,
          0.8,
          0.3,
          0.8,
          0.5,
          0.9,
          1.7,
          1.9,
          0.5,
          1,
          1.3,
          0.4,
          1.2,
          0.3,
          0.4,
          1.3,
          2,
          0.4,
          1.1,
          2.2,
          0.2,
          0.9,
          0.4,
          0.5,
          1.4,
          1,
          2.2,
          2.7,
          2,
          1,
          1,
          0.2,
          0.4,
          0.6,
          0.8,
          3.3,
          0.6,
          1.1,
          0.3,
          0.7,
          0.5,
          1.1,
          1.2,
          1.2,
          1,
          0.2,
          0.6,
          0.6,
          1,
          2,
          0.4,
          0.7,
          1.6,
          0.9,
          1.7,
          0.3,
          0.7,
          1.6,
          1.6,
          1.6,
          0.3,
          0.9,
          0.2,
          1,
          0.3,
          0.7,
          1.2,
          1.9,
          0.3,
          0.3,
          0.7,
          2.1,
          28,
          0.4,
          0.5,
          0.2,
          0.3,
          24,
          24,
          0.4,
          0.4,
          0.9,
          1.5,
          0.3,
          0.6,
          1.4,
          0.6,
          1.2,
          0.3,
          0.9,
          1.2,
          1.5,
          0.4,
          0.1,
          0.1,
          0.2,
          0.2,
          1.2,
          1.2,
          1.2,
          1.2,
          1.8
         ],
         "xaxis": "x",
         "y": [
          6.9,
          13,
          100,
          155.5,
          0,
          5.4,
          8.6,
          18.6,
          4,
          6.4,
          15.5,
          2.5,
          120,
          120,
          120,
          415.6,
          415.6,
          35,
          6.4,
          15.8,
          100.5,
          5.8,
          0.5,
          1,
          3,
          1.8,
          8.5,
          5,
          21.6,
          52.2,
          55.2,
          4,
          28,
          59.6,
          4.5,
          39.2,
          2,
          51.3,
          77.4,
          100,
          10.2,
          97,
          310,
          1.2,
          14.5,
          3.3,
          9.3,
          27,
          50.5,
          135.5,
          185,
          128.6,
          25.5,
          25.5,
          2.1,
          5.2,
          8.1,
          16,
          63,
          10.5,
          30.5,
          0.6,
          6.6,
          6.6,
          16.3,
          19.2,
          19.2,
          28,
          1,
          10.5,
          18.8,
          110,
          200,
          9,
          29,
          90,
          31,
          91,
          1.5,
          16,
          36.6,
          37,
          37,
          1.5,
          18.5,
          1.5,
          11.5,
          3.2,
          8.2,
          21.4,
          45.5,
          0.1,
          5,
          14,
          90,
          0,
          2.2,
          2.5,
          0.5,
          1,
          0,
          0,
          13,
          4.1,
          12.2,
          31.2,
          6.5,
          11.9,
          48.2,
          0.6,
          6,
          3,
          15,
          21,
          125,
          4.4,
          1.1,
          1.1,
          2.2,
          2.2,
          39.8,
          39.8,
          39.8,
          39.8,
          93
         ],
         "yaxis": "y"
        },
        {
         "customdata": [
          [
           "\"Charmander\"",
           4
          ],
          [
           "\"Charmeleon\"",
           5
          ],
          [
           "\"Charizard\"",
           6
          ],
          [
           "\"Charizard\"",
           6
          ],
          [
           "\"Charizard\"",
           6
          ],
          [
           "\"Charizard\"",
           6
          ],
          [
           "\"Vulpix\"",
           37
          ],
          [
           "\"Ninetales\"",
           38
          ],
          [
           "\"Growlithe\"",
           58
          ],
          [
           "\"Growlithe\"",
           58
          ],
          [
           "\"Arcanine\"",
           59
          ],
          [
           "\"Arcanine\"",
           59
          ],
          [
           "\"Ponyta\"",
           77
          ],
          [
           "\"Rapidash\"",
           78
          ],
          [
           "\"Magmar\"",
           126
          ],
          [
           "\"Flareon\"",
           136
          ],
          [
           "\"Moltres\"",
           146
          ],
          [
           "\"Cyndaquil\"",
           155
          ],
          [
           "\"Quilava\"",
           156
          ],
          [
           "\"Typhlosion\"",
           157
          ],
          [
           "\"Typhlosion\"",
           157
          ],
          [
           "\"Typhlosion\"",
           157
          ],
          [
           "\"Slugma\"",
           218
          ],
          [
           "\"Magcargo\"",
           219
          ],
          [
           "\"Magby\"",
           240
          ],
          [
           "\"Entei\"",
           244
          ],
          [
           "\"Ho-Oh\"",
           250
          ],
          [
           "\"Torchic\"",
           255
          ],
          [
           "\"Combusken\"",
           256
          ],
          [
           "\"Blaziken\"",
           257
          ],
          [
           "\"Blaziken\"",
           257
          ],
          [
           "\"Numel\"",
           322
          ],
          [
           "\"Camerupt\"",
           323
          ],
          [
           "\"Camerupt\"",
           323
          ],
          [
           "\"Torkoal\"",
           324
          ],
          [
           "\"Castform\"",
           351
          ],
          [
           "\"Chimchar\"",
           390
          ],
          [
           "\"Monferno\"",
           391
          ],
          [
           "\"Infernape\"",
           392
          ],
          [
           "\"Magmortar\"",
           467
          ],
          [
           "\"Heatran\"",
           485
          ],
          [
           "\"Tepig\"",
           498
          ],
          [
           "\"Pignite\"",
           499
          ],
          [
           "\"Emboar\"",
           500
          ],
          [
           "\"Pansear\"",
           513
          ],
          [
           "\"Simisear\"",
           514
          ],
          [
           "\"Darumaka\"",
           554
          ],
          [
           "\"Darmanitan\"",
           555
          ],
          [
           "\"Darmanitan\"",
           555
          ],
          [
           "\"Heatmor\"",
           631
          ],
          [
           "\"Fennekin\"",
           653
          ],
          [
           "\"Braixen\"",
           654
          ],
          [
           "\"Delphox\"",
           655
          ],
          [
           "\"Fletchinder\"",
           662
          ],
          [
           "\"Talonflame\"",
           663
          ],
          [
           "\"Litleo\"",
           667
          ],
          [
           "\"Pyroar\"",
           668
          ],
          [
           "\"Volcanion\"",
           721
          ],
          [
           "\"Litten\"",
           725
          ],
          [
           "\"Torracat\"",
           726
          ],
          [
           "\"Incineroar\"",
           727
          ],
          [
           "\"Oricorio\"",
           741
          ],
          [
           "\"Turtonator\"",
           776
          ],
          [
           "\"Blacephalon\"",
           806
          ],
          [
           "\"Scorbunny\"",
           813
          ],
          [
           "\"Raboot\"",
           814
          ],
          [
           "\"Cinderace\"",
           815
          ],
          [
           "\"Cinderace\"",
           815
          ],
          [
           "\"Sizzlipede\"",
           850
          ],
          [
           "\"Centiskorch\"",
           851
          ],
          [
           "\"Centiskorch\"",
           851
          ],
          [
           "\"Fuecoco\"",
           909
          ],
          [
           "\"Crocalor\"",
           910
          ],
          [
           "\"Skeledirge\"",
           911
          ],
          [
           "\"Charcadet\"",
           935
          ],
          [
           "\"Armarouge\"",
           936
          ],
          [
           "\"Ceruledge\"",
           937
          ],
          [
           "\"Iron Moth\"",
           994
          ],
          [
           "\"Gouging Fire\"",
           1020
          ]
         ],
         "hovertemplate": "Primary Type=\"Fire\"<br>Pokemon Height=%{x}<br>Pokemon Weight=%{y}<br>Pokemon Name=%{customdata[0]}<br>Pokedex Number=%{customdata[1]}<extra></extra>",
         "legendgroup": "\"Fire\"",
         "marker": {
          "color": "#EF553B",
          "symbol": "circle"
         },
         "mode": "markers",
         "name": "\"Fire\"",
         "showlegend": true,
         "type": "scattergl",
         "x": [
          0.6,
          1.1,
          1.7,
          1.7,
          1.7,
          28,
          0.6,
          1.1,
          0.7,
          0.8,
          1.9,
          2,
          1,
          1.7,
          1.3,
          0.9,
          2,
          0.5,
          0.9,
          1.7,
          1.6,
          1.6,
          0.7,
          0.8,
          0.7,
          2.1,
          3.8,
          0.4,
          0.9,
          1.9,
          1.9,
          0.7,
          1.9,
          2.5,
          0.5,
          0.3,
          0.5,
          0.9,
          1.2,
          1.6,
          1.7,
          0.5,
          1,
          1.6,
          0.6,
          1,
          0.6,
          1.3,
          1.3,
          1.4,
          0.4,
          1,
          1.5,
          0.7,
          1.2,
          0.6,
          1.5,
          1.7,
          0.4,
          0.7,
          1.8,
          0.6,
          2,
          1.8,
          0.3,
          0.6,
          1.4,
          27,
          0.7,
          3,
          75,
          0.4,
          1,
          1.6,
          0.6,
          1.5,
          1.6,
          1.2,
          3.5
         ],
         "xaxis": "x",
         "y": [
          8.5,
          19,
          90.5,
          110.5,
          100.5,
          0,
          9.9,
          19.9,
          19,
          22.7,
          155,
          168,
          30,
          95,
          44.5,
          25,
          60,
          7.9,
          19,
          79.5,
          69.8,
          69.8,
          35,
          55,
          21.4,
          198,
          199,
          2.5,
          19.5,
          52,
          52,
          24,
          220,
          320.5,
          80.4,
          0.8,
          6.2,
          22,
          55,
          68,
          430,
          9.9,
          55.5,
          150,
          11,
          28,
          37.5,
          92.9,
          92.9,
          58,
          9.4,
          14.5,
          39,
          16,
          24.5,
          13.5,
          81.5,
          195,
          4.3,
          25,
          83,
          3.4,
          212,
          13,
          4.5,
          9,
          33,
          0,
          1,
          120,
          0,
          4.1,
          30.7,
          326.5,
          10.5,
          85,
          62,
          36,
          590
         ],
         "yaxis": "y"
        },
        {
         "customdata": [
          [
           "\"Squirtle\"",
           7
          ],
          [
           "\"Wartortle\"",
           8
          ],
          [
           "\"Blastoise\"",
           9
          ],
          [
           "\"Blastoise\"",
           9
          ],
          [
           "\"Blastoise\"",
           9
          ],
          [
           "\"Psyduck\"",
           54
          ],
          [
           "\"Golduck\"",
           55
          ],
          [
           "\"Poliwag\"",
           60
          ],
          [
           "\"Poliwhirl\"",
           61
          ],
          [
           "\"Poliwrath\"",
           62
          ],
          [
           "\"Tentacool\"",
           72
          ],
          [
           "\"Tentacruel\"",
           73
          ],
          [
           "\"Slowpoke\"",
           79
          ],
          [
           "\"Slowbro\"",
           80
          ],
          [
           "\"Slowbro\"",
           80
          ],
          [
           "\"Seel\"",
           86
          ],
          [
           "\"Dewgong\"",
           87
          ],
          [
           "\"Shellder\"",
           90
          ],
          [
           "\"Cloyster\"",
           91
          ],
          [
           "\"Krabby\"",
           98
          ],
          [
           "\"Kingler\"",
           99
          ],
          [
           "\"Kingler\"",
           99
          ],
          [
           "\"Horsea\"",
           116
          ],
          [
           "\"Seadra\"",
           117
          ],
          [
           "\"Goldeen\"",
           118
          ],
          [
           "\"Seaking\"",
           119
          ],
          [
           "\"Staryu\"",
           120
          ],
          [
           "\"Starmie\"",
           121
          ],
          [
           "\"Magikarp\"",
           129
          ],
          [
           "\"Gyarados\"",
           130
          ],
          [
           "\"Gyarados\"",
           130
          ],
          [
           "\"Lapras\"",
           131
          ],
          [
           "\"Lapras\"",
           131
          ],
          [
           "\"Vaporeon\"",
           134
          ],
          [
           "\"Totodile\"",
           158
          ],
          [
           "\"Croconaw\"",
           159
          ],
          [
           "\"Feraligatr\"",
           160
          ],
          [
           "\"Chinchou\"",
           170
          ],
          [
           "\"Lanturn\"",
           171
          ],
          [
           "\"Marill\"",
           183
          ],
          [
           "\"Azumarill\"",
           184
          ],
          [
           "\"Politoed\"",
           186
          ],
          [
           "\"Wooper\"",
           194
          ],
          [
           "\"Quagsire\"",
           195
          ],
          [
           "\"Slowking\"",
           199
          ],
          [
           "\"Qwilfish\"",
           211
          ],
          [
           "\"Corsola\"",
           222
          ],
          [
           "\"Remoraid\"",
           223
          ],
          [
           "\"Octillery\"",
           224
          ],
          [
           "\"Mantine\"",
           226
          ],
          [
           "\"Kingdra\"",
           230
          ],
          [
           "\"Suicune\"",
           245
          ],
          [
           "\"Mudkip\"",
           258
          ],
          [
           "\"Marshtomp\"",
           259
          ],
          [
           "\"Swampert\"",
           260
          ],
          [
           "\"Swampert\"",
           260
          ],
          [
           "\"Lotad\"",
           270
          ],
          [
           "\"Lombre\"",
           271
          ],
          [
           "\"Ludicolo\"",
           272
          ],
          [
           "\"Wingull\"",
           278
          ],
          [
           "\"Pelipper\"",
           279
          ],
          [
           "\"Carvanha\"",
           318
          ],
          [
           "\"Sharpedo\"",
           319
          ],
          [
           "\"Sharpedo\"",
           319
          ],
          [
           "\"Wailmer\"",
           320
          ],
          [
           "\"Wailord\"",
           321
          ],
          [
           "\"Barboach\"",
           339
          ],
          [
           "\"Whiscash\"",
           340
          ],
          [
           "\"Corphish\"",
           341
          ],
          [
           "\"Crawdaunt\"",
           342
          ],
          [
           "\"Feebas\"",
           349
          ],
          [
           "\"Milotic\"",
           350
          ],
          [
           "\"Milotic\"",
           350
          ],
          [
           "\"Castform\"",
           351
          ],
          [
           "\"Clamperl\"",
           366
          ],
          [
           "\"Huntail\"",
           367
          ],
          [
           "\"Gorebyss\"",
           368
          ],
          [
           "\"Relicanth\"",
           369
          ],
          [
           "\"Luvdisc\"",
           370
          ],
          [
           "\"Kyogre\"",
           382
          ],
          [
           "\"Kyogre\"",
           382
          ],
          [
           "\"Piplup\"",
           393
          ],
          [
           "\"Prinplup\"",
           394
          ],
          [
           "\"Empoleon\"",
           395
          ],
          [
           "\"Buizel\"",
           418
          ],
          [
           "\"Floatzel\"",
           419
          ],
          [
           "\"Shellos\"",
           422
          ],
          [
           "\"Shellos\"",
           422
          ],
          [
           "\"Gastrodon\"",
           423
          ],
          [
           "\"Gastrodon\"",
           423
          ],
          [
           "\"Finneon\"",
           456
          ],
          [
           "\"Lumineon\"",
           457
          ],
          [
           "\"Mantyke\"",
           458
          ],
          [
           "\"Palkia\"",
           484
          ],
          [
           "\"Palkia\"",
           484
          ],
          [
           "\"Phione\"",
           489
          ],
          [
           "\"Manaphy\"",
           490
          ],
          [
           "\"Oshawott\"",
           501
          ],
          [
           "\"Dewott\"",
           502
          ],
          [
           "\"Samurott\"",
           503
          ],
          [
           "\"Samurott\"",
           503
          ],
          [
           "\"Samurott\"",
           503
          ],
          [
           "\"Panpour\"",
           515
          ],
          [
           "\"Simipour\"",
           516
          ],
          [
           "\"Tympole\"",
           535
          ],
          [
           "\"Palpitoad\"",
           536
          ],
          [
           "\"Seismitoad\"",
           537
          ],
          [
           "\"Basculin\"",
           550
          ],
          [
           "\"Basculin\"",
           550
          ],
          [
           "\"Basculin\"",
           550
          ],
          [
           "\"Tirtouga\"",
           564
          ],
          [
           "\"Carracosta\"",
           565
          ],
          [
           "\"Ducklett\"",
           580
          ],
          [
           "\"Swanna\"",
           581
          ],
          [
           "\"Frillish\"",
           592
          ],
          [
           "\"Jellicent\"",
           593
          ],
          [
           "\"Alomomola\"",
           594
          ],
          [
           "\"Keldeo\"",
           647
          ],
          [
           "\"Keldeo\"",
           647
          ],
          [
           "\"Froakie\"",
           656
          ],
          [
           "\"Frogadier\"",
           657
          ],
          [
           "\"Greninja\"",
           658
          ],
          [
           "\"Greninja\"",
           658
          ],
          [
           "\"Clauncher\"",
           692
          ],
          [
           "\"Clawitzer\"",
           693
          ],
          [
           "\"Popplio\"",
           728
          ],
          [
           "\"Brionne\"",
           729
          ],
          [
           "\"Primarina\"",
           730
          ],
          [
           "\"Wishiwashi\"",
           746
          ],
          [
           "\"Wishiwashi\"",
           746
          ],
          [
           "\"Dewpider\"",
           751
          ],
          [
           "\"Araquanid\"",
           752
          ],
          [
           "\"Pyukumuku\"",
           771
          ],
          [
           "\"Bruxish\"",
           779
          ],
          [
           "\"Tapu Fini\"",
           788
          ],
          [
           "\"Sobble\"",
           816
          ],
          [
           "\"Drizzile\"",
           817
          ],
          [
           "\"Inteleon\"",
           818
          ],
          [
           "\"Inteleon\"",
           818
          ],
          [
           "\"Chewtle\"",
           833
          ],
          [
           "\"Drednaw\"",
           834
          ],
          [
           "\"Drednaw\"",
           834
          ],
          [
           "\"Arrokuda\"",
           846
          ],
          [
           "\"Barraskewda\"",
           847
          ],
          [
           "\"Dracovish\"",
           882
          ],
          [
           "\"Arctovish\"",
           883
          ],
          [
           "\"Basculegion\"",
           902
          ],
          [
           "\"Basculegion\"",
           902
          ],
          [
           "\"Quaxly\"",
           912
          ],
          [
           "\"Quaxwell\"",
           913
          ],
          [
           "\"Quaquaval\"",
           914
          ],
          [
           "\"Wiglett\"",
           960
          ],
          [
           "\"Wugtrio\"",
           961
          ],
          [
           "\"Finizen\"",
           963
          ],
          [
           "\"Palafin\"",
           964
          ],
          [
           "\"Palafin\"",
           964
          ],
          [
           "\"Veluza\"",
           976
          ],
          [
           "\"Dondozo\"",
           977
          ],
          [
           "\"Walking Wake\"",
           1009
          ]
         ],
         "hovertemplate": "Primary Type=\"Water\"<br>Pokemon Height=%{x}<br>Pokemon Weight=%{y}<br>Pokemon Name=%{customdata[0]}<br>Pokedex Number=%{customdata[1]}<extra></extra>",
         "legendgroup": "\"Water\"",
         "marker": {
          "color": "#00cc96",
          "symbol": "circle"
         },
         "mode": "markers",
         "name": "\"Water\"",
         "showlegend": true,
         "type": "scattergl",
         "x": [
          0.5,
          1,
          1.6,
          1.6,
          25,
          0.8,
          1.7,
          0.6,
          1,
          1.3,
          0.9,
          1.6,
          1.2,
          2,
          1.6,
          1.1,
          1.7,
          0.3,
          1.5,
          0.4,
          1.3,
          19,
          0.4,
          1.2,
          0.6,
          1.3,
          0.8,
          1.1,
          0.9,
          6.5,
          6.5,
          2.5,
          24,
          1,
          0.6,
          1.1,
          2.3,
          0.5,
          1.2,
          0.4,
          0.8,
          1.1,
          0.4,
          1.4,
          2,
          0.5,
          0.6,
          0.6,
          0.9,
          2.1,
          1.8,
          2,
          0.4,
          0.7,
          1.5,
          1.9,
          0.5,
          1.2,
          1.5,
          0.6,
          1.2,
          0.8,
          1.8,
          2.5,
          2,
          14.5,
          0.4,
          0.9,
          0.6,
          1.1,
          0.6,
          6.2,
          6.2,
          0.3,
          0.4,
          1.7,
          1.8,
          1,
          0.6,
          4.5,
          9.8,
          0.4,
          0.8,
          1.7,
          0.7,
          1.1,
          0.3,
          0.3,
          0.9,
          0.9,
          0.4,
          1.2,
          1,
          4.2,
          6.3,
          0.4,
          0.3,
          0.5,
          0.8,
          1.5,
          1.5,
          1.5,
          0.6,
          1,
          0.5,
          0.8,
          1.5,
          1,
          1,
          1,
          0.7,
          1.2,
          0.5,
          1.3,
          1.2,
          2.2,
          1.2,
          1.4,
          1.4,
          0.3,
          0.6,
          1.5,
          1.5,
          0.5,
          1.3,
          0.4,
          0.6,
          1.8,
          0.2,
          8.2,
          0.3,
          1.8,
          0.3,
          0.9,
          1.3,
          0.3,
          0.7,
          1.9,
          40,
          0.3,
          1,
          24,
          0.5,
          1.3,
          2.3,
          2,
          3,
          3,
          0.5,
          1.2,
          1.8,
          1.2,
          1.2,
          1.3,
          1.3,
          1.8,
          2.5,
          12,
          3.5
         ],
         "xaxis": "x",
         "y": [
          9,
          22.5,
          85.5,
          101.1,
          0,
          19.6,
          76.6,
          12.4,
          20,
          54,
          45.5,
          55,
          36,
          120,
          78.5,
          90,
          120,
          4,
          132.5,
          6.5,
          60,
          0,
          8,
          25,
          15,
          39,
          34.5,
          80,
          10,
          235,
          305,
          220,
          0,
          29,
          9.5,
          25,
          88.8,
          12,
          22.5,
          8.5,
          28.5,
          33.9,
          8.5,
          75,
          79.5,
          3.9,
          5,
          12,
          28.5,
          220,
          152,
          187,
          7.6,
          28,
          81.9,
          102,
          2.6,
          32.5,
          55,
          9.5,
          28,
          20.8,
          88.8,
          130.3,
          130,
          398,
          1.9,
          23.6,
          11.5,
          32.8,
          7.4,
          162,
          162,
          0.8,
          52.5,
          27,
          22.6,
          23.4,
          8.7,
          352,
          430,
          5.2,
          23,
          84.5,
          29.5,
          33.5,
          6.3,
          6.3,
          29.9,
          29.9,
          7,
          24,
          65,
          336,
          660,
          3.1,
          1.4,
          5.9,
          24.5,
          94.6,
          58.2,
          58.2,
          13.5,
          29,
          4.5,
          17,
          62,
          18,
          18,
          18,
          16.5,
          81,
          5.5,
          24.2,
          33,
          135,
          31.6,
          48.5,
          48.5,
          7,
          10.9,
          40,
          40,
          8.3,
          35.3,
          7.5,
          17.5,
          44,
          0.3,
          78.6,
          4,
          82,
          1.2,
          19,
          21.2,
          4,
          11.5,
          45.2,
          0,
          8.5,
          115.5,
          0,
          1,
          30,
          215,
          175,
          110,
          110,
          6.1,
          21.5,
          61.9,
          1.8,
          5.4,
          60.2,
          60.2,
          97.4,
          90,
          220,
          280
         ],
         "yaxis": "y"
        },
        {
         "customdata": [
          [
           "\"Caterpie\"",
           10
          ],
          [
           "\"Metapod\"",
           11
          ],
          [
           "\"Butterfree\"",
           12
          ],
          [
           "\"Butterfree\"",
           12
          ],
          [
           "\"Weedle\"",
           13
          ],
          [
           "\"Kakuna\"",
           14
          ],
          [
           "\"Beedrill\"",
           15
          ],
          [
           "\"Beedrill\"",
           15
          ],
          [
           "\"Paras\"",
           46
          ],
          [
           "\"Parasect\"",
           47
          ],
          [
           "\"Venonat\"",
           48
          ],
          [
           "\"Venomoth\"",
           49
          ],
          [
           "\"Scyther\"",
           123
          ],
          [
           "\"Pinsir\"",
           127
          ],
          [
           "\"Pinsir\"",
           127
          ],
          [
           "\"Ledyba\"",
           165
          ],
          [
           "\"Ledian\"",
           166
          ],
          [
           "\"Spinarak\"",
           167
          ],
          [
           "\"Ariados\"",
           168
          ],
          [
           "\"Yanma\"",
           193
          ],
          [
           "\"Pineco\"",
           204
          ],
          [
           "\"Forretress\"",
           205
          ],
          [
           "\"Scizor\"",
           212
          ],
          [
           "\"Scizor\"",
           212
          ],
          [
           "\"Shuckle\"",
           213
          ],
          [
           "\"Heracross\"",
           214
          ],
          [
           "\"Heracross\"",
           214
          ],
          [
           "\"Wurmple\"",
           265
          ],
          [
           "\"Silcoon\"",
           266
          ],
          [
           "\"Beautifly\"",
           267
          ],
          [
           "\"Cascoon\"",
           268
          ],
          [
           "\"Dustox\"",
           269
          ],
          [
           "\"Surskit\"",
           283
          ],
          [
           "\"Masquerain\"",
           284
          ],
          [
           "\"Nincada\"",
           290
          ],
          [
           "\"Ninjask\"",
           291
          ],
          [
           "\"Shedinja\"",
           292
          ],
          [
           "\"Volbeat\"",
           313
          ],
          [
           "\"Illumise\"",
           314
          ],
          [
           "\"Kricketot\"",
           401
          ],
          [
           "\"Kricketune\"",
           402
          ],
          [
           "\"Burmy\"",
           412
          ],
          [
           "\"Burmy\"",
           412
          ],
          [
           "\"Burmy\"",
           412
          ],
          [
           "\"Wormadam\"",
           413
          ],
          [
           "\"Wormadam\"",
           413
          ],
          [
           "\"Wormadam\"",
           413
          ],
          [
           "\"Mothim\"",
           414
          ],
          [
           "\"Mothim\"",
           414
          ],
          [
           "\"Mothim\"",
           414
          ],
          [
           "\"Combee\"",
           415
          ],
          [
           "\"Vespiquen\"",
           416
          ],
          [
           "\"Yanmega\"",
           469
          ],
          [
           "\"Sewaddle\"",
           540
          ],
          [
           "\"Swadloon\"",
           541
          ],
          [
           "\"Leavanny\"",
           542
          ],
          [
           "\"Venipede\"",
           543
          ],
          [
           "\"Whirlipede\"",
           544
          ],
          [
           "\"Scolipede\"",
           545
          ],
          [
           "\"Dwebble\"",
           557
          ],
          [
           "\"Crustle\"",
           558
          ],
          [
           "\"Karrablast\"",
           588
          ],
          [
           "\"Escavalier\"",
           589
          ],
          [
           "\"Joltik\"",
           595
          ],
          [
           "\"Galvantula\"",
           596
          ],
          [
           "\"Shelmet\"",
           616
          ],
          [
           "\"Accelgor\"",
           617
          ],
          [
           "\"Durant\"",
           632
          ],
          [
           "\"Larvesta\"",
           636
          ],
          [
           "\"Volcarona\"",
           637
          ],
          [
           "\"Genesect\"",
           649
          ],
          [
           "\"Scatterbug\"",
           664
          ],
          [
           "\"Spewpa\"",
           665
          ],
          [
           "\"Vivillon\"",
           666
          ],
          [
           "\"Vivillon\"",
           666
          ],
          [
           "\"Vivillon\"",
           666
          ],
          [
           "\"Vivillon\"",
           666
          ],
          [
           "\"Vivillon\"",
           666
          ],
          [
           "\"Vivillon\"",
           666
          ],
          [
           "\"Vivillon\"",
           666
          ],
          [
           "\"Vivillon\"",
           666
          ],
          [
           "\"Vivillon\"",
           666
          ],
          [
           "\"Vivillon\"",
           666
          ],
          [
           "\"Vivillon\"",
           666
          ],
          [
           "\"Vivillon\"",
           666
          ],
          [
           "\"Vivillon\"",
           666
          ],
          [
           "\"Vivillon\"",
           666
          ],
          [
           "\"Vivillon\"",
           666
          ],
          [
           "\"Vivillon\"",
           666
          ],
          [
           "\"Vivillon\"",
           666
          ],
          [
           "\"Vivillon\"",
           666
          ],
          [
           "\"Vivillon\"",
           666
          ],
          [
           "\"Vivillon\"",
           666
          ],
          [
           "\"Grubbin\"",
           736
          ],
          [
           "\"Charjabug\"",
           737
          ],
          [
           "\"Vikavolt\"",
           738
          ],
          [
           "\"Vikavolt\"",
           738
          ],
          [
           "\"Cutiefly\"",
           742
          ],
          [
           "\"Ribombee\"",
           743
          ],
          [
           "\"Wimpod\"",
           767
          ],
          [
           "\"Golisopod\"",
           768
          ],
          [
           "\"Buzzwole\"",
           794
          ],
          [
           "\"Pheromosa\"",
           795
          ],
          [
           "\"Blipbug\"",
           824
          ],
          [
           "\"Dottler\"",
           825
          ],
          [
           "\"Orbeetle\"",
           826
          ],
          [
           "\"Orbeetle\"",
           826
          ],
          [
           "\"Kleavor\"",
           900
          ],
          [
           "\"Tarountula\"",
           917
          ],
          [
           "\"Spidops\"",
           918
          ],
          [
           "\"Nymble\"",
           919
          ],
          [
           "\"Lokix\"",
           920
          ],
          [
           "\"Rellor\"",
           953
          ],
          [
           "\"Rabsca\"",
           954
          ],
          [
           "\"Slither Wing\"",
           988
          ]
         ],
         "hovertemplate": "Primary Type=\"Bug\"<br>Pokemon Height=%{x}<br>Pokemon Weight=%{y}<br>Pokemon Name=%{customdata[0]}<br>Pokedex Number=%{customdata[1]}<extra></extra>",
         "legendgroup": "\"Bug\"",
         "marker": {
          "color": "#ab63fa",
          "symbol": "circle"
         },
         "mode": "markers",
         "name": "\"Bug\"",
         "showlegend": true,
         "type": "scattergl",
         "x": [
          0.3,
          0.7,
          1.1,
          17,
          0.3,
          0.6,
          1,
          1.4,
          0.3,
          1,
          1,
          1.5,
          1.5,
          1.5,
          1.7,
          1,
          1.4,
          0.5,
          1.1,
          1.2,
          0.6,
          1.2,
          1.8,
          2,
          0.6,
          1.5,
          1.7,
          0.3,
          0.6,
          1,
          0.7,
          1.2,
          0.5,
          0.8,
          0.5,
          0.8,
          0.8,
          0.7,
          0.6,
          0.3,
          1,
          0.2,
          0.2,
          0.2,
          0.5,
          0.5,
          0.5,
          0.9,
          0.9,
          0.9,
          0.3,
          1.2,
          1.9,
          0.3,
          0.5,
          1.2,
          0.4,
          1.2,
          2.5,
          0.3,
          1.4,
          0.5,
          1,
          0.1,
          0.8,
          0.4,
          0.8,
          0.3,
          1.1,
          1.6,
          1.5,
          0.3,
          0.3,
          1.2,
          1.2,
          1.2,
          1.2,
          1.2,
          1.2,
          1.2,
          1.2,
          1.2,
          1.2,
          1.2,
          1.2,
          1.2,
          1.2,
          1.2,
          1.2,
          1.2,
          1.2,
          1.2,
          1.2,
          0.4,
          0.5,
          1.5,
          1.5,
          0.1,
          0.2,
          0.5,
          2,
          2.4,
          1.8,
          0.4,
          0.4,
          0.4,
          14,
          1.8,
          0.3,
          1,
          0.2,
          1,
          0.2,
          0.3,
          3.2
         ],
         "xaxis": "x",
         "y": [
          2.9,
          9.9,
          32,
          0,
          3.2,
          10,
          29.5,
          40.5,
          5.4,
          29.5,
          30,
          12.5,
          56,
          55,
          59,
          10.8,
          35.6,
          8.5,
          33.5,
          38,
          7.2,
          125.8,
          118,
          125,
          20.5,
          54,
          62.5,
          3.6,
          10,
          28.4,
          11.5,
          31.6,
          1.7,
          3.6,
          5.5,
          12,
          1.2,
          17.7,
          17.7,
          2.2,
          25.5,
          3.4,
          3.4,
          3.4,
          6.5,
          6.5,
          6.5,
          23.3,
          23.3,
          23.3,
          5.5,
          38.5,
          51.5,
          2.5,
          7.3,
          20.5,
          5.3,
          58.5,
          200.5,
          14.5,
          200,
          5.9,
          33,
          0.6,
          14.3,
          7.7,
          25.3,
          33,
          28.8,
          46,
          82.5,
          2.5,
          8.4,
          17,
          17,
          17,
          17,
          17,
          17,
          17,
          17,
          17,
          17,
          17,
          17,
          17,
          17,
          17,
          17,
          17,
          17,
          17,
          17,
          4.4,
          10.5,
          45,
          45,
          0.2,
          0.5,
          12,
          108,
          333.6,
          25,
          8,
          19.5,
          40.8,
          0,
          89,
          4,
          16.5,
          1,
          17.5,
          1,
          3.5,
          92
         ],
         "yaxis": "y"
        },
        {
         "customdata": [
          [
           "\"Pidgey\"",
           16
          ],
          [
           "\"Pidgeotto\"",
           17
          ],
          [
           "\"Pidgeot\"",
           18
          ],
          [
           "\"Pidgeot\"",
           18
          ],
          [
           "\"Rattata\"",
           19
          ],
          [
           "\"Raticate\"",
           20
          ],
          [
           "\"Spearow\"",
           21
          ],
          [
           "\"Fearow\"",
           22
          ],
          [
           "\"Jigglypuff\"",
           39
          ],
          [
           "\"Wigglytuff\"",
           40
          ],
          [
           "\"Meowth\"",
           52
          ],
          [
           "\"Meowth\"",
           52
          ],
          [
           "\"Persian\"",
           53
          ],
          [
           "\"Farfetch'd\"",
           83
          ],
          [
           "\"Doduo\"",
           84
          ],
          [
           "\"Dodrio\"",
           85
          ],
          [
           "\"Lickitung\"",
           108
          ],
          [
           "\"Chansey\"",
           113
          ],
          [
           "\"Kangaskhan\"",
           115
          ],
          [
           "\"Kangaskhan\"",
           115
          ],
          [
           "\"Tauros\"",
           128
          ],
          [
           "\"Ditto\"",
           132
          ],
          [
           "\"Eevee\"",
           133
          ],
          [
           "\"Eevee\"",
           133
          ],
          [
           "\"Eevee\"",
           133
          ],
          [
           "\"Porygon\"",
           137
          ],
          [
           "\"Snorlax\"",
           143
          ],
          [
           "\"Snorlax\"",
           143
          ],
          [
           "\"Sentret\"",
           161
          ],
          [
           "\"Furret\"",
           162
          ],
          [
           "\"Hoothoot\"",
           163
          ],
          [
           "\"Noctowl\"",
           164
          ],
          [
           "\"Igglybuff\"",
           174
          ],
          [
           "\"Aipom\"",
           190
          ],
          [
           "\"Girafarig\"",
           203
          ],
          [
           "\"Dunsparce\"",
           206
          ],
          [
           "\"Teddiursa\"",
           216
          ],
          [
           "\"Ursaring\"",
           217
          ],
          [
           "\"Porygon2\"",
           233
          ],
          [
           "\"Stantler\"",
           234
          ],
          [
           "\"Smeargle\"",
           235
          ],
          [
           "\"Miltank\"",
           241
          ],
          [
           "\"Blissey\"",
           242
          ],
          [
           "\"Zigzagoon\"",
           263
          ],
          [
           "\"Linoone\"",
           264
          ],
          [
           "\"Taillow\"",
           276
          ],
          [
           "\"Swellow\"",
           277
          ],
          [
           "\"Slakoth\"",
           287
          ],
          [
           "\"Vigoroth\"",
           288
          ],
          [
           "\"Slaking\"",
           289
          ],
          [
           "\"Whismur\"",
           293
          ],
          [
           "\"Loudred\"",
           294
          ],
          [
           "\"Exploud\"",
           295
          ],
          [
           "\"Azurill\"",
           298
          ],
          [
           "\"Skitty\"",
           300
          ],
          [
           "\"Delcatty\"",
           301
          ],
          [
           "\"Spinda\"",
           327
          ],
          [
           "\"Swablu\"",
           333
          ],
          [
           "\"Zangoose\"",
           335
          ],
          [
           "\"Castform\"",
           351
          ],
          [
           "\"Kecleon\"",
           352
          ],
          [
           "\"Starly\"",
           396
          ],
          [
           "\"Staravia\"",
           397
          ],
          [
           "\"Staraptor\"",
           398
          ],
          [
           "\"Bidoof\"",
           399
          ],
          [
           "\"Bibarel\"",
           400
          ],
          [
           "\"Ambipom\"",
           424
          ],
          [
           "\"Buneary\"",
           427
          ],
          [
           "\"Lopunny\"",
           428
          ],
          [
           "\"Lopunny\"",
           428
          ],
          [
           "\"Glameow\"",
           431
          ],
          [
           "\"Purugly\"",
           432
          ],
          [
           "\"Happiny\"",
           440
          ],
          [
           "\"Chatot\"",
           441
          ],
          [
           "\"Munchlax\"",
           446
          ],
          [
           "\"Lickilicky\"",
           463
          ],
          [
           "\"Porygon-Z\"",
           474
          ],
          [
           "\"Regigigas\"",
           486
          ],
          [
           "\"Arceus\"",
           493
          ],
          [
           "\"Patrat\"",
           504
          ],
          [
           "\"Watchog\"",
           505
          ],
          [
           "\"Lillipup\"",
           506
          ],
          [
           "\"Herdier\"",
           507
          ],
          [
           "\"Stoutland\"",
           508
          ],
          [
           "\"Pidove\"",
           519
          ],
          [
           "\"Tranquill\"",
           520
          ],
          [
           "\"Unfezant\"",
           521
          ],
          [
           "\"Audino\"",
           531
          ],
          [
           "\"Audino\"",
           531
          ],
          [
           "\"Zorua\"",
           570
          ],
          [
           "\"Zoroark\"",
           571
          ],
          [
           "\"Minccino\"",
           572
          ],
          [
           "\"Cinccino\"",
           573
          ],
          [
           "\"Deerling\"",
           585
          ],
          [
           "\"Deerling\"",
           585
          ],
          [
           "\"Deerling\"",
           585
          ],
          [
           "\"Deerling\"",
           585
          ],
          [
           "\"Sawsbuck\"",
           586
          ],
          [
           "\"Sawsbuck\"",
           586
          ],
          [
           "\"Sawsbuck\"",
           586
          ],
          [
           "\"Sawsbuck\"",
           586
          ],
          [
           "\"Bouffalant\"",
           626
          ],
          [
           "\"Rufflet\"",
           627
          ],
          [
           "\"Braviary\"",
           628
          ],
          [
           "\"Meloetta\"",
           648
          ],
          [
           "\"Meloetta\"",
           648
          ],
          [
           "\"Bunnelby\"",
           659
          ],
          [
           "\"Diggersby\"",
           660
          ],
          [
           "\"Fletchling\"",
           661
          ],
          [
           "\"Furfrou\"",
           676
          ],
          [
           "\"Furfrou\"",
           676
          ],
          [
           "\"Furfrou\"",
           676
          ],
          [
           "\"Furfrou\"",
           676
          ],
          [
           "\"Furfrou\"",
           676
          ],
          [
           "\"Furfrou\"",
           676
          ],
          [
           "\"Furfrou\"",
           676
          ],
          [
           "\"Furfrou\"",
           676
          ],
          [
           "\"Furfrou\"",
           676
          ],
          [
           "\"Furfrou\"",
           676
          ],
          [
           "\"Pikipek\"",
           731
          ],
          [
           "\"Trumbeak\"",
           732
          ],
          [
           "\"Toucannon\"",
           733
          ],
          [
           "\"Yungoos\"",
           734
          ],
          [
           "\"Gumshoos\"",
           735
          ],
          [
           "\"Stufful\"",
           759
          ],
          [
           "\"Bewear\"",
           760
          ],
          [
           "\"Oranguru\"",
           765
          ],
          [
           "\"Type: Null\"",
           772
          ],
          [
           "\"Silvally\"",
           773
          ],
          [
           "\"Komala\"",
           775
          ],
          [
           "\"Drampa\"",
           780
          ],
          [
           "\"Skwovet\"",
           819
          ],
          [
           "\"Greedent\"",
           820
          ],
          [
           "\"Wooloo\"",
           831
          ],
          [
           "\"Dubwool\"",
           832
          ],
          [
           "\"Wyrdeer\"",
           899
          ],
          [
           "\"Wyrdeer\"",
           899
          ],
          [
           "\"Lechonk\"",
           915
          ],
          [
           "\"Oinkologne\"",
           916
          ],
          [
           "\"Oinkologne\"",
           916
          ],
          [
           "\"Tandemaus\"",
           924
          ],
          [
           "\"Maushold\"",
           925
          ],
          [
           "\"Maushold\"",
           925
          ],
          [
           "\"Squawkabilly\"",
           931
          ],
          [
           "\"Squawkabilly\"",
           931
          ],
          [
           "\"Squawkabilly\"",
           931
          ],
          [
           "\"Squawkabilly\"",
           931
          ],
          [
           "\"Farigiraf\"",
           981
          ],
          [
           "\"Dudunsparce\"",
           982
          ],
          [
           "\"Dudunsparce\"",
           982
          ],
          [
           "\"Terapagos\"",
           1024
          ],
          [
           "\"Terapagos\"",
           1024
          ],
          [
           "\"Terapagos\"",
           1024
          ]
         ],
         "hovertemplate": "Primary Type=\"Normal\"<br>Pokemon Height=%{x}<br>Pokemon Weight=%{y}<br>Pokemon Name=%{customdata[0]}<br>Pokedex Number=%{customdata[1]}<extra></extra>",
         "legendgroup": "\"Normal\"",
         "marker": {
          "color": "#FFA15A",
          "symbol": "circle"
         },
         "mode": "markers",
         "name": "\"Normal\"",
         "showlegend": true,
         "type": "scattergl",
         "x": [
          0.3,
          1.1,
          1.5,
          2.2,
          0.3,
          0.7,
          0.3,
          1.2,
          0.5,
          1,
          0.4,
          33,
          1,
          0.8,
          1.4,
          1.8,
          1.2,
          1.1,
          2.2,
          2.2,
          1.4,
          0.3,
          0.3,
          18,
          0.3,
          0.8,
          2.1,
          35,
          0.8,
          1.8,
          0.7,
          1.6,
          0.3,
          0.8,
          1.5,
          1.5,
          0.6,
          1.8,
          0.6,
          1.4,
          1.2,
          1.2,
          1.5,
          0.4,
          0.5,
          0.3,
          0.7,
          0.8,
          1.4,
          2,
          0.6,
          1,
          1.5,
          0.2,
          0.6,
          1.1,
          1.1,
          0.4,
          1.3,
          0.3,
          1,
          0.3,
          0.6,
          1.2,
          0.5,
          1,
          1.2,
          0.4,
          1.2,
          1.3,
          0.5,
          1,
          0.6,
          0.5,
          0.6,
          1.7,
          0.9,
          3.7,
          3.2,
          0.5,
          1.1,
          0.4,
          0.9,
          1.2,
          0.3,
          0.6,
          1.2,
          1.1,
          1.5,
          0.7,
          1.6,
          0.4,
          0.5,
          0.6,
          0.6,
          0.6,
          0.6,
          1.9,
          1.9,
          1.9,
          1.9,
          1.6,
          0.5,
          1.5,
          0.6,
          0.6,
          0.4,
          1,
          0.3,
          1.2,
          1.2,
          1.2,
          1.2,
          1.2,
          1.2,
          1.2,
          1.2,
          1.2,
          1.2,
          0.3,
          0.6,
          1.1,
          0.4,
          0.7,
          0.5,
          2.1,
          1.5,
          1.9,
          2.3,
          0.4,
          3,
          0.3,
          0.6,
          0.6,
          1.3,
          1.8,
          1.8,
          0.5,
          1,
          1,
          0.3,
          0.3,
          0.3,
          0.6,
          0.6,
          0.6,
          0.6,
          3.2,
          3.6,
          4.5,
          1.7,
          0.2,
          0.3
         ],
         "xaxis": "x",
         "y": [
          1.8,
          30,
          39.5,
          50.5,
          3.5,
          18.5,
          2,
          38,
          5.5,
          12,
          4.2,
          0,
          32,
          15,
          39.2,
          85.2,
          65.5,
          34.6,
          80,
          100,
          88.4,
          4,
          6.5,
          0,
          6.5,
          36.5,
          460,
          0,
          6,
          32.5,
          21.2,
          40.8,
          1,
          11.5,
          41.5,
          14,
          8.8,
          125.8,
          32.5,
          71.2,
          58,
          75.5,
          46.8,
          17.5,
          32.5,
          2.3,
          19.8,
          24,
          46.5,
          130.5,
          16.3,
          40.5,
          84,
          2,
          11,
          32.6,
          5,
          1.2,
          40.3,
          0.8,
          22,
          2,
          15.5,
          24.9,
          20,
          31.5,
          20.3,
          5.5,
          33.3,
          28.3,
          3.9,
          43.8,
          24.4,
          1.9,
          105,
          140,
          34,
          420,
          320,
          11.6,
          27,
          4.1,
          14.7,
          61,
          2.1,
          15,
          29,
          31,
          32,
          12.5,
          73,
          5.8,
          7.5,
          19.5,
          19.5,
          19.5,
          19.5,
          92.5,
          92.5,
          92.5,
          92.5,
          94.5,
          10.5,
          41,
          6.5,
          6.5,
          5,
          42.4,
          1.7,
          28,
          28,
          28,
          28,
          28,
          28,
          28,
          28,
          28,
          28,
          1.2,
          14.8,
          26,
          6,
          14.2,
          6.8,
          135,
          76,
          120.5,
          100.5,
          19.9,
          185,
          2.5,
          6,
          6,
          43,
          95.1,
          95.1,
          10.2,
          120,
          120,
          1.8,
          2.8,
          2.3,
          2.4,
          2.4,
          2.4,
          2.4,
          160,
          39.2,
          47,
          77,
          6.5,
          16
         ],
         "yaxis": "y"
        },
        {
         "customdata": [
          [
           "\"Rattata\"",
           19
          ],
          [
           "\"Raticate\"",
           20
          ],
          [
           "\"Meowth\"",
           52
          ],
          [
           "\"Persian\"",
           53
          ],
          [
           "\"Moltres\"",
           146
          ],
          [
           "\"Umbreon\"",
           197
          ],
          [
           "\"Murkrow\"",
           198
          ],
          [
           "\"Qwilfish\"",
           211
          ],
          [
           "\"Sneasel\"",
           215
          ],
          [
           "\"Houndour\"",
           228
          ],
          [
           "\"Houndoom\"",
           229
          ],
          [
           "\"Houndoom\"",
           229
          ],
          [
           "\"Poochyena\"",
           261
          ],
          [
           "\"Mightyena\"",
           262
          ],
          [
           "\"Zigzagoon\"",
           263
          ],
          [
           "\"Linoone\"",
           264
          ],
          [
           "\"Sableye\"",
           302
          ],
          [
           "\"Sableye\"",
           302
          ],
          [
           "\"Absol\"",
           359
          ],
          [
           "\"Absol\"",
           359
          ],
          [
           "\"Honchkrow\"",
           430
          ],
          [
           "\"Weavile\"",
           461
          ],
          [
           "\"Darkrai\"",
           491
          ],
          [
           "\"Purrloin\"",
           509
          ],
          [
           "\"Liepard\"",
           510
          ],
          [
           "\"Scraggy\"",
           559
          ],
          [
           "\"Scrafty\"",
           560
          ],
          [
           "\"Zorua\"",
           570
          ],
          [
           "\"Zoroark\"",
           571
          ],
          [
           "\"Pawniard\"",
           624
          ],
          [
           "\"Bisharp\"",
           625
          ],
          [
           "\"Vullaby\"",
           629
          ],
          [
           "\"Mandibuzz\"",
           630
          ],
          [
           "\"Deino\"",
           633
          ],
          [
           "\"Zweilous\"",
           634
          ],
          [
           "\"Hydreigon\"",
           635
          ],
          [
           "\"Inkay\"",
           686
          ],
          [
           "\"Malamar\"",
           687
          ],
          [
           "\"Yveltal\"",
           717
          ],
          [
           "\"Guzzlord\"",
           799
          ],
          [
           "\"Nickit\"",
           827
          ],
          [
           "\"Thievul\"",
           828
          ],
          [
           "\"Impidimp\"",
           859
          ],
          [
           "\"Morgrem\"",
           860
          ],
          [
           "\"Grimmsnarl\"",
           861
          ],
          [
           "\"Grimmsnarl\"",
           861
          ],
          [
           "\"Obstagoon\"",
           862
          ],
          [
           "\"Zarude\"",
           893
          ],
          [
           "\"Zarude\"",
           893
          ],
          [
           "\"Overqwil\"",
           904
          ],
          [
           "\"Overqwil\"",
           904
          ],
          [
           "\"Maschiff\"",
           942
          ],
          [
           "\"Mabosstiff\"",
           943
          ],
          [
           "\"Kingambit\"",
           983
          ],
          [
           "\"Iron Jugulis\"",
           993
          ],
          [
           "\"Wo-Chien\"",
           1001
          ],
          [
           "\"Chien-Pao\"",
           1002
          ],
          [
           "\"Ting-Lu\"",
           1003
          ],
          [
           "\"Chi-Yu\"",
           1004
          ]
         ],
         "hovertemplate": "Primary Type=\"Dark\"<br>Pokemon Height=%{x}<br>Pokemon Weight=%{y}<br>Pokemon Name=%{customdata[0]}<br>Pokedex Number=%{customdata[1]}<extra></extra>",
         "legendgroup": "\"Dark\"",
         "marker": {
          "color": "#19d3f3",
          "symbol": "circle"
         },
         "mode": "markers",
         "name": "\"Dark\"",
         "showlegend": true,
         "type": "scattergl",
         "x": [
          0.3,
          0.7,
          0.4,
          1.1,
          2,
          1,
          0.5,
          0.5,
          0.9,
          0.6,
          1.4,
          1.9,
          0.5,
          1,
          0.4,
          0.5,
          0.5,
          0.5,
          1.2,
          1.2,
          0.9,
          1.1,
          1.5,
          0.4,
          1.1,
          0.6,
          1.1,
          0.7,
          1.6,
          0.5,
          1.6,
          0.5,
          1.2,
          0.8,
          1.4,
          1.8,
          0.4,
          1.5,
          5.8,
          5.5,
          0.6,
          1.2,
          0.4,
          0.8,
          1.5,
          32,
          1.6,
          1.8,
          1.8,
          2.5,
          2.5,
          0.5,
          1.1,
          2,
          1.3,
          1.5,
          1.9,
          2.7,
          0.4
         ],
         "xaxis": "x",
         "y": [
          3.8,
          25.5,
          4.2,
          33,
          66,
          27,
          2.1,
          3.9,
          28,
          10.8,
          35,
          49.5,
          13.6,
          37,
          17.5,
          32.5,
          11,
          161,
          47,
          49,
          27.3,
          34,
          50.5,
          10.1,
          37.5,
          11.8,
          30,
          12.5,
          81.1,
          10.2,
          70,
          9,
          39.5,
          17.3,
          50,
          160,
          3.5,
          47,
          203,
          888,
          8.9,
          19.9,
          5.5,
          12.5,
          61,
          0,
          46,
          70,
          70,
          60.5,
          60.5,
          16,
          61,
          120,
          111,
          74.2,
          152.2,
          699.7,
          4.9
         ],
         "yaxis": "y"
        },
        {
         "customdata": [
          [
           "\"Ekans\"",
           23
          ],
          [
           "\"Arbok\"",
           24
          ],
          [
           "\"Nidoran (Female)\"",
           29
          ],
          [
           "\"Nidorina\"",
           30
          ],
          [
           "\"Nidoqueen\"",
           31
          ],
          [
           "\"Nidoran (Male)\"",
           32
          ],
          [
           "\"Nidorino\"",
           33
          ],
          [
           "\"Nidoking\"",
           34
          ],
          [
           "\"Zubat\"",
           41
          ],
          [
           "\"Golbat\"",
           42
          ],
          [
           "\"Slowbro\"",
           80
          ],
          [
           "\"Grimer\"",
           88
          ],
          [
           "\"Grimer\"",
           88
          ],
          [
           "\"Muk\"",
           89
          ],
          [
           "\"Muk\"",
           89
          ],
          [
           "\"Koffing\"",
           109
          ],
          [
           "\"Weezing\"",
           110
          ],
          [
           "\"Weezing\"",
           110
          ],
          [
           "\"Crobat\"",
           169
          ],
          [
           "\"Wooper\"",
           194
          ],
          [
           "\"Slowking\"",
           199
          ],
          [
           "\"Gulpin\"",
           316
          ],
          [
           "\"Swalot\"",
           317
          ],
          [
           "\"Seviper\"",
           336
          ],
          [
           "\"Stunky\"",
           434
          ],
          [
           "\"Skuntank\"",
           435
          ],
          [
           "\"Skorupi\"",
           451
          ],
          [
           "\"Drapion\"",
           452
          ],
          [
           "\"Croagunk\"",
           453
          ],
          [
           "\"Toxicroak\"",
           454
          ],
          [
           "\"Trubbish\"",
           568
          ],
          [
           "\"Garbodor\"",
           569
          ],
          [
           "\"Garbodor\"",
           569
          ],
          [
           "\"Skrelp\"",
           690
          ],
          [
           "\"Dragalge\"",
           691
          ],
          [
           "\"Mareanie\"",
           747
          ],
          [
           "\"Toxapex\"",
           748
          ],
          [
           "\"Salandit\"",
           757
          ],
          [
           "\"Salazzle\"",
           758
          ],
          [
           "\"Poipole\"",
           803
          ],
          [
           "\"Naganadel\"",
           804
          ],
          [
           "\"Eternatus\"",
           890
          ],
          [
           "\"Eternatus\"",
           890
          ],
          [
           "\"Shroodle\"",
           944
          ],
          [
           "\"Grafaiai\"",
           945
          ],
          [
           "\"Clodsire\"",
           980
          ],
          [
           "\"Okidogi\"",
           1014
          ],
          [
           "\"Munkidori\"",
           1015
          ],
          [
           "\"Fezandipiti\"",
           1016
          ],
          [
           "\"Pecharunt\"",
           1025
          ]
         ],
         "hovertemplate": "Primary Type=\"Poison\"<br>Pokemon Height=%{x}<br>Pokemon Weight=%{y}<br>Pokemon Name=%{customdata[0]}<br>Pokedex Number=%{customdata[1]}<extra></extra>",
         "legendgroup": "\"Poison\"",
         "marker": {
          "color": "#FF6692",
          "symbol": "circle"
         },
         "mode": "markers",
         "name": "\"Poison\"",
         "showlegend": true,
         "type": "scattergl",
         "x": [
          2,
          3.5,
          0.4,
          0.8,
          1.3,
          0.5,
          0.9,
          1.4,
          0.8,
          1.6,
          1.6,
          0.9,
          0.7,
          1,
          1.2,
          0.6,
          1.2,
          3,
          1.8,
          0.4,
          1.8,
          0.4,
          1.7,
          2.7,
          0.4,
          1,
          0.8,
          1.3,
          0.7,
          1.3,
          0.6,
          1.9,
          21,
          0.5,
          1.8,
          0.4,
          0.7,
          0.6,
          1.2,
          0.6,
          3.6,
          20,
          100,
          0.2,
          0.7,
          1.8,
          1.8,
          1,
          1.4,
          0.3
         ],
         "xaxis": "x",
         "y": [
          6.9,
          65,
          7,
          20,
          60,
          9,
          19.5,
          62,
          7.5,
          55,
          70.5,
          30,
          42,
          52,
          30,
          1,
          9.5,
          16,
          75,
          11,
          79.5,
          10.3,
          80,
          52.5,
          19.2,
          38,
          12,
          61.5,
          23,
          44.4,
          31,
          107.3,
          0,
          7.3,
          81.5,
          8,
          14.5,
          4.8,
          22.2,
          1.8,
          150,
          950,
          0,
          0.7,
          27.2,
          223,
          92,
          12.2,
          30.1,
          0.3
         ],
         "yaxis": "y"
        },
        {
         "customdata": [
          [
           "\"Pikachu\"",
           25
          ],
          [
           "\"Pikachu\"",
           25
          ],
          [
           "\"Pikachu\"",
           25
          ],
          [
           "\"Raichu\"",
           26
          ],
          [
           "\"Raichu\"",
           26
          ],
          [
           "\"Raichu\"",
           26
          ],
          [
           "\"Raichu\"",
           26
          ],
          [
           "\"Raichu\"",
           26
          ],
          [
           "\"Magnemite\"",
           81
          ],
          [
           "\"Magneton\"",
           82
          ],
          [
           "\"Voltorb\"",
           100
          ],
          [
           "\"Voltorb\"",
           100
          ],
          [
           "\"Electrode\"",
           101
          ],
          [
           "\"Electrode\"",
           101
          ],
          [
           "\"Electabuzz\"",
           125
          ],
          [
           "\"Jolteon\"",
           135
          ],
          [
           "\"Zapdos\"",
           145
          ],
          [
           "\"Pichu\"",
           172
          ],
          [
           "\"Mareep\"",
           179
          ],
          [
           "\"Flaaffy\"",
           180
          ],
          [
           "\"Ampharos\"",
           181
          ],
          [
           "\"Ampharos\"",
           181
          ],
          [
           "\"Elekid\"",
           239
          ],
          [
           "\"Raikou\"",
           243
          ],
          [
           "\"Electrike\"",
           309
          ],
          [
           "\"Manectric\"",
           310
          ],
          [
           "\"Manectric\"",
           310
          ],
          [
           "\"Plusle\"",
           311
          ],
          [
           "\"Minun\"",
           312
          ],
          [
           "\"Shinx\"",
           403
          ],
          [
           "\"Luxio\"",
           404
          ],
          [
           "\"Luxray\"",
           405
          ],
          [
           "\"Pachirisu\"",
           417
          ],
          [
           "\"Magnezone\"",
           462
          ],
          [
           "\"Magnezone\"",
           462
          ],
          [
           "\"Electivire\"",
           466
          ],
          [
           "\"Rotom\"",
           479
          ],
          [
           "\"Rotom\"",
           479
          ],
          [
           "\"Rotom\"",
           479
          ],
          [
           "\"Rotom\"",
           479
          ],
          [
           "\"Rotom\"",
           479
          ],
          [
           "\"Rotom\"",
           479
          ],
          [
           "\"Blitzle\"",
           522
          ],
          [
           "\"Zebstrika\"",
           523
          ],
          [
           "\"Emolga\"",
           587
          ],
          [
           "\"Tynamo\"",
           602
          ],
          [
           "\"Eelektrik\"",
           603
          ],
          [
           "\"Eelektross\"",
           604
          ],
          [
           "\"Thundurus\"",
           642
          ],
          [
           "\"Thundurus\"",
           642
          ],
          [
           "\"Helioptile\"",
           694
          ],
          [
           "\"Heliolisk\"",
           695
          ],
          [
           "\"Dedenne\"",
           702
          ],
          [
           "\"Oricorio\"",
           741
          ],
          [
           "\"Togedemaru\"",
           777
          ],
          [
           "\"Tapu Koko\"",
           785
          ],
          [
           "\"Xurkitree\"",
           796
          ],
          [
           "\"Zeraora\"",
           807
          ],
          [
           "\"Yamper\"",
           835
          ],
          [
           "\"Boltund\"",
           836
          ],
          [
           "\"Toxel\"",
           848
          ],
          [
           "\"Toxtricity\"",
           849
          ],
          [
           "\"Toxtricity\"",
           849
          ],
          [
           "\"Toxtricity\"",
           849
          ],
          [
           "\"Toxtricity\"",
           849
          ],
          [
           "\"Pincurchin\"",
           871
          ],
          [
           "\"Morpeko\"",
           877
          ],
          [
           "\"Dracozolt\"",
           880
          ],
          [
           "\"Arctozolt\"",
           881
          ],
          [
           "\"Regieleki\"",
           894
          ],
          [
           "\"Pawmi\"",
           921
          ],
          [
           "\"Pawmo\"",
           922
          ],
          [
           "\"Pawmot\"",
           923
          ],
          [
           "\"Tadbulb\"",
           938
          ],
          [
           "\"Bellibolt\"",
           939
          ],
          [
           "\"Wattrel\"",
           940
          ],
          [
           "\"Kilowattrel\"",
           941
          ],
          [
           "\"Sandy Shocks\"",
           989
          ],
          [
           "\"Miraidon\"",
           1008
          ],
          [
           "\"Raging Bolt\"",
           1021
          ]
         ],
         "hovertemplate": "Primary Type=\"Electric\"<br>Pokemon Height=%{x}<br>Pokemon Weight=%{y}<br>Pokemon Name=%{customdata[0]}<br>Pokedex Number=%{customdata[1]}<extra></extra>",
         "legendgroup": "\"Electric\"",
         "marker": {
          "color": "#B6E880",
          "symbol": "circle"
         },
         "mode": "markers",
         "name": "\"Electric\"",
         "showlegend": true,
         "type": "scattergl",
         "x": [
          0.4,
          21,
          0.4,
          0.8,
          0.8,
          0.8,
          0.7,
          0.7,
          0.3,
          1,
          0.5,
          0.5,
          1.2,
          1.2,
          1.1,
          0.8,
          1.6,
          0.3,
          0.6,
          0.8,
          1.4,
          1.4,
          0.6,
          1.9,
          0.6,
          1.5,
          1.8,
          0.4,
          0.4,
          0.5,
          0.9,
          1.4,
          0.4,
          1.2,
          1.2,
          1.8,
          0.3,
          0.3,
          0.3,
          0.3,
          0.3,
          0.3,
          0.8,
          1.6,
          0.4,
          0.2,
          1.2,
          2.1,
          1.5,
          3,
          0.5,
          1,
          0.2,
          0.6,
          0.3,
          1.8,
          3.8,
          1.5,
          0.3,
          1,
          0.4,
          1.6,
          1.6,
          24,
          24,
          0.3,
          0.3,
          1.8,
          2.3,
          1.2,
          0.3,
          0.4,
          0.9,
          0.3,
          1.2,
          0.4,
          1.4,
          2.3,
          3.5,
          5.2
         ],
         "xaxis": "x",
         "y": [
          6,
          0,
          6,
          30,
          30,
          30,
          21,
          21,
          6,
          60,
          10.5,
          13,
          66.6,
          71,
          30,
          24.5,
          52.6,
          2,
          7.8,
          13.3,
          61.5,
          61.5,
          23.5,
          178,
          15.2,
          40.2,
          44,
          4.2,
          4.2,
          9.5,
          30.5,
          42,
          3.9,
          180,
          180,
          138.6,
          0.3,
          0.3,
          0.3,
          0.3,
          0.3,
          0.3,
          29.8,
          79.5,
          5,
          0.3,
          22,
          80.5,
          61,
          61,
          6,
          21,
          2.2,
          3.4,
          3.3,
          20.5,
          100,
          44.5,
          13.5,
          34,
          11,
          40,
          40,
          0,
          0,
          1,
          3,
          190,
          150,
          145,
          2.5,
          6.5,
          41,
          0.4,
          113,
          3.6,
          38.6,
          60,
          240,
          480
         ],
         "yaxis": "y"
        },
        {
         "customdata": [
          [
           "\"Sandshrew\"",
           27
          ],
          [
           "\"Sandslash\"",
           28
          ],
          [
           "\"Diglett\"",
           50
          ],
          [
           "\"Diglett\"",
           50
          ],
          [
           "\"Dugtrio\"",
           51
          ],
          [
           "\"Dugtrio\"",
           51
          ],
          [
           "\"Cubone\"",
           104
          ],
          [
           "\"Marowak\"",
           105
          ],
          [
           "\"Marowak\"",
           105
          ],
          [
           "\"Marowak\"",
           105
          ],
          [
           "\"Rhyhorn\"",
           111
          ],
          [
           "\"Rhydon\"",
           112
          ],
          [
           "\"Gligar\"",
           207
          ],
          [
           "\"Phanpy\"",
           231
          ],
          [
           "\"Donphan\"",
           232
          ],
          [
           "\"Trapinch\"",
           328
          ],
          [
           "\"Vibrava\"",
           329
          ],
          [
           "\"Flygon\"",
           330
          ],
          [
           "\"Baltoy\"",
           343
          ],
          [
           "\"Claydol\"",
           344
          ],
          [
           "\"Groudon\"",
           383
          ],
          [
           "\"Groudon\"",
           383
          ],
          [
           "\"Hippopotas\"",
           449
          ],
          [
           "\"Hippowdon\"",
           450
          ],
          [
           "\"Rhyperior\"",
           464
          ],
          [
           "\"Gliscor\"",
           472
          ],
          [
           "\"Drilbur\"",
           529
          ],
          [
           "\"Excadrill\"",
           530
          ],
          [
           "\"Sandile\"",
           551
          ],
          [
           "\"Krokorok\"",
           552
          ],
          [
           "\"Krookodile\"",
           553
          ],
          [
           "\"Yamask\"",
           562
          ],
          [
           "\"Stunfisk\"",
           618
          ],
          [
           "\"Stunfisk\"",
           618
          ],
          [
           "\"Golett\"",
           622
          ],
          [
           "\"Golurk\"",
           623
          ],
          [
           "\"Landorus\"",
           645
          ],
          [
           "\"Landorus\"",
           645
          ],
          [
           "\"Mudbray\"",
           749
          ],
          [
           "\"Mudsdale\"",
           750
          ],
          [
           "\"Silicobra\"",
           843
          ],
          [
           "\"Sandaconda\"",
           844
          ],
          [
           "\"Sandaconda\"",
           844
          ],
          [
           "\"Runerigus\"",
           867
          ],
          [
           "\"Ursaluna\"",
           901
          ],
          [
           "\"Ursaluna\"",
           901
          ],
          [
           "\"Ursaluna\"",
           901
          ],
          [
           "\"Toedscool\"",
           948
          ],
          [
           "\"Toedscruel\"",
           949
          ],
          [
           "\"Great Tusk\"",
           984
          ],
          [
           "\"Iron Treads\"",
           990
          ]
         ],
         "hovertemplate": "Primary Type=\"Ground\"<br>Pokemon Height=%{x}<br>Pokemon Weight=%{y}<br>Pokemon Name=%{customdata[0]}<br>Pokedex Number=%{customdata[1]}<extra></extra>",
         "legendgroup": "\"Ground\"",
         "marker": {
          "color": "#FF97FF",
          "symbol": "circle"
         },
         "mode": "markers",
         "name": "\"Ground\"",
         "showlegend": true,
         "type": "scattergl",
         "x": [
          0.6,
          1,
          0.2,
          0.2,
          0.7,
          0.7,
          0.4,
          1,
          1,
          1,
          1,
          1.9,
          1.1,
          0.5,
          1.1,
          0.7,
          1.1,
          2,
          0.5,
          1.5,
          3.5,
          5,
          0.8,
          2,
          2.4,
          2,
          0.3,
          0.7,
          0.7,
          1,
          1.5,
          0.5,
          0.7,
          0.7,
          1,
          2.8,
          1.5,
          1.3,
          1,
          2.5,
          2.2,
          3.8,
          22,
          1.6,
          2.4,
          2.4,
          2.4,
          0.9,
          1.9,
          2.2,
          0.9
         ],
         "xaxis": "x",
         "y": [
          12,
          29.5,
          0.8,
          1,
          66.6,
          33.3,
          6.5,
          45,
          45,
          45,
          115,
          120,
          64.8,
          33.5,
          120,
          15,
          15.3,
          82,
          21.5,
          107.9,
          950,
          999.7,
          49.5,
          300,
          282.8,
          42.5,
          8.5,
          40.4,
          15.2,
          33.4,
          96.3,
          1.5,
          11,
          20.5,
          92,
          330,
          68,
          68,
          110,
          920,
          7.6,
          65.5,
          0,
          66.6,
          290,
          290,
          290,
          33,
          58,
          320,
          240
         ],
         "yaxis": "y"
        },
        {
         "customdata": [
          [
           "\"Sandshrew\"",
           27
          ],
          [
           "\"Sandslash\"",
           28
          ],
          [
           "\"Vulpix\"",
           37
          ],
          [
           "\"Ninetales\"",
           38
          ],
          [
           "\"Mr. Mime\"",
           122
          ],
          [
           "\"Jynx\"",
           124
          ],
          [
           "\"Articuno\"",
           144
          ],
          [
           "\"Swinub\"",
           220
          ],
          [
           "\"Piloswine\"",
           221
          ],
          [
           "\"Delibird\"",
           225
          ],
          [
           "\"Smoochum\"",
           238
          ],
          [
           "\"Castform\"",
           351
          ],
          [
           "\"Snorunt\"",
           361
          ],
          [
           "\"Glalie\"",
           362
          ],
          [
           "\"Glalie\"",
           362
          ],
          [
           "\"Spheal\"",
           363
          ],
          [
           "\"Sealeo\"",
           364
          ],
          [
           "\"Walrein\"",
           365
          ],
          [
           "\"Regice\"",
           378
          ],
          [
           "\"Glaceon\"",
           471
          ],
          [
           "\"Glaceon\"",
           471
          ],
          [
           "\"Mamoswine\"",
           473
          ],
          [
           "\"Froslass\"",
           478
          ],
          [
           "\"Darumaka\"",
           554
          ],
          [
           "\"Darmanitan\"",
           555
          ],
          [
           "\"Darmanitan\"",
           555
          ],
          [
           "\"Vanillite\"",
           582
          ],
          [
           "\"Vanillish\"",
           583
          ],
          [
           "\"Vanilluxe\"",
           584
          ],
          [
           "\"Cubchoo\"",
           613
          ],
          [
           "\"Beartic\"",
           614
          ],
          [
           "\"Cryogonal\"",
           615
          ],
          [
           "\"Bergmite\"",
           712
          ],
          [
           "\"Avalugg\"",
           713
          ],
          [
           "\"Avalugg\"",
           713
          ],
          [
           "\"Avalugg\"",
           713
          ],
          [
           "\"Mr. Rime\"",
           866
          ],
          [
           "\"Snom\"",
           872
          ],
          [
           "\"Frosmoth\"",
           873
          ],
          [
           "\"Eiscue\"",
           875
          ],
          [
           "\"Eiscue\"",
           875
          ],
          [
           "\"Glastrier\"",
           896
          ],
          [
           "\"Cetoddle\"",
           974
          ],
          [
           "\"Cetitan\"",
           975
          ],
          [
           "\"Iron Bundle\"",
           991
          ]
         ],
         "hovertemplate": "Primary Type=\"Ice\"<br>Pokemon Height=%{x}<br>Pokemon Weight=%{y}<br>Pokemon Name=%{customdata[0]}<br>Pokedex Number=%{customdata[1]}<extra></extra>",
         "legendgroup": "\"Ice\"",
         "marker": {
          "color": "#FECB52",
          "symbol": "circle"
         },
         "mode": "markers",
         "name": "\"Ice\"",
         "showlegend": true,
         "type": "scattergl",
         "x": [
          0.7,
          1.2,
          0.6,
          1.1,
          1.4,
          1.4,
          1.7,
          0.4,
          1.1,
          0.9,
          0.4,
          0.3,
          0.7,
          1.5,
          2.1,
          0.8,
          1.1,
          1.4,
          1.8,
          0.8,
          0.8,
          2.5,
          1.3,
          0.7,
          1.7,
          1.7,
          0.4,
          1.1,
          1.3,
          0.5,
          2.6,
          1.1,
          1,
          1.4,
          1.4,
          2,
          1.5,
          0.3,
          1.3,
          1.4,
          1.4,
          2.2,
          1.2,
          4.5,
          0.6
         ],
         "xaxis": "x",
         "y": [
          40,
          55,
          9.9,
          19.9,
          56,
          40.6,
          55.4,
          6.5,
          55.8,
          16,
          6,
          0.8,
          16.8,
          256.5,
          350.2,
          39.5,
          87.6,
          150.6,
          175,
          25.9,
          25.9,
          291,
          26.6,
          40,
          120,
          120,
          5.7,
          41,
          57.5,
          8.5,
          260,
          148,
          99.5,
          262.4,
          262.4,
          505,
          58.2,
          3.8,
          42,
          89,
          89,
          800,
          45,
          700,
          11
         ],
         "yaxis": "y"
        },
        {
         "customdata": [
          [
           "\"Clefairy\"",
           35
          ],
          [
           "\"Clefable\"",
           36
          ],
          [
           "\"Cleffa\"",
           173
          ],
          [
           "\"Togepi\"",
           175
          ],
          [
           "\"Togetic\"",
           176
          ],
          [
           "\"Snubbull\"",
           209
          ],
          [
           "\"Granbull\"",
           210
          ],
          [
           "\"Togekiss\"",
           468
          ],
          [
           "\"Flabébé\"",
           669
          ],
          [
           "\"Flabébé\"",
           669
          ],
          [
           "\"Flabébé\"",
           669
          ],
          [
           "\"Flabébé\"",
           669
          ],
          [
           "\"Flabébé\"",
           669
          ],
          [
           "\"Floette\"",
           670
          ],
          [
           "\"Floette\"",
           670
          ],
          [
           "\"Floette\"",
           670
          ],
          [
           "\"Floette\"",
           670
          ],
          [
           "\"Floette\"",
           670
          ],
          [
           "\"Florges\"",
           671
          ],
          [
           "\"Florges\"",
           671
          ],
          [
           "\"Florges\"",
           671
          ],
          [
           "\"Florges\"",
           671
          ],
          [
           "\"Florges\"",
           671
          ],
          [
           "\"Spritzee\"",
           682
          ],
          [
           "\"Aromatisse\"",
           683
          ],
          [
           "\"Swirlix\"",
           684
          ],
          [
           "\"Slurpuff\"",
           685
          ],
          [
           "\"Sylveon\"",
           700
          ],
          [
           "\"Sylveon\"",
           700
          ],
          [
           "\"Xerneas\"",
           716
          ],
          [
           "\"Comfey\"",
           764
          ],
          [
           "\"Milcery\"",
           868
          ],
          [
           "\"Alcremie\"",
           869
          ],
          [
           "\"Alcremie\"",
           869
          ],
          [
           "\"Alcremie\"",
           869
          ],
          [
           "\"Alcremie\"",
           869
          ],
          [
           "\"Alcremie\"",
           869
          ],
          [
           "\"Alcremie\"",
           869
          ],
          [
           "\"Alcremie\"",
           869
          ],
          [
           "\"Alcremie\"",
           869
          ],
          [
           "\"Alcremie\"",
           869
          ],
          [
           "\"Alcremie\"",
           869
          ],
          [
           "\"Zacian\"",
           888
          ],
          [
           "\"Zacian\"",
           888
          ],
          [
           "\"Enamorus\"",
           905
          ],
          [
           "\"Enamorus\"",
           905
          ],
          [
           "\"Fidough\"",
           926
          ],
          [
           "\"Dachsbun\"",
           927
          ],
          [
           "\"Tinkatink\"",
           957
          ],
          [
           "\"Tinkatuff\"",
           958
          ],
          [
           "\"Tinkaton\"",
           959
          ],
          [
           "\"Scream Tail\"",
           985
          ],
          [
           "\"Iron Valiant\"",
           1006
          ]
         ],
         "hovertemplate": "Primary Type=\"Fairy\"<br>Pokemon Height=%{x}<br>Pokemon Weight=%{y}<br>Pokemon Name=%{customdata[0]}<br>Pokedex Number=%{customdata[1]}<extra></extra>",
         "legendgroup": "\"Fairy\"",
         "marker": {
          "color": "#636efa",
          "symbol": "circle"
         },
         "mode": "markers",
         "name": "\"Fairy\"",
         "showlegend": true,
         "type": "scattergl",
         "x": [
          0.6,
          1.3,
          0.3,
          0.3,
          0.6,
          0.6,
          1.4,
          1.5,
          0.1,
          0.1,
          0.1,
          0.1,
          0.1,
          0.2,
          0.2,
          0.2,
          0.2,
          0.2,
          1.1,
          1.1,
          1.1,
          1.1,
          1.1,
          0.2,
          0.8,
          0.4,
          0.8,
          1,
          1,
          3,
          0.1,
          0.2,
          0.3,
          0.3,
          0.3,
          0.3,
          0.3,
          0.3,
          0.3,
          0.3,
          0.3,
          30,
          2.8,
          2.8,
          1.6,
          1.6,
          0.3,
          0.5,
          0.4,
          0.7,
          0.7,
          1.2,
          1.4
         ],
         "xaxis": "x",
         "y": [
          7.5,
          40,
          3,
          1.5,
          3.2,
          7.8,
          48.7,
          38,
          0.1,
          0.1,
          0.1,
          0.1,
          0.1,
          0.9,
          0.9,
          0.9,
          0.9,
          0.9,
          10,
          10,
          10,
          10,
          10,
          0.5,
          15.5,
          3.5,
          5,
          23.5,
          23.5,
          215,
          0.3,
          0.3,
          0.5,
          0.5,
          0.5,
          0.5,
          0.5,
          0.5,
          0.5,
          0.5,
          0.5,
          0,
          110,
          355,
          48,
          48,
          10.9,
          14.9,
          8.9,
          59.1,
          112.8,
          8,
          35
         ],
         "yaxis": "y"
        },
        {
         "customdata": [
          [
           "\"Meowth\"",
           52
          ],
          [
           "\"Steelix\"",
           208
          ],
          [
           "\"Steelix\"",
           208
          ],
          [
           "\"Skarmory\"",
           227
          ],
          [
           "\"Mawile\"",
           303
          ],
          [
           "\"Mawile\"",
           303
          ],
          [
           "\"Aron\"",
           304
          ],
          [
           "\"Lairon\"",
           305
          ],
          [
           "\"Aggron\"",
           306
          ],
          [
           "\"Aggron\"",
           306
          ],
          [
           "\"Beldum\"",
           374
          ],
          [
           "\"Metang\"",
           375
          ],
          [
           "\"Metagross\"",
           376
          ],
          [
           "\"Metagross\"",
           376
          ],
          [
           "\"Registeel\"",
           379
          ],
          [
           "\"Jirachi\"",
           385
          ],
          [
           "\"Bronzor\"",
           436
          ],
          [
           "\"Bronzong\"",
           437
          ],
          [
           "\"Dialga\"",
           483
          ],
          [
           "\"Dialga\"",
           483
          ],
          [
           "\"Klink\"",
           599
          ],
          [
           "\"Klang\"",
           600
          ],
          [
           "\"Klinklang\"",
           601
          ],
          [
           "\"Cobalion\"",
           638
          ],
          [
           "\"Honedge\"",
           679
          ],
          [
           "\"Doublade\"",
           680
          ],
          [
           "\"Aegislash\"",
           681
          ],
          [
           "\"Aegislash\"",
           681
          ],
          [
           "\"Sliggoo\"",
           705
          ],
          [
           "\"Sliggoo\"",
           705
          ],
          [
           "\"Goodra\"",
           706
          ],
          [
           "\"Klefki\"",
           707
          ],
          [
           "\"Celesteela\"",
           797
          ],
          [
           "\"Magearna\"",
           801
          ],
          [
           "\"Magearna\"",
           801
          ],
          [
           "\"Meltan\"",
           808
          ],
          [
           "\"Melmetal\"",
           809
          ],
          [
           "\"Melmetal\"",
           809
          ],
          [
           "\"Perrserker\"",
           863
          ],
          [
           "\"Cufant\"",
           878
          ],
          [
           "\"Copperajah\"",
           879
          ],
          [
           "\"Copperajah\"",
           879
          ],
          [
           "\"Duraludon\"",
           884
          ],
          [
           "\"Duraludon\"",
           884
          ],
          [
           "\"Varoom\"",
           965
          ],
          [
           "\"Revavroom\"",
           966
          ],
          [
           "\"Orthworm\"",
           968
          ],
          [
           "\"Gholdengo\"",
           1000
          ],
          [
           "\"Gholdengo\"",
           1000
          ],
          [
           "\"Archaludon\"",
           1018
          ],
          [
           "\"Iron Crown\"",
           1023
          ]
         ],
         "hovertemplate": "Primary Type=\"Steel\"<br>Pokemon Height=%{x}<br>Pokemon Weight=%{y}<br>Pokemon Name=%{customdata[0]}<br>Pokedex Number=%{customdata[1]}<extra></extra>",
         "legendgroup": "\"Steel\"",
         "marker": {
          "color": "#EF553B",
          "symbol": "circle"
         },
         "mode": "markers",
         "name": "\"Steel\"",
         "showlegend": true,
         "type": "scattergl",
         "x": [
          0.4,
          9.2,
          10.5,
          1.7,
          0.6,
          1,
          0.4,
          0.9,
          2.1,
          2.2,
          0.6,
          1.2,
          1.6,
          2.5,
          1.9,
          0.3,
          0.5,
          1.3,
          5.4,
          7,
          0.3,
          0.6,
          0.6,
          2.1,
          0.8,
          0.8,
          1.7,
          1.7,
          0.7,
          0.7,
          1.7,
          0.2,
          9.2,
          1,
          1,
          0.2,
          2.5,
          25,
          0.8,
          1.2,
          3,
          23,
          1.8,
          43,
          1,
          1.8,
          2.5,
          1.2,
          1.2,
          2,
          1.6
         ],
         "xaxis": "x",
         "y": [
          7.5,
          400,
          740,
          50.5,
          11.5,
          23.5,
          60,
          120,
          360,
          395,
          95.2,
          202.5,
          550,
          942.9,
          205,
          1.1,
          60.5,
          187,
          683,
          850,
          21,
          51,
          81,
          250,
          2,
          4.5,
          53,
          53,
          68.5,
          68.5,
          334.1,
          3,
          999.9,
          80.5,
          80.5,
          8,
          800,
          0,
          28,
          100,
          650,
          0,
          40,
          0,
          35,
          120,
          310,
          30,
          30,
          60,
          156
         ],
         "yaxis": "y"
        },
        {
         "customdata": [
          [
           "\"Mankey\"",
           56
          ],
          [
           "\"Primeape\"",
           57
          ],
          [
           "\"Machop\"",
           66
          ],
          [
           "\"Machoke\"",
           67
          ],
          [
           "\"Machamp\"",
           68
          ],
          [
           "\"Machamp\"",
           68
          ],
          [
           "\"Machamp\"",
           68
          ],
          [
           "\"Farfetch'd\"",
           83
          ],
          [
           "\"Hitmonlee\"",
           106
          ],
          [
           "\"Hitmonchan\"",
           107
          ],
          [
           "\"Tauros\"",
           128
          ],
          [
           "\"Tauros\"",
           128
          ],
          [
           "\"Tauros\"",
           128
          ],
          [
           "\"Zapdos\"",
           145
          ],
          [
           "\"Sneasel\"",
           215
          ],
          [
           "\"Tyrogue\"",
           236
          ],
          [
           "\"Hitmontop\"",
           237
          ],
          [
           "\"Makuhita\"",
           296
          ],
          [
           "\"Hariyama\"",
           297
          ],
          [
           "\"Meditite\"",
           307
          ],
          [
           "\"Medicham\"",
           308
          ],
          [
           "\"Medicham\"",
           308
          ],
          [
           "\"Riolu\"",
           447
          ],
          [
           "\"Lucario\"",
           448
          ],
          [
           "\"Lucario\"",
           448
          ],
          [
           "\"Timburr\"",
           532
          ],
          [
           "\"Gurdurr\"",
           533
          ],
          [
           "\"Conkeldurr\"",
           534
          ],
          [
           "\"Throh\"",
           538
          ],
          [
           "\"Sawk\"",
           539
          ],
          [
           "\"Mienfoo\"",
           619
          ],
          [
           "\"Mienshao\"",
           620
          ],
          [
           "\"Pancham\"",
           674
          ],
          [
           "\"Pangoro\"",
           675
          ],
          [
           "\"Hawlucha\"",
           701
          ],
          [
           "\"Crabrawler\"",
           739
          ],
          [
           "\"Crabominable\"",
           740
          ],
          [
           "\"Crabominable\"",
           740
          ],
          [
           "\"Passimian\"",
           766
          ],
          [
           "\"Marshadow\"",
           802
          ],
          [
           "\"Clobbopus\"",
           852
          ],
          [
           "\"Grapploct\"",
           853
          ],
          [
           "\"Sirfetch'd\"",
           865
          ],
          [
           "\"Falinks\"",
           870
          ],
          [
           "\"Zamazenta\"",
           889
          ],
          [
           "\"Zamazenta\"",
           889
          ],
          [
           "\"Kubfu\"",
           891
          ],
          [
           "\"Urshifu\"",
           892
          ],
          [
           "\"Urshifu\"",
           892
          ],
          [
           "\"Urshifu\"",
           892
          ],
          [
           "\"Urshifu\"",
           892
          ],
          [
           "\"Urshifu\"",
           892
          ],
          [
           "\"Urshifu\"",
           892
          ],
          [
           "\"Sneasler\"",
           903
          ],
          [
           "\"Annihilape\"",
           979
          ],
          [
           "\"Iron Hands\"",
           992
          ],
          [
           "\"Koraidon\"",
           1007
          ]
         ],
         "hovertemplate": "Primary Type=\"Fighting\"<br>Pokemon Height=%{x}<br>Pokemon Weight=%{y}<br>Pokemon Name=%{customdata[0]}<br>Pokedex Number=%{customdata[1]}<extra></extra>",
         "legendgroup": "\"Fighting\"",
         "marker": {
          "color": "#00cc96",
          "symbol": "circle"
         },
         "mode": "markers",
         "name": "\"Fighting\"",
         "showlegend": true,
         "type": "scattergl",
         "x": [
          0.5,
          1,
          0.8,
          1.5,
          1.6,
          1.6,
          25,
          0.8,
          1.5,
          1.4,
          1.4,
          1.4,
          1.4,
          1.6,
          0.9,
          0.7,
          1.4,
          1,
          2.3,
          0.6,
          1.3,
          1.3,
          0.7,
          1.2,
          1.3,
          0.6,
          1.2,
          1.4,
          1.3,
          1.4,
          0.9,
          1.4,
          0.6,
          2.1,
          0.8,
          0.6,
          1.7,
          1.7,
          2,
          0.7,
          0.6,
          1.6,
          0.8,
          3,
          2.9,
          2.9,
          0.6,
          1.9,
          1.9,
          1.9,
          1.9,
          29,
          29,
          1.3,
          1.2,
          1.8,
          2.5
         ],
         "xaxis": "x",
         "y": [
          28,
          32,
          19.5,
          70.5,
          130,
          130,
          0,
          42,
          49.8,
          50.2,
          115,
          85,
          110,
          58.2,
          27,
          21,
          48,
          86.4,
          253.8,
          11.2,
          31.5,
          31.5,
          20.2,
          54,
          57.5,
          12.5,
          40,
          87,
          55.5,
          41,
          20,
          35.5,
          8,
          136,
          21.5,
          7,
          180,
          180,
          82.8,
          22.2,
          4,
          39,
          117,
          62,
          210,
          785,
          12,
          105,
          105,
          105,
          105,
          0,
          0,
          43,
          56,
          380.7,
          303
         ],
         "yaxis": "y"
        },
        {
         "customdata": [
          [
           "\"Abra\"",
           63
          ],
          [
           "\"Kadabra\"",
           64
          ],
          [
           "\"Alakazam\"",
           65
          ],
          [
           "\"Alakazam\"",
           65
          ],
          [
           "\"Alakazam\"",
           65
          ],
          [
           "\"Ponyta\"",
           77
          ],
          [
           "\"Rapidash\"",
           78
          ],
          [
           "\"Slowpoke\"",
           79
          ],
          [
           "\"Drowzee\"",
           96
          ],
          [
           "\"Hypno\"",
           97
          ],
          [
           "\"Mr. Mime\"",
           122
          ],
          [
           "\"Articuno\"",
           144
          ],
          [
           "\"Mewtwo\"",
           150
          ],
          [
           "\"Mewtwo\"",
           150
          ],
          [
           "\"Mewtwo\"",
           150
          ],
          [
           "\"Mew\"",
           151
          ],
          [
           "\"Natu\"",
           177
          ],
          [
           "\"Xatu\"",
           178
          ],
          [
           "\"Espeon\"",
           196
          ],
          [
           "\"Unown\"",
           201
          ],
          [
           "\"Unown\"",
           201
          ],
          [
           "\"Unown\"",
           201
          ],
          [
           "\"Unown\"",
           201
          ],
          [
           "\"Unown\"",
           201
          ],
          [
           "\"Unown\"",
           201
          ],
          [
           "\"Unown\"",
           201
          ],
          [
           "\"Unown\"",
           201
          ],
          [
           "\"Unown\"",
           201
          ],
          [
           "\"Unown\"",
           201
          ],
          [
           "\"Unown\"",
           201
          ],
          [
           "\"Unown\"",
           201
          ],
          [
           "\"Unown\"",
           201
          ],
          [
           "\"Unown\"",
           201
          ],
          [
           "\"Unown\"",
           201
          ],
          [
           "\"Unown\"",
           201
          ],
          [
           "\"Unown\"",
           201
          ],
          [
           "\"Unown\"",
           201
          ],
          [
           "\"Unown\"",
           201
          ],
          [
           "\"Unown\"",
           201
          ],
          [
           "\"Unown\"",
           201
          ],
          [
           "\"Unown\"",
           201
          ],
          [
           "\"Unown\"",
           201
          ],
          [
           "\"Unown\"",
           201
          ],
          [
           "\"Unown\"",
           201
          ],
          [
           "\"Unown\"",
           201
          ],
          [
           "\"Unown\"",
           201
          ],
          [
           "\"Unown\"",
           201
          ],
          [
           "\"Wobbuffet\"",
           202
          ],
          [
           "\"Lugia\"",
           249
          ],
          [
           "\"Celebi\"",
           251
          ],
          [
           "\"Ralts\"",
           280
          ],
          [
           "\"Kirlia\"",
           281
          ],
          [
           "\"Gardevoir\"",
           282
          ],
          [
           "\"Gardevoir\"",
           282
          ],
          [
           "\"Spoink\"",
           325
          ],
          [
           "\"Grumpig\"",
           326
          ],
          [
           "\"Chimecho\"",
           358
          ],
          [
           "\"Wynaut\"",
           360
          ],
          [
           "\"Deoxys\"",
           386
          ],
          [
           "\"Deoxys\"",
           386
          ],
          [
           "\"Deoxys\"",
           386
          ],
          [
           "\"Deoxys\"",
           386
          ],
          [
           "\"Chingling\"",
           433
          ],
          [
           "\"Mime Jr.\"",
           439
          ],
          [
           "\"Gallade\"",
           475
          ],
          [
           "\"Gallade\"",
           475
          ],
          [
           "\"Uxie\"",
           480
          ],
          [
           "\"Mesprit\"",
           481
          ],
          [
           "\"Azelf\"",
           482
          ],
          [
           "\"Cresselia\"",
           488
          ],
          [
           "\"Victini\"",
           494
          ],
          [
           "\"Munna\"",
           517
          ],
          [
           "\"Musharna\"",
           518
          ],
          [
           "\"Woobat\"",
           527
          ],
          [
           "\"Swoobat\"",
           528
          ],
          [
           "\"Sigilyph\"",
           561
          ],
          [
           "\"Gothita\"",
           574
          ],
          [
           "\"Gothorita\"",
           575
          ],
          [
           "\"Gothitelle\"",
           576
          ],
          [
           "\"Solosis\"",
           577
          ],
          [
           "\"Duosion\"",
           578
          ],
          [
           "\"Reuniclus\"",
           579
          ],
          [
           "\"Elgyem\"",
           605
          ],
          [
           "\"Beheeyem\"",
           606
          ],
          [
           "\"Braviary\"",
           628
          ],
          [
           "\"Braviary\"",
           628
          ],
          [
           "\"Espurr\"",
           677
          ],
          [
           "\"Meowstic\"",
           678
          ],
          [
           "\"Meowstic\"",
           678
          ],
          [
           "\"Hoopa\"",
           720
          ],
          [
           "\"Hoopa\"",
           720
          ],
          [
           "\"Oricorio\"",
           741
          ],
          [
           "\"Tapu Lele\"",
           786
          ],
          [
           "\"Cosmog\"",
           789
          ],
          [
           "\"Cosmoem\"",
           790
          ],
          [
           "\"Solgaleo\"",
           791
          ],
          [
           "\"Solgaleo\"",
           791
          ],
          [
           "\"Solgaleo\"",
           791
          ],
          [
           "\"Lunala\"",
           792
          ],
          [
           "\"Lunala\"",
           792
          ],
          [
           "\"Lunala\"",
           792
          ],
          [
           "\"Necrozma\"",
           800
          ],
          [
           "\"Necrozma\"",
           800
          ],
          [
           "\"Necrozma\"",
           800
          ],
          [
           "\"Necrozma\"",
           800
          ],
          [
           "\"Hatenna\"",
           856
          ],
          [
           "\"Hattrem\"",
           857
          ],
          [
           "\"Hatterene\"",
           858
          ],
          [
           "\"Hatterene\"",
           858
          ],
          [
           "\"Indeedee\"",
           876
          ],
          [
           "\"Indeedee\"",
           876
          ],
          [
           "\"Calyrex\"",
           898
          ],
          [
           "\"Calyrex\"",
           898
          ],
          [
           "\"Calyrex\"",
           898
          ],
          [
           "\"Flittle\"",
           955
          ],
          [
           "\"Espathra\"",
           956
          ]
         ],
         "hovertemplate": "Primary Type=\"Psychic\"<br>Pokemon Height=%{x}<br>Pokemon Weight=%{y}<br>Pokemon Name=%{customdata[0]}<br>Pokedex Number=%{customdata[1]}<extra></extra>",
         "legendgroup": "\"Psychic\"",
         "marker": {
          "color": "#ab63fa",
          "symbol": "circle"
         },
         "mode": "markers",
         "name": "\"Psychic\"",
         "showlegend": true,
         "type": "scattergl",
         "x": [
          0.9,
          1.3,
          1.5,
          1.5,
          1.2,
          0.8,
          1.7,
          1.2,
          1,
          1.6,
          1.3,
          1.7,
          2,
          2.3,
          1.5,
          0.4,
          0.2,
          1.5,
          0.9,
          0.5,
          0.5,
          0.5,
          0.5,
          0.5,
          0.5,
          0.5,
          0.5,
          0.5,
          0.5,
          0.5,
          0.5,
          0.5,
          0.5,
          0.5,
          0.5,
          0.5,
          0.5,
          0.5,
          0.5,
          0.5,
          0.5,
          0.5,
          0.5,
          0.5,
          0.5,
          0.5,
          0.5,
          1.3,
          5.2,
          0.6,
          0.4,
          0.8,
          1.6,
          1.6,
          0.7,
          0.9,
          0.6,
          0.6,
          1.7,
          1.7,
          1.7,
          1.7,
          0.2,
          0.6,
          1.6,
          1.6,
          0.3,
          0.3,
          0.3,
          1.5,
          0.4,
          0.6,
          1.1,
          0.4,
          0.9,
          1.4,
          0.4,
          0.7,
          1.5,
          0.3,
          0.6,
          1,
          0.5,
          1,
          1.7,
          1.7,
          0.3,
          0.6,
          0.6,
          0.5,
          6.5,
          0.6,
          1.2,
          0.2,
          0.1,
          3.4,
          3.4,
          3.4,
          4,
          4,
          4,
          3.8,
          4.2,
          7.5,
          2.4,
          0.4,
          0.6,
          2.1,
          26,
          0.9,
          0.9,
          1.1,
          1.1,
          1.1,
          0.2,
          1.9
         ],
         "xaxis": "x",
         "y": [
          19.5,
          56.5,
          48,
          48,
          48,
          24,
          80,
          36,
          32.4,
          75.6,
          54.5,
          50.9,
          122,
          127,
          33,
          4,
          2,
          15,
          26.5,
          5,
          5,
          5,
          5,
          5,
          5,
          5,
          5,
          5,
          5,
          5,
          5,
          5,
          5,
          5,
          5,
          5,
          5,
          5,
          5,
          5,
          5,
          5,
          5,
          5,
          5,
          5,
          5,
          28.5,
          216,
          5,
          6.6,
          20.2,
          48.4,
          48.4,
          30.6,
          71.5,
          1,
          14,
          60.8,
          60.8,
          60.8,
          60.8,
          0.6,
          13,
          52,
          56.4,
          0.3,
          0.3,
          0.3,
          85.6,
          4,
          23.3,
          60.5,
          2.1,
          10.5,
          14,
          5.8,
          18,
          44,
          1,
          8,
          20.1,
          9,
          34.5,
          43.4,
          43.4,
          3.5,
          8.5,
          8.5,
          9,
          490,
          3.4,
          18.6,
          0.1,
          999.9,
          230,
          230,
          230,
          120,
          120,
          120,
          460,
          350,
          230,
          230,
          3.4,
          4.8,
          5.1,
          0,
          28,
          28,
          7.7,
          7.7,
          7.7,
          1.5,
          90
         ],
         "yaxis": "y"
        },
        {
         "customdata": [
          [
           "\"Geodude\"",
           74
          ],
          [
           "\"Geodude\"",
           74
          ],
          [
           "\"Graveler\"",
           75
          ],
          [
           "\"Graveler\"",
           75
          ],
          [
           "\"Golem\"",
           76
          ],
          [
           "\"Golem\"",
           76
          ],
          [
           "\"Golem\"",
           76
          ],
          [
           "\"Onix\"",
           95
          ],
          [
           "\"Omanyte\"",
           138
          ],
          [
           "\"Omastar\"",
           139
          ],
          [
           "\"Kabuto\"",
           140
          ],
          [
           "\"Kabutops\"",
           141
          ],
          [
           "\"Aerodactyl\"",
           142
          ],
          [
           "\"Aerodactyl\"",
           142
          ],
          [
           "\"Sudowoodo\"",
           185
          ],
          [
           "\"Larvitar\"",
           246
          ],
          [
           "\"Pupitar\"",
           247
          ],
          [
           "\"Tyranitar\"",
           248
          ],
          [
           "\"Tyranitar\"",
           248
          ],
          [
           "\"Nosepass\"",
           299
          ],
          [
           "\"Lunatone\"",
           337
          ],
          [
           "\"Solrock\"",
           338
          ],
          [
           "\"Lileep\"",
           345
          ],
          [
           "\"Cradily\"",
           346
          ],
          [
           "\"Anorith\"",
           347
          ],
          [
           "\"Armaldo\"",
           348
          ],
          [
           "\"Regirock\"",
           377
          ],
          [
           "\"Cranidos\"",
           408
          ],
          [
           "\"Rampardos\"",
           409
          ],
          [
           "\"Shieldon\"",
           410
          ],
          [
           "\"Bastiodon\"",
           411
          ],
          [
           "\"Bonsly\"",
           438
          ],
          [
           "\"Probopass\"",
           476
          ],
          [
           "\"Probopass\"",
           476
          ],
          [
           "\"Roggenrola\"",
           524
          ],
          [
           "\"Boldore\"",
           525
          ],
          [
           "\"Gigalith\"",
           526
          ],
          [
           "\"Archen\"",
           566
          ],
          [
           "\"Archeops\"",
           567
          ],
          [
           "\"Terrakion\"",
           639
          ],
          [
           "\"Binacle\"",
           688
          ],
          [
           "\"Barbaracle\"",
           689
          ],
          [
           "\"Tyrunt\"",
           696
          ],
          [
           "\"Tyrantrum\"",
           697
          ],
          [
           "\"Amaura\"",
           698
          ],
          [
           "\"Aurorus\"",
           699
          ],
          [
           "\"Carbink\"",
           703
          ],
          [
           "\"Diancie\"",
           719
          ],
          [
           "\"Diancie\"",
           719
          ],
          [
           "\"Rockruff\"",
           744
          ],
          [
           "\"Lycanroc\"",
           745
          ],
          [
           "\"Lycanroc\"",
           745
          ],
          [
           "\"Lycanroc\"",
           745
          ],
          [
           "\"Minior\"",
           774
          ],
          [
           "\"Minior\"",
           774
          ],
          [
           "\"Minior\"",
           774
          ],
          [
           "\"Minior\"",
           774
          ],
          [
           "\"Minior\"",
           774
          ],
          [
           "\"Minior\"",
           774
          ],
          [
           "\"Minior\"",
           774
          ],
          [
           "\"Minior\"",
           774
          ],
          [
           "\"Nihilego\"",
           793
          ],
          [
           "\"Stakataka\"",
           805
          ],
          [
           "\"Rolycoly\"",
           837
          ],
          [
           "\"Carkol\"",
           838
          ],
          [
           "\"Coalossal\"",
           839
          ],
          [
           "\"Coalossal\"",
           839
          ],
          [
           "\"Stonjourner\"",
           874
          ],
          [
           "\"Nacli\"",
           932
          ],
          [
           "\"Naclstack\"",
           933
          ],
          [
           "\"Garganacl\"",
           934
          ],
          [
           "\"Klawf\"",
           950
          ],
          [
           "\"Glimmet\"",
           969
          ],
          [
           "\"Glimmora\"",
           970
          ],
          [
           "\"Iron Thorns\"",
           995
          ],
          [
           "\"Iron Boulder\"",
           1022
          ]
         ],
         "hovertemplate": "Primary Type=\"Rock\"<br>Pokemon Height=%{x}<br>Pokemon Weight=%{y}<br>Pokemon Name=%{customdata[0]}<br>Pokedex Number=%{customdata[1]}<extra></extra>",
         "legendgroup": "\"Rock\"",
         "marker": {
          "color": "#FFA15A",
          "symbol": "circle"
         },
         "mode": "markers",
         "name": "\"Rock\"",
         "showlegend": true,
         "type": "scattergl",
         "x": [
          0.4,
          0.4,
          1,
          1,
          1.4,
          1.4,
          1.7,
          8.8,
          0.4,
          1,
          0.5,
          1.3,
          1.8,
          2.1,
          1.2,
          0.6,
          1.2,
          2,
          2.5,
          1,
          1,
          1.2,
          1,
          1.5,
          0.7,
          1.5,
          1.7,
          0.9,
          1.6,
          0.5,
          1.3,
          0.5,
          1.4,
          1.4,
          0.4,
          0.9,
          1.7,
          0.5,
          1.4,
          1.9,
          0.5,
          1.3,
          0.8,
          2.5,
          1.3,
          2.7,
          0.3,
          1.1,
          0.7,
          0.5,
          0.8,
          1.1,
          0.8,
          0.3,
          0.3,
          0.3,
          0.3,
          0.3,
          0.3,
          0.3,
          0.3,
          1.2,
          5.5,
          0.3,
          1.1,
          2.8,
          42,
          2.5,
          0.4,
          0.6,
          2.3,
          1.3,
          0.7,
          1.5,
          1.6,
          1.5
         ],
         "xaxis": "x",
         "y": [
          20,
          20.3,
          110,
          105,
          300,
          300,
          316,
          210,
          7.5,
          35,
          11.5,
          40.5,
          59,
          79,
          38,
          72,
          152,
          202,
          255,
          97,
          168,
          154,
          23.8,
          60.4,
          12.5,
          68.2,
          230,
          31.5,
          102.5,
          57,
          149.5,
          15,
          340,
          340,
          18,
          102,
          260,
          9.5,
          32,
          260,
          31,
          96,
          26,
          270,
          25.2,
          225,
          5.7,
          27.8,
          8.8,
          9.2,
          25,
          25,
          25,
          40,
          0.3,
          0.3,
          0.3,
          0.3,
          0.3,
          0.3,
          0.3,
          55.5,
          820,
          12,
          78,
          310.5,
          0,
          520,
          16,
          105,
          240,
          79,
          8,
          45,
          303,
          162.5
         ],
         "yaxis": "y"
        },
        {
         "customdata": [
          [
           "\"Gastly\"",
           92
          ],
          [
           "\"Haunter\"",
           93
          ],
          [
           "\"Gengar\"",
           94
          ],
          [
           "\"Gengar\"",
           94
          ],
          [
           "\"Gengar\"",
           94
          ],
          [
           "\"Gengar\"",
           94
          ],
          [
           "\"Marowak\"",
           105
          ],
          [
           "\"Marowak\"",
           105
          ],
          [
           "\"Misdreavus\"",
           200
          ],
          [
           "\"Corsola\"",
           222
          ],
          [
           "\"Shuppet\"",
           353
          ],
          [
           "\"Banette\"",
           354
          ],
          [
           "\"Banette\"",
           354
          ],
          [
           "\"Duskull\"",
           355
          ],
          [
           "\"Dusclops\"",
           356
          ],
          [
           "\"Drifloon\"",
           425
          ],
          [
           "\"Drifblim\"",
           426
          ],
          [
           "\"Mismagius\"",
           429
          ],
          [
           "\"Spiritomb\"",
           442
          ],
          [
           "\"Dusknoir\"",
           477
          ],
          [
           "\"Giratina\"",
           487
          ],
          [
           "\"Giratina\"",
           487
          ],
          [
           "\"Yamask\"",
           562
          ],
          [
           "\"Cofagrigus\"",
           563
          ],
          [
           "\"Litwick\"",
           607
          ],
          [
           "\"Lampent\"",
           608
          ],
          [
           "\"Chandelure\"",
           609
          ],
          [
           "\"Phantump\"",
           708
          ],
          [
           "\"Trevenant\"",
           709
          ],
          [
           "\"Pumpkaboo\"",
           710
          ],
          [
           "\"Pumpkaboo\"",
           710
          ],
          [
           "\"Pumpkaboo\"",
           710
          ],
          [
           "\"Pumpkaboo\"",
           710
          ],
          [
           "\"Gourgeist\"",
           711
          ],
          [
           "\"Gourgeist\"",
           711
          ],
          [
           "\"Gourgeist\"",
           711
          ],
          [
           "\"Gourgeist\"",
           711
          ],
          [
           "\"Oricorio\"",
           741
          ],
          [
           "\"Sandygast\"",
           769
          ],
          [
           "\"Palossand\"",
           770
          ],
          [
           "\"Mimikyu\"",
           778
          ],
          [
           "\"Dhelmise\"",
           781
          ],
          [
           "\"Sinistea\"",
           854
          ],
          [
           "\"Sinistea\"",
           854
          ],
          [
           "\"Polteageist\"",
           855
          ],
          [
           "\"Polteageist\"",
           855
          ],
          [
           "\"Cursola\"",
           864
          ],
          [
           "\"Spectrier\"",
           897
          ],
          [
           "\"Greavard\"",
           971
          ],
          [
           "\"Houndstone\"",
           972
          ],
          [
           "\"Flutter Mane\"",
           987
          ],
          [
           "\"Gimmighoul\"",
           999
          ],
          [
           "\"Gimmighoul\"",
           999
          ]
         ],
         "hovertemplate": "Primary Type=\"Ghost\"<br>Pokemon Height=%{x}<br>Pokemon Weight=%{y}<br>Pokemon Name=%{customdata[0]}<br>Pokedex Number=%{customdata[1]}<extra></extra>",
         "legendgroup": "\"Ghost\"",
         "marker": {
          "color": "#19d3f3",
          "symbol": "circle"
         },
         "mode": "markers",
         "name": "\"Ghost\"",
         "showlegend": true,
         "type": "scattergl",
         "x": [
          1.3,
          1.6,
          1.5,
          1.5,
          20,
          1.4,
          1,
          1,
          0.7,
          0.6,
          0.6,
          1.1,
          1.2,
          0.8,
          1.6,
          0.4,
          1.2,
          0.9,
          1,
          2.2,
          4.5,
          6.9,
          0.5,
          1.7,
          0.3,
          0.6,
          1,
          0.4,
          1.5,
          0.4,
          0.3,
          0.5,
          0.8,
          0.9,
          0.7,
          1.1,
          1.7,
          0.6,
          0.5,
          1.3,
          0.2,
          3.9,
          0.1,
          0.1,
          0.2,
          0.2,
          1,
          2,
          0.6,
          2,
          1.4,
          0.3,
          0.1
         ],
         "xaxis": "x",
         "y": [
          0.1,
          0.1,
          40.5,
          40.5,
          0,
          40.5,
          34,
          34,
          1,
          0.5,
          2.3,
          12.5,
          13,
          15,
          30.6,
          1.2,
          15,
          4.4,
          108,
          106.6,
          750,
          650,
          1.5,
          76.5,
          3.1,
          13,
          34.3,
          7,
          71,
          5,
          3.5,
          7.5,
          15,
          12.5,
          9.5,
          14,
          39,
          3.4,
          70,
          250,
          0.7,
          210,
          0.2,
          0.2,
          0.4,
          0.4,
          0.4,
          44.5,
          35,
          15,
          4,
          5,
          0.1
         ],
         "yaxis": "y"
        },
        {
         "customdata": [
          [
           "\"Dratini\"",
           147
          ],
          [
           "\"Dragonair\"",
           148
          ],
          [
           "\"Dragonite\"",
           149
          ],
          [
           "\"Altaria\"",
           334
          ],
          [
           "\"Altaria\"",
           334
          ],
          [
           "\"Bagon\"",
           371
          ],
          [
           "\"Shelgon\"",
           372
          ],
          [
           "\"Salamence\"",
           373
          ],
          [
           "\"Salamence\"",
           373
          ],
          [
           "\"Latias\"",
           380
          ],
          [
           "\"Latias\"",
           380
          ],
          [
           "\"Latios\"",
           381
          ],
          [
           "\"Latios\"",
           381
          ],
          [
           "\"Rayquaza\"",
           384
          ],
          [
           "\"Rayquaza\"",
           384
          ],
          [
           "\"Gible\"",
           443
          ],
          [
           "\"Gabite\"",
           444
          ],
          [
           "\"Garchomp\"",
           445
          ],
          [
           "\"Garchomp\"",
           445
          ],
          [
           "\"Axew\"",
           610
          ],
          [
           "\"Fraxure\"",
           611
          ],
          [
           "\"Haxorus\"",
           612
          ],
          [
           "\"Druddigon\"",
           621
          ],
          [
           "\"Reshiram\"",
           643
          ],
          [
           "\"Zekrom\"",
           644
          ],
          [
           "\"Kyurem\"",
           646
          ],
          [
           "\"Kyurem\"",
           646
          ],
          [
           "\"Kyurem\"",
           646
          ],
          [
           "\"Goomy\"",
           704
          ],
          [
           "\"Sliggoo\"",
           705
          ],
          [
           "\"Goodra\"",
           706
          ],
          [
           "\"Zygarde\"",
           718
          ],
          [
           "\"Zygarde\"",
           718
          ],
          [
           "\"Zygarde\"",
           718
          ],
          [
           "\"Jangmo-o\"",
           782
          ],
          [
           "\"Hakamo-o\"",
           783
          ],
          [
           "\"Kommo-o\"",
           784
          ],
          [
           "\"Dreepy\"",
           885
          ],
          [
           "\"Drakloak\"",
           886
          ],
          [
           "\"Dragapult\"",
           887
          ],
          [
           "\"Regidrago\"",
           895
          ],
          [
           "\"Cyclizar\"",
           967
          ],
          [
           "\"Tatsugiri\"",
           978
          ],
          [
           "\"Tatsugiri\"",
           978
          ],
          [
           "\"Tatsugiri\"",
           978
          ],
          [
           "\"Frigibax\"",
           996
          ],
          [
           "\"Arctibax\"",
           997
          ],
          [
           "\"Baxcalibur\"",
           998
          ],
          [
           "\"Roaring Moon\"",
           1005
          ]
         ],
         "hovertemplate": "Primary Type=\"Dragon\"<br>Pokemon Height=%{x}<br>Pokemon Weight=%{y}<br>Pokemon Name=%{customdata[0]}<br>Pokedex Number=%{customdata[1]}<extra></extra>",
         "legendgroup": "\"Dragon\"",
         "marker": {
          "color": "#FF6692",
          "symbol": "circle"
         },
         "mode": "markers",
         "name": "\"Dragon\"",
         "showlegend": true,
         "type": "scattergl",
         "x": [
          1.8,
          4,
          2.2,
          1.1,
          1.5,
          0.6,
          1.1,
          1.5,
          1.8,
          1.4,
          1.8,
          2,
          2.3,
          7,
          10.8,
          0.7,
          1.4,
          1.9,
          1.9,
          0.6,
          1,
          1.8,
          1.6,
          3.2,
          2.9,
          3,
          3.6,
          3.3,
          0.3,
          0.8,
          2,
          5,
          1.2,
          4.5,
          0.6,
          1.2,
          1.6,
          0.5,
          1.4,
          3,
          2.1,
          1.6,
          0.3,
          0.3,
          0.3,
          0.5,
          0.8,
          2.1,
          2
         ],
         "xaxis": "x",
         "y": [
          3.3,
          16.5,
          210,
          20.6,
          20.6,
          42.1,
          110.5,
          102.6,
          112.6,
          40,
          52,
          60,
          70,
          206.5,
          392,
          20.5,
          56,
          95,
          95,
          18,
          36,
          105.5,
          139,
          330,
          345,
          325,
          325,
          325,
          2.8,
          17.5,
          150.5,
          305,
          33.5,
          610,
          29.7,
          47,
          78.2,
          2,
          11,
          50,
          200,
          63,
          8,
          8,
          8,
          17,
          30,
          210,
          380
         ],
         "yaxis": "y"
        },
        {
         "customdata": [
          [
           "\"Tornadus\"",
           641
          ],
          [
           "\"Tornadus\"",
           641
          ],
          [
           "\"Noibat\"",
           714
          ],
          [
           "\"Noivern\"",
           715
          ],
          [
           "\"Rookidee\"",
           821
          ],
          [
           "\"Corvisquire\"",
           822
          ],
          [
           "\"Corviknight\"",
           823
          ],
          [
           "\"Corviknight\"",
           823
          ],
          [
           "\"Cramorant\"",
           845
          ],
          [
           "\"Bombirdier\"",
           962
          ],
          [
           "\"Flamigo\"",
           973
          ]
         ],
         "hovertemplate": "Primary Type=\"Flying\"<br>Pokemon Height=%{x}<br>Pokemon Weight=%{y}<br>Pokemon Name=%{customdata[0]}<br>Pokedex Number=%{customdata[1]}<extra></extra>",
         "legendgroup": "\"Flying\"",
         "marker": {
          "color": "#B6E880",
          "symbol": "circle"
         },
         "mode": "markers",
         "name": "\"Flying\"",
         "showlegend": true,
         "type": "scattergl",
         "x": [
          1.5,
          1.5,
          0.5,
          1.5,
          0.2,
          0.8,
          2.2,
          14,
          0.8,
          1.5,
          1.6
         ],
         "xaxis": "x",
         "y": [
          63,
          63,
          8,
          85,
          1.8,
          16,
          75,
          0,
          18,
          42.9,
          37
         ],
         "yaxis": "y"
        }
       ],
       "layout": {
        "legend": {
         "title": {
          "text": "Primary Type"
         },
         "tracegroupgap": 0
        },
        "template": {
         "data": {
          "bar": [
           {
            "error_x": {
             "color": "#2a3f5f"
            },
            "error_y": {
             "color": "#2a3f5f"
            },
            "marker": {
             "line": {
              "color": "#E5ECF6",
              "width": 0.5
             },
             "pattern": {
              "fillmode": "overlay",
              "size": 10,
              "solidity": 0.2
             }
            },
            "type": "bar"
           }
          ],
          "barpolar": [
           {
            "marker": {
             "line": {
              "color": "#E5ECF6",
              "width": 0.5
             },
             "pattern": {
              "fillmode": "overlay",
              "size": 10,
              "solidity": 0.2
             }
            },
            "type": "barpolar"
           }
          ],
          "carpet": [
           {
            "aaxis": {
             "endlinecolor": "#2a3f5f",
             "gridcolor": "white",
             "linecolor": "white",
             "minorgridcolor": "white",
             "startlinecolor": "#2a3f5f"
            },
            "baxis": {
             "endlinecolor": "#2a3f5f",
             "gridcolor": "white",
             "linecolor": "white",
             "minorgridcolor": "white",
             "startlinecolor": "#2a3f5f"
            },
            "type": "carpet"
           }
          ],
          "choropleth": [
           {
            "colorbar": {
             "outlinewidth": 0,
             "ticks": ""
            },
            "type": "choropleth"
           }
          ],
          "contour": [
           {
            "colorbar": {
             "outlinewidth": 0,
             "ticks": ""
            },
            "colorscale": [
             [
              0,
              "#0d0887"
             ],
             [
              0.1111111111111111,
              "#46039f"
             ],
             [
              0.2222222222222222,
              "#7201a8"
             ],
             [
              0.3333333333333333,
              "#9c179e"
             ],
             [
              0.4444444444444444,
              "#bd3786"
             ],
             [
              0.5555555555555556,
              "#d8576b"
             ],
             [
              0.6666666666666666,
              "#ed7953"
             ],
             [
              0.7777777777777778,
              "#fb9f3a"
             ],
             [
              0.8888888888888888,
              "#fdca26"
             ],
             [
              1,
              "#f0f921"
             ]
            ],
            "type": "contour"
           }
          ],
          "contourcarpet": [
           {
            "colorbar": {
             "outlinewidth": 0,
             "ticks": ""
            },
            "type": "contourcarpet"
           }
          ],
          "heatmap": [
           {
            "colorbar": {
             "outlinewidth": 0,
             "ticks": ""
            },
            "colorscale": [
             [
              0,
              "#0d0887"
             ],
             [
              0.1111111111111111,
              "#46039f"
             ],
             [
              0.2222222222222222,
              "#7201a8"
             ],
             [
              0.3333333333333333,
              "#9c179e"
             ],
             [
              0.4444444444444444,
              "#bd3786"
             ],
             [
              0.5555555555555556,
              "#d8576b"
             ],
             [
              0.6666666666666666,
              "#ed7953"
             ],
             [
              0.7777777777777778,
              "#fb9f3a"
             ],
             [
              0.8888888888888888,
              "#fdca26"
             ],
             [
              1,
              "#f0f921"
             ]
            ],
            "type": "heatmap"
           }
          ],
          "heatmapgl": [
           {
            "colorbar": {
             "outlinewidth": 0,
             "ticks": ""
            },
            "colorscale": [
             [
              0,
              "#0d0887"
             ],
             [
              0.1111111111111111,
              "#46039f"
             ],
             [
              0.2222222222222222,
              "#7201a8"
             ],
             [
              0.3333333333333333,
              "#9c179e"
             ],
             [
              0.4444444444444444,
              "#bd3786"
             ],
             [
              0.5555555555555556,
              "#d8576b"
             ],
             [
              0.6666666666666666,
              "#ed7953"
             ],
             [
              0.7777777777777778,
              "#fb9f3a"
             ],
             [
              0.8888888888888888,
              "#fdca26"
             ],
             [
              1,
              "#f0f921"
             ]
            ],
            "type": "heatmapgl"
           }
          ],
          "histogram": [
           {
            "marker": {
             "pattern": {
              "fillmode": "overlay",
              "size": 10,
              "solidity": 0.2
             }
            },
            "type": "histogram"
           }
          ],
          "histogram2d": [
           {
            "colorbar": {
             "outlinewidth": 0,
             "ticks": ""
            },
            "colorscale": [
             [
              0,
              "#0d0887"
             ],
             [
              0.1111111111111111,
              "#46039f"
             ],
             [
              0.2222222222222222,
              "#7201a8"
             ],
             [
              0.3333333333333333,
              "#9c179e"
             ],
             [
              0.4444444444444444,
              "#bd3786"
             ],
             [
              0.5555555555555556,
              "#d8576b"
             ],
             [
              0.6666666666666666,
              "#ed7953"
             ],
             [
              0.7777777777777778,
              "#fb9f3a"
             ],
             [
              0.8888888888888888,
              "#fdca26"
             ],
             [
              1,
              "#f0f921"
             ]
            ],
            "type": "histogram2d"
           }
          ],
          "histogram2dcontour": [
           {
            "colorbar": {
             "outlinewidth": 0,
             "ticks": ""
            },
            "colorscale": [
             [
              0,
              "#0d0887"
             ],
             [
              0.1111111111111111,
              "#46039f"
             ],
             [
              0.2222222222222222,
              "#7201a8"
             ],
             [
              0.3333333333333333,
              "#9c179e"
             ],
             [
              0.4444444444444444,
              "#bd3786"
             ],
             [
              0.5555555555555556,
              "#d8576b"
             ],
             [
              0.6666666666666666,
              "#ed7953"
             ],
             [
              0.7777777777777778,
              "#fb9f3a"
             ],
             [
              0.8888888888888888,
              "#fdca26"
             ],
             [
              1,
              "#f0f921"
             ]
            ],
            "type": "histogram2dcontour"
           }
          ],
          "mesh3d": [
           {
            "colorbar": {
             "outlinewidth": 0,
             "ticks": ""
            },
            "type": "mesh3d"
           }
          ],
          "parcoords": [
           {
            "line": {
             "colorbar": {
              "outlinewidth": 0,
              "ticks": ""
             }
            },
            "type": "parcoords"
           }
          ],
          "pie": [
           {
            "automargin": true,
            "type": "pie"
           }
          ],
          "scatter": [
           {
            "fillpattern": {
             "fillmode": "overlay",
             "size": 10,
             "solidity": 0.2
            },
            "type": "scatter"
           }
          ],
          "scatter3d": [
           {
            "line": {
             "colorbar": {
              "outlinewidth": 0,
              "ticks": ""
             }
            },
            "marker": {
             "colorbar": {
              "outlinewidth": 0,
              "ticks": ""
             }
            },
            "type": "scatter3d"
           }
          ],
          "scattercarpet": [
           {
            "marker": {
             "colorbar": {
              "outlinewidth": 0,
              "ticks": ""
             }
            },
            "type": "scattercarpet"
           }
          ],
          "scattergeo": [
           {
            "marker": {
             "colorbar": {
              "outlinewidth": 0,
              "ticks": ""
             }
            },
            "type": "scattergeo"
           }
          ],
          "scattergl": [
           {
            "marker": {
             "colorbar": {
              "outlinewidth": 0,
              "ticks": ""
             }
            },
            "type": "scattergl"
           }
          ],
          "scattermapbox": [
           {
            "marker": {
             "colorbar": {
              "outlinewidth": 0,
              "ticks": ""
             }
            },
            "type": "scattermapbox"
           }
          ],
          "scatterpolar": [
           {
            "marker": {
             "colorbar": {
              "outlinewidth": 0,
              "ticks": ""
             }
            },
            "type": "scatterpolar"
           }
          ],
          "scatterpolargl": [
           {
            "marker": {
             "colorbar": {
              "outlinewidth": 0,
              "ticks": ""
             }
            },
            "type": "scatterpolargl"
           }
          ],
          "scatterternary": [
           {
            "marker": {
             "colorbar": {
              "outlinewidth": 0,
              "ticks": ""
             }
            },
            "type": "scatterternary"
           }
          ],
          "surface": [
           {
            "colorbar": {
             "outlinewidth": 0,
             "ticks": ""
            },
            "colorscale": [
             [
              0,
              "#0d0887"
             ],
             [
              0.1111111111111111,
              "#46039f"
             ],
             [
              0.2222222222222222,
              "#7201a8"
             ],
             [
              0.3333333333333333,
              "#9c179e"
             ],
             [
              0.4444444444444444,
              "#bd3786"
             ],
             [
              0.5555555555555556,
              "#d8576b"
             ],
             [
              0.6666666666666666,
              "#ed7953"
             ],
             [
              0.7777777777777778,
              "#fb9f3a"
             ],
             [
              0.8888888888888888,
              "#fdca26"
             ],
             [
              1,
              "#f0f921"
             ]
            ],
            "type": "surface"
           }
          ],
          "table": [
           {
            "cells": {
             "fill": {
              "color": "#EBF0F8"
             },
             "line": {
              "color": "white"
             }
            },
            "header": {
             "fill": {
              "color": "#C8D4E3"
             },
             "line": {
              "color": "white"
             }
            },
            "type": "table"
           }
          ]
         },
         "layout": {
          "annotationdefaults": {
           "arrowcolor": "#2a3f5f",
           "arrowhead": 0,
           "arrowwidth": 1
          },
          "autotypenumbers": "strict",
          "coloraxis": {
           "colorbar": {
            "outlinewidth": 0,
            "ticks": ""
           }
          },
          "colorscale": {
           "diverging": [
            [
             0,
             "#8e0152"
            ],
            [
             0.1,
             "#c51b7d"
            ],
            [
             0.2,
             "#de77ae"
            ],
            [
             0.3,
             "#f1b6da"
            ],
            [
             0.4,
             "#fde0ef"
            ],
            [
             0.5,
             "#f7f7f7"
            ],
            [
             0.6,
             "#e6f5d0"
            ],
            [
             0.7,
             "#b8e186"
            ],
            [
             0.8,
             "#7fbc41"
            ],
            [
             0.9,
             "#4d9221"
            ],
            [
             1,
             "#276419"
            ]
           ],
           "sequential": [
            [
             0,
             "#0d0887"
            ],
            [
             0.1111111111111111,
             "#46039f"
            ],
            [
             0.2222222222222222,
             "#7201a8"
            ],
            [
             0.3333333333333333,
             "#9c179e"
            ],
            [
             0.4444444444444444,
             "#bd3786"
            ],
            [
             0.5555555555555556,
             "#d8576b"
            ],
            [
             0.6666666666666666,
             "#ed7953"
            ],
            [
             0.7777777777777778,
             "#fb9f3a"
            ],
            [
             0.8888888888888888,
             "#fdca26"
            ],
            [
             1,
             "#f0f921"
            ]
           ],
           "sequentialminus": [
            [
             0,
             "#0d0887"
            ],
            [
             0.1111111111111111,
             "#46039f"
            ],
            [
             0.2222222222222222,
             "#7201a8"
            ],
            [
             0.3333333333333333,
             "#9c179e"
            ],
            [
             0.4444444444444444,
             "#bd3786"
            ],
            [
             0.5555555555555556,
             "#d8576b"
            ],
            [
             0.6666666666666666,
             "#ed7953"
            ],
            [
             0.7777777777777778,
             "#fb9f3a"
            ],
            [
             0.8888888888888888,
             "#fdca26"
            ],
            [
             1,
             "#f0f921"
            ]
           ]
          },
          "colorway": [
           "#636efa",
           "#EF553B",
           "#00cc96",
           "#ab63fa",
           "#FFA15A",
           "#19d3f3",
           "#FF6692",
           "#B6E880",
           "#FF97FF",
           "#FECB52"
          ],
          "font": {
           "color": "#2a3f5f"
          },
          "geo": {
           "bgcolor": "white",
           "lakecolor": "white",
           "landcolor": "#E5ECF6",
           "showlakes": true,
           "showland": true,
           "subunitcolor": "white"
          },
          "hoverlabel": {
           "align": "left"
          },
          "hovermode": "closest",
          "mapbox": {
           "style": "light"
          },
          "paper_bgcolor": "white",
          "plot_bgcolor": "#E5ECF6",
          "polar": {
           "angularaxis": {
            "gridcolor": "white",
            "linecolor": "white",
            "ticks": ""
           },
           "bgcolor": "#E5ECF6",
           "radialaxis": {
            "gridcolor": "white",
            "linecolor": "white",
            "ticks": ""
           }
          },
          "scene": {
           "xaxis": {
            "backgroundcolor": "#E5ECF6",
            "gridcolor": "white",
            "gridwidth": 2,
            "linecolor": "white",
            "showbackground": true,
            "ticks": "",
            "zerolinecolor": "white"
           },
           "yaxis": {
            "backgroundcolor": "#E5ECF6",
            "gridcolor": "white",
            "gridwidth": 2,
            "linecolor": "white",
            "showbackground": true,
            "ticks": "",
            "zerolinecolor": "white"
           },
           "zaxis": {
            "backgroundcolor": "#E5ECF6",
            "gridcolor": "white",
            "gridwidth": 2,
            "linecolor": "white",
            "showbackground": true,
            "ticks": "",
            "zerolinecolor": "white"
           }
          },
          "shapedefaults": {
           "line": {
            "color": "#2a3f5f"
           }
          },
          "ternary": {
           "aaxis": {
            "gridcolor": "white",
            "linecolor": "white",
            "ticks": ""
           },
           "baxis": {
            "gridcolor": "white",
            "linecolor": "white",
            "ticks": ""
           },
           "bgcolor": "#E5ECF6",
           "caxis": {
            "gridcolor": "white",
            "linecolor": "white",
            "ticks": ""
           }
          },
          "title": {
           "x": 0.05
          },
          "xaxis": {
           "automargin": true,
           "gridcolor": "white",
           "linecolor": "white",
           "ticks": "",
           "title": {
            "standoff": 15
           },
           "zerolinecolor": "white",
           "zerolinewidth": 2
          },
          "yaxis": {
           "automargin": true,
           "gridcolor": "white",
           "linecolor": "white",
           "ticks": "",
           "title": {
            "standoff": 15
           },
           "zerolinecolor": "white",
           "zerolinewidth": 2
          }
         }
        },
        "title": {
         "text": "Height and Weight by Type"
        },
        "xaxis": {
         "anchor": "y",
         "domain": [
          0,
          1
         ],
         "title": {
          "text": "Pokemon Height"
         }
        },
        "yaxis": {
         "anchor": "x",
         "domain": [
          0,
          1
         ],
         "title": {
          "text": "Pokemon Weight"
         }
        }
       }
      }
     },
     "metadata": {},
     "output_type": "display_data"
    }
   ],
   "source": [
    "fig = px.scatter(df, x='Pokemon Height', y='Pokemon Weight', color='Primary Type', title='Height and Weight by Type', hover_data=['Pokemon Name', 'Pokedex Number'])\n",
    "fig.show()"
   ]
  },
  {
   "cell_type": "code",
   "execution_count": 94,
   "metadata": {},
   "outputs": [
    {
     "data": {
      "application/vnd.plotly.v1+json": {
       "config": {
        "plotlyServerURL": "https://plot.ly"
       },
       "data": [
        {
         "name": "Health Stat",
         "type": "bar",
         "x": [
          "\"Arceus\"",
          "\"Diancie\"",
          "\"Terapagos\"",
          "\"Eternatus\"",
          "\"Mewtwo\"",
          "\"Lugia\"",
          "\"Ho-Oh\"",
          "\"Rayquaza\"",
          "\"Dialga\"",
          "\"Palkia\""
         ],
         "y": [
          120,
          50,
          160,
          140,
          106,
          106,
          106,
          105,
          100,
          90
         ]
        },
        {
         "name": "Attack Stat",
         "type": "bar",
         "x": [
          "\"Arceus\"",
          "\"Diancie\"",
          "\"Terapagos\"",
          "\"Eternatus\"",
          "\"Mewtwo\"",
          "\"Lugia\"",
          "\"Ho-Oh\"",
          "\"Rayquaza\"",
          "\"Dialga\"",
          "\"Palkia\""
         ],
         "y": [
          120,
          160,
          105,
          85,
          110,
          90,
          130,
          150,
          120,
          120
         ]
        },
        {
         "name": "Defense Stat",
         "type": "bar",
         "x": [
          "\"Arceus\"",
          "\"Diancie\"",
          "\"Terapagos\"",
          "\"Eternatus\"",
          "\"Mewtwo\"",
          "\"Lugia\"",
          "\"Ho-Oh\"",
          "\"Rayquaza\"",
          "\"Dialga\"",
          "\"Palkia\""
         ],
         "y": [
          120,
          110,
          110,
          95,
          90,
          130,
          90,
          90,
          120,
          100
         ]
        },
        {
         "name": "Special Attack Stat",
         "type": "bar",
         "x": [
          "\"Arceus\"",
          "\"Diancie\"",
          "\"Terapagos\"",
          "\"Eternatus\"",
          "\"Mewtwo\"",
          "\"Lugia\"",
          "\"Ho-Oh\"",
          "\"Rayquaza\"",
          "\"Dialga\"",
          "\"Palkia\""
         ],
         "y": [
          120,
          160,
          130,
          145,
          154,
          90,
          110,
          150,
          150,
          150
         ]
        },
        {
         "name": "Special Defense Stat",
         "type": "bar",
         "x": [
          "\"Arceus\"",
          "\"Diancie\"",
          "\"Terapagos\"",
          "\"Eternatus\"",
          "\"Mewtwo\"",
          "\"Lugia\"",
          "\"Ho-Oh\"",
          "\"Rayquaza\"",
          "\"Dialga\"",
          "\"Palkia\""
         ],
         "y": [
          120,
          110,
          110,
          95,
          90,
          154,
          154,
          90,
          100,
          120
         ]
        },
        {
         "name": "Speed Stat",
         "type": "bar",
         "x": [
          "\"Arceus\"",
          "\"Diancie\"",
          "\"Terapagos\"",
          "\"Eternatus\"",
          "\"Mewtwo\"",
          "\"Lugia\"",
          "\"Ho-Oh\"",
          "\"Rayquaza\"",
          "\"Dialga\"",
          "\"Palkia\""
         ],
         "y": [
          120,
          110,
          85,
          130,
          130,
          110,
          90,
          95,
          90,
          100
         ]
        }
       ],
       "layout": {
        "barmode": "stack",
        "template": {
         "data": {
          "bar": [
           {
            "error_x": {
             "color": "#2a3f5f"
            },
            "error_y": {
             "color": "#2a3f5f"
            },
            "marker": {
             "line": {
              "color": "#E5ECF6",
              "width": 0.5
             },
             "pattern": {
              "fillmode": "overlay",
              "size": 10,
              "solidity": 0.2
             }
            },
            "type": "bar"
           }
          ],
          "barpolar": [
           {
            "marker": {
             "line": {
              "color": "#E5ECF6",
              "width": 0.5
             },
             "pattern": {
              "fillmode": "overlay",
              "size": 10,
              "solidity": 0.2
             }
            },
            "type": "barpolar"
           }
          ],
          "carpet": [
           {
            "aaxis": {
             "endlinecolor": "#2a3f5f",
             "gridcolor": "white",
             "linecolor": "white",
             "minorgridcolor": "white",
             "startlinecolor": "#2a3f5f"
            },
            "baxis": {
             "endlinecolor": "#2a3f5f",
             "gridcolor": "white",
             "linecolor": "white",
             "minorgridcolor": "white",
             "startlinecolor": "#2a3f5f"
            },
            "type": "carpet"
           }
          ],
          "choropleth": [
           {
            "colorbar": {
             "outlinewidth": 0,
             "ticks": ""
            },
            "type": "choropleth"
           }
          ],
          "contour": [
           {
            "colorbar": {
             "outlinewidth": 0,
             "ticks": ""
            },
            "colorscale": [
             [
              0,
              "#0d0887"
             ],
             [
              0.1111111111111111,
              "#46039f"
             ],
             [
              0.2222222222222222,
              "#7201a8"
             ],
             [
              0.3333333333333333,
              "#9c179e"
             ],
             [
              0.4444444444444444,
              "#bd3786"
             ],
             [
              0.5555555555555556,
              "#d8576b"
             ],
             [
              0.6666666666666666,
              "#ed7953"
             ],
             [
              0.7777777777777778,
              "#fb9f3a"
             ],
             [
              0.8888888888888888,
              "#fdca26"
             ],
             [
              1,
              "#f0f921"
             ]
            ],
            "type": "contour"
           }
          ],
          "contourcarpet": [
           {
            "colorbar": {
             "outlinewidth": 0,
             "ticks": ""
            },
            "type": "contourcarpet"
           }
          ],
          "heatmap": [
           {
            "colorbar": {
             "outlinewidth": 0,
             "ticks": ""
            },
            "colorscale": [
             [
              0,
              "#0d0887"
             ],
             [
              0.1111111111111111,
              "#46039f"
             ],
             [
              0.2222222222222222,
              "#7201a8"
             ],
             [
              0.3333333333333333,
              "#9c179e"
             ],
             [
              0.4444444444444444,
              "#bd3786"
             ],
             [
              0.5555555555555556,
              "#d8576b"
             ],
             [
              0.6666666666666666,
              "#ed7953"
             ],
             [
              0.7777777777777778,
              "#fb9f3a"
             ],
             [
              0.8888888888888888,
              "#fdca26"
             ],
             [
              1,
              "#f0f921"
             ]
            ],
            "type": "heatmap"
           }
          ],
          "heatmapgl": [
           {
            "colorbar": {
             "outlinewidth": 0,
             "ticks": ""
            },
            "colorscale": [
             [
              0,
              "#0d0887"
             ],
             [
              0.1111111111111111,
              "#46039f"
             ],
             [
              0.2222222222222222,
              "#7201a8"
             ],
             [
              0.3333333333333333,
              "#9c179e"
             ],
             [
              0.4444444444444444,
              "#bd3786"
             ],
             [
              0.5555555555555556,
              "#d8576b"
             ],
             [
              0.6666666666666666,
              "#ed7953"
             ],
             [
              0.7777777777777778,
              "#fb9f3a"
             ],
             [
              0.8888888888888888,
              "#fdca26"
             ],
             [
              1,
              "#f0f921"
             ]
            ],
            "type": "heatmapgl"
           }
          ],
          "histogram": [
           {
            "marker": {
             "pattern": {
              "fillmode": "overlay",
              "size": 10,
              "solidity": 0.2
             }
            },
            "type": "histogram"
           }
          ],
          "histogram2d": [
           {
            "colorbar": {
             "outlinewidth": 0,
             "ticks": ""
            },
            "colorscale": [
             [
              0,
              "#0d0887"
             ],
             [
              0.1111111111111111,
              "#46039f"
             ],
             [
              0.2222222222222222,
              "#7201a8"
             ],
             [
              0.3333333333333333,
              "#9c179e"
             ],
             [
              0.4444444444444444,
              "#bd3786"
             ],
             [
              0.5555555555555556,
              "#d8576b"
             ],
             [
              0.6666666666666666,
              "#ed7953"
             ],
             [
              0.7777777777777778,
              "#fb9f3a"
             ],
             [
              0.8888888888888888,
              "#fdca26"
             ],
             [
              1,
              "#f0f921"
             ]
            ],
            "type": "histogram2d"
           }
          ],
          "histogram2dcontour": [
           {
            "colorbar": {
             "outlinewidth": 0,
             "ticks": ""
            },
            "colorscale": [
             [
              0,
              "#0d0887"
             ],
             [
              0.1111111111111111,
              "#46039f"
             ],
             [
              0.2222222222222222,
              "#7201a8"
             ],
             [
              0.3333333333333333,
              "#9c179e"
             ],
             [
              0.4444444444444444,
              "#bd3786"
             ],
             [
              0.5555555555555556,
              "#d8576b"
             ],
             [
              0.6666666666666666,
              "#ed7953"
             ],
             [
              0.7777777777777778,
              "#fb9f3a"
             ],
             [
              0.8888888888888888,
              "#fdca26"
             ],
             [
              1,
              "#f0f921"
             ]
            ],
            "type": "histogram2dcontour"
           }
          ],
          "mesh3d": [
           {
            "colorbar": {
             "outlinewidth": 0,
             "ticks": ""
            },
            "type": "mesh3d"
           }
          ],
          "parcoords": [
           {
            "line": {
             "colorbar": {
              "outlinewidth": 0,
              "ticks": ""
             }
            },
            "type": "parcoords"
           }
          ],
          "pie": [
           {
            "automargin": true,
            "type": "pie"
           }
          ],
          "scatter": [
           {
            "fillpattern": {
             "fillmode": "overlay",
             "size": 10,
             "solidity": 0.2
            },
            "type": "scatter"
           }
          ],
          "scatter3d": [
           {
            "line": {
             "colorbar": {
              "outlinewidth": 0,
              "ticks": ""
             }
            },
            "marker": {
             "colorbar": {
              "outlinewidth": 0,
              "ticks": ""
             }
            },
            "type": "scatter3d"
           }
          ],
          "scattercarpet": [
           {
            "marker": {
             "colorbar": {
              "outlinewidth": 0,
              "ticks": ""
             }
            },
            "type": "scattercarpet"
           }
          ],
          "scattergeo": [
           {
            "marker": {
             "colorbar": {
              "outlinewidth": 0,
              "ticks": ""
             }
            },
            "type": "scattergeo"
           }
          ],
          "scattergl": [
           {
            "marker": {
             "colorbar": {
              "outlinewidth": 0,
              "ticks": ""
             }
            },
            "type": "scattergl"
           }
          ],
          "scattermapbox": [
           {
            "marker": {
             "colorbar": {
              "outlinewidth": 0,
              "ticks": ""
             }
            },
            "type": "scattermapbox"
           }
          ],
          "scatterpolar": [
           {
            "marker": {
             "colorbar": {
              "outlinewidth": 0,
              "ticks": ""
             }
            },
            "type": "scatterpolar"
           }
          ],
          "scatterpolargl": [
           {
            "marker": {
             "colorbar": {
              "outlinewidth": 0,
              "ticks": ""
             }
            },
            "type": "scatterpolargl"
           }
          ],
          "scatterternary": [
           {
            "marker": {
             "colorbar": {
              "outlinewidth": 0,
              "ticks": ""
             }
            },
            "type": "scatterternary"
           }
          ],
          "surface": [
           {
            "colorbar": {
             "outlinewidth": 0,
             "ticks": ""
            },
            "colorscale": [
             [
              0,
              "#0d0887"
             ],
             [
              0.1111111111111111,
              "#46039f"
             ],
             [
              0.2222222222222222,
              "#7201a8"
             ],
             [
              0.3333333333333333,
              "#9c179e"
             ],
             [
              0.4444444444444444,
              "#bd3786"
             ],
             [
              0.5555555555555556,
              "#d8576b"
             ],
             [
              0.6666666666666666,
              "#ed7953"
             ],
             [
              0.7777777777777778,
              "#fb9f3a"
             ],
             [
              0.8888888888888888,
              "#fdca26"
             ],
             [
              1,
              "#f0f921"
             ]
            ],
            "type": "surface"
           }
          ],
          "table": [
           {
            "cells": {
             "fill": {
              "color": "#EBF0F8"
             },
             "line": {
              "color": "white"
             }
            },
            "header": {
             "fill": {
              "color": "#C8D4E3"
             },
             "line": {
              "color": "white"
             }
            },
            "type": "table"
           }
          ]
         },
         "layout": {
          "annotationdefaults": {
           "arrowcolor": "#2a3f5f",
           "arrowhead": 0,
           "arrowwidth": 1
          },
          "autotypenumbers": "strict",
          "coloraxis": {
           "colorbar": {
            "outlinewidth": 0,
            "ticks": ""
           }
          },
          "colorscale": {
           "diverging": [
            [
             0,
             "#8e0152"
            ],
            [
             0.1,
             "#c51b7d"
            ],
            [
             0.2,
             "#de77ae"
            ],
            [
             0.3,
             "#f1b6da"
            ],
            [
             0.4,
             "#fde0ef"
            ],
            [
             0.5,
             "#f7f7f7"
            ],
            [
             0.6,
             "#e6f5d0"
            ],
            [
             0.7,
             "#b8e186"
            ],
            [
             0.8,
             "#7fbc41"
            ],
            [
             0.9,
             "#4d9221"
            ],
            [
             1,
             "#276419"
            ]
           ],
           "sequential": [
            [
             0,
             "#0d0887"
            ],
            [
             0.1111111111111111,
             "#46039f"
            ],
            [
             0.2222222222222222,
             "#7201a8"
            ],
            [
             0.3333333333333333,
             "#9c179e"
            ],
            [
             0.4444444444444444,
             "#bd3786"
            ],
            [
             0.5555555555555556,
             "#d8576b"
            ],
            [
             0.6666666666666666,
             "#ed7953"
            ],
            [
             0.7777777777777778,
             "#fb9f3a"
            ],
            [
             0.8888888888888888,
             "#fdca26"
            ],
            [
             1,
             "#f0f921"
            ]
           ],
           "sequentialminus": [
            [
             0,
             "#0d0887"
            ],
            [
             0.1111111111111111,
             "#46039f"
            ],
            [
             0.2222222222222222,
             "#7201a8"
            ],
            [
             0.3333333333333333,
             "#9c179e"
            ],
            [
             0.4444444444444444,
             "#bd3786"
            ],
            [
             0.5555555555555556,
             "#d8576b"
            ],
            [
             0.6666666666666666,
             "#ed7953"
            ],
            [
             0.7777777777777778,
             "#fb9f3a"
            ],
            [
             0.8888888888888888,
             "#fdca26"
            ],
            [
             1,
             "#f0f921"
            ]
           ]
          },
          "colorway": [
           "#636efa",
           "#EF553B",
           "#00cc96",
           "#ab63fa",
           "#FFA15A",
           "#19d3f3",
           "#FF6692",
           "#B6E880",
           "#FF97FF",
           "#FECB52"
          ],
          "font": {
           "color": "#2a3f5f"
          },
          "geo": {
           "bgcolor": "white",
           "lakecolor": "white",
           "landcolor": "#E5ECF6",
           "showlakes": true,
           "showland": true,
           "subunitcolor": "white"
          },
          "hoverlabel": {
           "align": "left"
          },
          "hovermode": "closest",
          "mapbox": {
           "style": "light"
          },
          "paper_bgcolor": "white",
          "plot_bgcolor": "#E5ECF6",
          "polar": {
           "angularaxis": {
            "gridcolor": "white",
            "linecolor": "white",
            "ticks": ""
           },
           "bgcolor": "#E5ECF6",
           "radialaxis": {
            "gridcolor": "white",
            "linecolor": "white",
            "ticks": ""
           }
          },
          "scene": {
           "xaxis": {
            "backgroundcolor": "#E5ECF6",
            "gridcolor": "white",
            "gridwidth": 2,
            "linecolor": "white",
            "showbackground": true,
            "ticks": "",
            "zerolinecolor": "white"
           },
           "yaxis": {
            "backgroundcolor": "#E5ECF6",
            "gridcolor": "white",
            "gridwidth": 2,
            "linecolor": "white",
            "showbackground": true,
            "ticks": "",
            "zerolinecolor": "white"
           },
           "zaxis": {
            "backgroundcolor": "#E5ECF6",
            "gridcolor": "white",
            "gridwidth": 2,
            "linecolor": "white",
            "showbackground": true,
            "ticks": "",
            "zerolinecolor": "white"
           }
          },
          "shapedefaults": {
           "line": {
            "color": "#2a3f5f"
           }
          },
          "ternary": {
           "aaxis": {
            "gridcolor": "white",
            "linecolor": "white",
            "ticks": ""
           },
           "baxis": {
            "gridcolor": "white",
            "linecolor": "white",
            "ticks": ""
           },
           "bgcolor": "#E5ECF6",
           "caxis": {
            "gridcolor": "white",
            "linecolor": "white",
            "ticks": ""
           }
          },
          "title": {
           "x": 0.05
          },
          "xaxis": {
           "automargin": true,
           "gridcolor": "white",
           "linecolor": "white",
           "ticks": "",
           "title": {
            "standoff": 15
           },
           "zerolinecolor": "white",
           "zerolinewidth": 2
          },
          "yaxis": {
           "automargin": true,
           "gridcolor": "white",
           "linecolor": "white",
           "ticks": "",
           "title": {
            "standoff": 15
           },
           "zerolinecolor": "white",
           "zerolinewidth": 2
          }
         }
        },
        "title": {
         "text": "Top 50 Pokémon based on Base Stat Total (no mega forms)"
        },
        "xaxis": {
         "title": {
          "text": "Pokémon"
         }
        },
        "yaxis": {
         "title": {
          "text": "Base Stat Total"
         }
        }
       }
      }
     },
     "metadata": {},
     "output_type": "display_data"
    }
   ],
   "source": [
    "\n",
    "top_10_pokemon = df.drop_duplicates(subset='Pokemon Name').nlargest(10, 'Base Stat Total')\n",
    "\n",
    "# Create the bar plot\n",
    "fig = go.Figure(data=go.Bar(x=top_10_pokemon['Pokemon Name'], y=top_10_pokemon['Health Stat'] , name='Health Stat'))\n",
    "fig.add_trace(go.Bar(x=top_10_pokemon['Pokemon Name'], y=top_10_pokemon['Attack Stat'], name='Attack Stat'))\n",
    "fig.add_trace(go.Bar(x=top_10_pokemon['Pokemon Name'], y=top_10_pokemon['Defense Stat'], name='Defense Stat'))\n",
    "fig.add_trace(go.Bar(x=top_10_pokemon['Pokemon Name'], y=top_10_pokemon['Special Attack Stat'], name='Special Attack Stat'))\n",
    "fig.add_trace(go.Bar(x=top_10_pokemon['Pokemon Name'], y=top_10_pokemon['Special Defense Stat'], name='Special Defense Stat'))\n",
    "fig.add_trace(go.Bar(x=top_10_pokemon['Pokemon Name'], y=top_10_pokemon['Speed Stat'], name='Speed Stat'))\n",
    "\n",
    "\n",
    "\n",
    "# Set the plot title and axis labels\n",
    "fig.update_layout(barmode = \"stack\",title='Top 50 Pokémon based on Base Stat Total (no mega forms)', xaxis_title='Pokémon', yaxis_title='Base Stat Total')\n",
    "\n",
    "# Show the plot\n",
    "fig.show()"
   ]
  },
  {
   "cell_type": "code",
   "execution_count": null,
   "metadata": {},
   "outputs": [],
   "source": []
  }
 ],
 "metadata": {
  "kernelspec": {
   "display_name": "base",
   "language": "python",
   "name": "python3"
  },
  "language_info": {
   "codemirror_mode": {
    "name": "ipython",
    "version": 3
   },
   "file_extension": ".py",
   "mimetype": "text/x-python",
   "name": "python",
   "nbconvert_exporter": "python",
   "pygments_lexer": "ipython3",
   "version": "3.11.5"
  }
 },
 "nbformat": 4,
 "nbformat_minor": 2
}
